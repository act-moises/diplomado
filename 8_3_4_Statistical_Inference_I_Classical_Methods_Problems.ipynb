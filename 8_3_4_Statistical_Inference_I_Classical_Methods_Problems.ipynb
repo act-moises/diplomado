{
  "nbformat": 4,
  "nbformat_minor": 0,
  "metadata": {
    "colab": {
      "provenance": [],
      "authorship_tag": "ABX9TyOL8t/3Ur6bPbrX3Ysbcvdx",
      "include_colab_link": true
    },
    "kernelspec": {
      "name": "python3",
      "display_name": "Python 3"
    },
    "language_info": {
      "name": "python"
    }
  },
  "cells": [
    {
      "cell_type": "markdown",
      "metadata": {
        "id": "view-in-github",
        "colab_type": "text"
      },
      "source": [
        "<a href=\"https://colab.research.google.com/github/act-moises/diplomado/blob/main/8_3_4_Statistical_Inference_I_Classical_Methods_Problems.ipynb\" target=\"_parent\"><img src=\"https://colab.research.google.com/assets/colab-badge.svg\" alt=\"Open In Colab\"/></a>"
      ]
    },
    {
      "cell_type": "markdown",
      "source": [
        "### 8.3.4 Solved Problems\n"
      ],
      "metadata": {
        "id": "p3WeD_GWhnlG"
      }
    },
    {
      "cell_type": "markdown",
      "source": [
        "### Problema 2"
      ],
      "metadata": {
        "id": "3pjrbICchu__"
      }
    },
    {
      "cell_type": "code",
      "source": [
        "import scipy.stats as stats\n",
        "\n",
        "# Valores reportados\n",
        "n = 100  # muestra\n",
        "sample_mean = 23.5  # promedio de la muestra\n",
        "variance = 16  # valor de la varianza\n",
        "std_dev = variance ** 0.5  # desviación estandar\n",
        "\n",
        "# Error cuadrático medio\n",
        "standard_error = std_dev / (n ** 0.5)\n",
        "\n",
        "# Invervalo de confinaza\n",
        "# Para un 95% de confianza, usamos z-score 95%.\n",
        "z_score = stats.norm.ppf(0.975)\n",
        "\n",
        "# Margen de error\n",
        "margin_of_error = z_score * standard_error\n",
        "\n",
        "# Cálculo de intervalo de confianza\n",
        "confidence_interval = (sample_mean - margin_of_error, sample_mean + margin_of_error)\n",
        "confidence_interval\n"
      ],
      "metadata": {
        "colab": {
          "base_uri": "https://localhost:8080/"
        },
        "id": "n4596f2qgzea",
        "outputId": "b2c13299-556b-4c57-a543-e6cb8f3b0a99"
      },
      "execution_count": 2,
      "outputs": [
        {
          "output_type": "execute_result",
          "data": {
            "text/plain": [
              "(22.71601440618398, 24.28398559381602)"
            ]
          },
          "metadata": {},
          "execution_count": 2
        }
      ]
    },
    {
      "cell_type": "markdown",
      "source": [
        "### Problema 3"
      ],
      "metadata": {
        "id": "kvvuQdxYh0hY"
      }
    },
    {
      "cell_type": "code",
      "source": [
        "# Z-score para 90%\n",
        "z_score_90 = stats.norm.ppf(0.95)\n",
        "\n",
        "# Margen de error\n",
        "margin_of_error = 0.03\n",
        "\n",
        "# Peor esenario\n",
        "p_hat = 0.5\n",
        "\n",
        "# Resolviendo para n usando la formula de margen de error\n",
        "n_required = (z_score_90 ** 2 * p_hat * (1 - p_hat)) / (margin_of_error ** 2)\n",
        "n_required"
      ],
      "metadata": {
        "colab": {
          "base_uri": "https://localhost:8080/"
        },
        "id": "v7fL2uzciQk9",
        "outputId": "aba7fc40-363a-4821-90ed-a7b75e14ce87"
      },
      "execution_count": 3,
      "outputs": [
        {
          "output_type": "execute_result",
          "data": {
            "text/plain": [
              "751.5398483598369"
            ]
          },
          "metadata": {},
          "execution_count": 3
        }
      ]
    },
    {
      "cell_type": "markdown",
      "source": [
        "### Problema 4"
      ],
      "metadata": {
        "id": "6vSlrRvukNfN"
      }
    },
    {
      "cell_type": "code",
      "source": [
        "import numpy as np\n",
        "\n",
        "# Definir valores arbitrarios para a, b y alfa\n",
        "a = 0\n",
        "b = 10\n",
        "alpha = 0.05\n",
        "n = 1000  # Tamaño de la muestra\n",
        "\n",
        "# Generar una muestra aleatoria de tamaño n de una distribución uniforme entre a y b\n",
        "# Esta es solo una elección arbitraria para demostrar; la distribución real es desconocida\n",
        "sample = np.random.uniform(a, b, n)\n",
        "\n",
        "# Calcular la media muestral\n",
        "sample_mean = np.mean(sample)\n",
        "\n",
        "# Desviación estándar de la muestra\n",
        "sample_std = np.std(sample, ddof=1)\n",
        "\n",
        "# Error estándar de la media\n",
        "standard_error = sample_std / np.sqrt(n)\n",
        "\n",
        "# Encontrar el valor crítico para un intervalo de confianza de (1 - alpha) * 100%\n",
        "z_critical = stats.norm.ppf(1 - alpha / 2)\n",
        "\n",
        "# Calcular el intervalo de confianza para la media\n",
        "margin_of_error = z_critical * standard_error\n",
        "confidence_interval = (sample_mean - margin_of_error, sample_mean + margin_of_error)\n",
        "\n",
        "(sample_mean, standard_error, z_critical, confidence_interval)\n"
      ],
      "metadata": {
        "colab": {
          "base_uri": "https://localhost:8080/"
        },
        "id": "ZBA-fwrHkPRi",
        "outputId": "5d55be5c-979b-4ed6-b916-8cae899fc3fd"
      },
      "execution_count": 4,
      "outputs": [
        {
          "output_type": "execute_result",
          "data": {
            "text/plain": [
              "(4.959171405311368,\n",
              " 0.09087824552601774,\n",
              " 1.959963984540054,\n",
              " (4.7810533171021845, 5.1372894935205515))"
            ]
          },
          "metadata": {},
          "execution_count": 4
        }
      ]
    },
    {
      "cell_type": "markdown",
      "source": [
        "### Probelma 5"
      ],
      "metadata": {
        "id": "PtpE3asIlW9r"
      }
    },
    {
      "cell_type": "code",
      "source": [
        "# Valores dados del problema\n",
        "n = 144  # Tamaño de la muestra\n",
        "sample_mean = 55.2  # Media muestral\n",
        "sample_variance = 34.5  # Varianza muestral\n",
        "alpha = 0.01  # Nivel de significancia para un 99% de intervalo de confianza\n",
        "\n",
        "# Calcular la desviación estándar muestral\n",
        "sample_std_dev = np.sqrt(sample_variance)\n",
        "\n",
        "# Error estándar de la media\n",
        "standard_error = sample_std_dev / np.sqrt(n)\n",
        "\n",
        "# Distribución t de Student porque la varianza de la población es desconocida\n",
        "# Grados de libertad para la t de Student\n",
        "degrees_of_freedom = n - 1\n",
        "\n",
        "# Valor crítico t para un intervalo de confianza del 99%\n",
        "t_critical = stats.t.ppf(1 - alpha / 2, degrees_of_freedom)\n",
        "\n",
        "# Intervalo de confianza para la media\n",
        "margin_of_error = t_critical * standard_error\n",
        "confidence_interval = (sample_mean - margin_of_error, sample_mean + margin_of_error)\n",
        "\n",
        "confidence_interval\n"
      ],
      "metadata": {
        "colab": {
          "base_uri": "https://localhost:8080/"
        },
        "id": "CI0AB3YVlZJr",
        "outputId": "c40e3776-d700-4590-b5de-9751af0dedc8"
      },
      "execution_count": 7,
      "outputs": [
        {
          "output_type": "execute_result",
          "data": {
            "text/plain": [
              "(53.92216008451527, 56.477839915484736)"
            ]
          },
          "metadata": {},
          "execution_count": 7
        }
      ]
    },
    {
      "cell_type": "markdown",
      "source": [
        "### Problema 6"
      ],
      "metadata": {
        "id": "eIJxGmrNoXwM"
      }
    },
    {
      "cell_type": "code",
      "source": [
        "# Valores\n",
        "n = 16  # Tamaño de la muestra\n",
        "sample_mean = 16.7  # Media muestral\n",
        "sample_variance = 7.5  # Varianza muestral\n",
        "alpha = 0.05  # Nivel de significancia\n",
        "\n",
        "# Desviación estándar muestral\n",
        "sample_std_dev = np.sqrt(sample_variance)\n",
        "\n",
        "# Error estándar de la media\n",
        "standard_error = sample_std_dev / np.sqrt(n)\n",
        "\n",
        "# Valor crítico t para la media\n",
        "t_critical = stats.t.ppf(1 - alpha / 2, n - 1)\n",
        "\n",
        "# Intervalo de confianza para la media\n",
        "margin_of_error_mu = t_critical * standard_error\n",
        "confidence_interval_mu = (sample_mean - margin_of_error_mu, sample_mean + margin_of_error_mu)\n",
        "\n",
        "# Valores críticos chi-cuadrado para la varianza\n",
        "chi2_lower = stats.chi2.ppf(alpha / 2, n - 1)\n",
        "chi2_upper = stats.chi2.ppf(1 - alpha / 2, n - 1)\n",
        "\n",
        "# Intervalo de confianza para la varianza\n",
        "confidence_interval_var = (\n",
        "    (n - 1) * sample_variance / chi2_upper,\n",
        "    (n - 1) * sample_variance / chi2_lower\n",
        ")\n",
        "\n",
        "(confidence_interval_mu, confidence_interval_var)\n"
      ],
      "metadata": {
        "colab": {
          "base_uri": "https://localhost:8080/"
        },
        "id": "zHMzWY7kn751",
        "outputId": "9ad96836-33c1-4b56-9b60-625e8dcb0bd6"
      },
      "execution_count": 9,
      "outputs": [
        {
          "output_type": "execute_result",
          "data": {
            "text/plain": [
              "((15.240696254641279, 18.15930374535872),\n",
              " (4.092636501481853, 17.965110906541934))"
            ]
          },
          "metadata": {},
          "execution_count": 9
        }
      ]
    }
  ]
}