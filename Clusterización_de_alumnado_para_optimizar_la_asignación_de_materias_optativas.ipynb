{
  "nbformat": 4,
  "nbformat_minor": 0,
  "metadata": {
    "colab": {
      "provenance": [],
      "include_colab_link": true
    },
    "kernelspec": {
      "name": "ir",
      "display_name": "R"
    },
    "language_info": {
      "name": "R"
    }
  },
  "cells": [
    {
      "cell_type": "markdown",
      "metadata": {
        "id": "view-in-github",
        "colab_type": "text"
      },
      "source": [
        "<a href=\"https://colab.research.google.com/github/act-moises/diplomado/blob/main/Clusterizaci%C3%B3n_de_alumnado_para_optimizar_la_asignaci%C3%B3n_de_materias_optativas.ipynb\" target=\"_parent\"><img src=\"https://colab.research.google.com/assets/colab-badge.svg\" alt=\"Open In Colab\"/></a>"
      ]
    },
    {
      "cell_type": "code",
      "source": [
        "library(ggplot2)\n",
        "library(dplyr)\n",
        "library(tidyverse)\n",
        "library(tidyr)\n",
        "library(stats)"
      ],
      "metadata": {
        "id": "4vGsHi2AB5Xk"
      },
      "execution_count": 100,
      "outputs": []
    },
    {
      "cell_type": "code",
      "source": [
        "# cargar información ya limpia\n",
        "data <- read.csv('Data_limpia.csv')\n",
        "View(data)"
      ],
      "metadata": {
        "id": "dQXbvrNpCCgN",
        "colab": {
          "base_uri": "https://localhost:8080/",
          "height": 1000
        },
        "outputId": "3cb94949-0d78-4cfc-8afb-eed58e609666"
      },
      "execution_count": 101,
      "outputs": [
        {
          "output_type": "display_data",
          "data": {
            "text/plain": [
              "    Individuo Orden.de.preferencia Clave\n",
              "1   1         5                    2030 \n",
              "2   1         4                    2031 \n",
              "3   1         3                    2049 \n",
              "4   1         2                    2046 \n",
              "5   1         1                    2047 \n",
              "6   2         5                    2035 \n",
              "7   2         4                    2056 \n",
              "8   2         3                    2036 \n",
              "9   2         2                    2040 \n",
              "10  2         1                    2046 \n",
              "11  3         5                    2034 \n",
              "12  3         4                    2039 \n",
              "13  3         3                    2051 \n",
              "14  3         2                    2049 \n",
              "15  3         1                    2044 \n",
              "16  4         5                    2035 \n",
              "17  4         4                    2043 \n",
              "18  4         3                    2033 \n",
              "19  4         2                    2049 \n",
              "20  4         1                    2054 \n",
              "21  5         5                    2039 \n",
              "22  5         4                    2044 \n",
              "23  5         3                    2033 \n",
              "24  5         2                    2043 \n",
              "25  5         1                    2046 \n",
              "26  6         5                    2033 \n",
              "27  6         4                    2048 \n",
              "28  6         3                    2043 \n",
              "29  6         2                    2046 \n",
              "30  6         1                    2049 \n",
              "⋮   ⋮         ⋮                    ⋮    \n",
              "580 119       5                    2048 \n",
              "581 119       4                    2032 \n",
              "582 119       3                    2033 \n",
              "583 119       2                    2055 \n",
              "584 119       1                    2039 \n",
              "585 120       5                    2032 \n",
              "586 120       4                    2031 \n",
              "587 120       3                    2039 \n",
              "588 120       2                    2033 \n",
              "589 120       1                    2049 \n",
              "590 121       5                    2039 \n",
              "591 121       4                    2032 \n",
              "592 121       3                    2034 \n",
              "593 121       2                    2031 \n",
              "594 121       1                    2048 \n",
              "595 122       5                    2048 \n",
              "596 122       4                    2046 \n",
              "597 122       3                    2041 \n",
              "598 122       2                    2039 \n",
              "599 122       1                    2040 \n",
              "600 123       5                    2033 \n",
              "601 123       4                    2031 \n",
              "602 123       3                    2032 \n",
              "603 123       2                    2048 \n",
              "604 123       1                    2049 \n",
              "605 124       5                    2039 \n",
              "606 124       4                    2048 \n",
              "607 124       3                    2032 \n",
              "608 124       2                    2055 \n",
              "609 124       1                    2031 "
            ],
            "text/html": [
              "<table class=\"dataframe\">\n",
              "<caption>A data.frame: 609 × 3</caption>\n",
              "<thead>\n",
              "\t<tr><th scope=col>Individuo</th><th scope=col>Orden.de.preferencia</th><th scope=col>Clave</th></tr>\n",
              "\t<tr><th scope=col>&lt;int&gt;</th><th scope=col>&lt;int&gt;</th><th scope=col>&lt;int&gt;</th></tr>\n",
              "</thead>\n",
              "<tbody>\n",
              "\t<tr><td>1</td><td>5</td><td>2030</td></tr>\n",
              "\t<tr><td>1</td><td>4</td><td>2031</td></tr>\n",
              "\t<tr><td>1</td><td>3</td><td>2049</td></tr>\n",
              "\t<tr><td>1</td><td>2</td><td>2046</td></tr>\n",
              "\t<tr><td>1</td><td>1</td><td>2047</td></tr>\n",
              "\t<tr><td>2</td><td>5</td><td>2035</td></tr>\n",
              "\t<tr><td>2</td><td>4</td><td>2056</td></tr>\n",
              "\t<tr><td>2</td><td>3</td><td>2036</td></tr>\n",
              "\t<tr><td>2</td><td>2</td><td>2040</td></tr>\n",
              "\t<tr><td>2</td><td>1</td><td>2046</td></tr>\n",
              "\t<tr><td>3</td><td>5</td><td>2034</td></tr>\n",
              "\t<tr><td>3</td><td>4</td><td>2039</td></tr>\n",
              "\t<tr><td>3</td><td>3</td><td>2051</td></tr>\n",
              "\t<tr><td>3</td><td>2</td><td>2049</td></tr>\n",
              "\t<tr><td>3</td><td>1</td><td>2044</td></tr>\n",
              "\t<tr><td>4</td><td>5</td><td>2035</td></tr>\n",
              "\t<tr><td>4</td><td>4</td><td>2043</td></tr>\n",
              "\t<tr><td>4</td><td>3</td><td>2033</td></tr>\n",
              "\t<tr><td>4</td><td>2</td><td>2049</td></tr>\n",
              "\t<tr><td>4</td><td>1</td><td>2054</td></tr>\n",
              "\t<tr><td>5</td><td>5</td><td>2039</td></tr>\n",
              "\t<tr><td>5</td><td>4</td><td>2044</td></tr>\n",
              "\t<tr><td>5</td><td>3</td><td>2033</td></tr>\n",
              "\t<tr><td>5</td><td>2</td><td>2043</td></tr>\n",
              "\t<tr><td>5</td><td>1</td><td>2046</td></tr>\n",
              "\t<tr><td>6</td><td>5</td><td>2033</td></tr>\n",
              "\t<tr><td>6</td><td>4</td><td>2048</td></tr>\n",
              "\t<tr><td>6</td><td>3</td><td>2043</td></tr>\n",
              "\t<tr><td>6</td><td>2</td><td>2046</td></tr>\n",
              "\t<tr><td>6</td><td>1</td><td>2049</td></tr>\n",
              "\t<tr><td>⋮</td><td>⋮</td><td>⋮</td></tr>\n",
              "\t<tr><td>119</td><td>5</td><td>2048</td></tr>\n",
              "\t<tr><td>119</td><td>4</td><td>2032</td></tr>\n",
              "\t<tr><td>119</td><td>3</td><td>2033</td></tr>\n",
              "\t<tr><td>119</td><td>2</td><td>2055</td></tr>\n",
              "\t<tr><td>119</td><td>1</td><td>2039</td></tr>\n",
              "\t<tr><td>120</td><td>5</td><td>2032</td></tr>\n",
              "\t<tr><td>120</td><td>4</td><td>2031</td></tr>\n",
              "\t<tr><td>120</td><td>3</td><td>2039</td></tr>\n",
              "\t<tr><td>120</td><td>2</td><td>2033</td></tr>\n",
              "\t<tr><td>120</td><td>1</td><td>2049</td></tr>\n",
              "\t<tr><td>121</td><td>5</td><td>2039</td></tr>\n",
              "\t<tr><td>121</td><td>4</td><td>2032</td></tr>\n",
              "\t<tr><td>121</td><td>3</td><td>2034</td></tr>\n",
              "\t<tr><td>121</td><td>2</td><td>2031</td></tr>\n",
              "\t<tr><td>121</td><td>1</td><td>2048</td></tr>\n",
              "\t<tr><td>122</td><td>5</td><td>2048</td></tr>\n",
              "\t<tr><td>122</td><td>4</td><td>2046</td></tr>\n",
              "\t<tr><td>122</td><td>3</td><td>2041</td></tr>\n",
              "\t<tr><td>122</td><td>2</td><td>2039</td></tr>\n",
              "\t<tr><td>122</td><td>1</td><td>2040</td></tr>\n",
              "\t<tr><td>123</td><td>5</td><td>2033</td></tr>\n",
              "\t<tr><td>123</td><td>4</td><td>2031</td></tr>\n",
              "\t<tr><td>123</td><td>3</td><td>2032</td></tr>\n",
              "\t<tr><td>123</td><td>2</td><td>2048</td></tr>\n",
              "\t<tr><td>123</td><td>1</td><td>2049</td></tr>\n",
              "\t<tr><td>124</td><td>5</td><td>2039</td></tr>\n",
              "\t<tr><td>124</td><td>4</td><td>2048</td></tr>\n",
              "\t<tr><td>124</td><td>3</td><td>2032</td></tr>\n",
              "\t<tr><td>124</td><td>2</td><td>2055</td></tr>\n",
              "\t<tr><td>124</td><td>1</td><td>2031</td></tr>\n",
              "</tbody>\n",
              "</table>\n"
            ],
            "text/markdown": "\nA data.frame: 609 × 3\n\n| Individuo &lt;int&gt; | Orden.de.preferencia &lt;int&gt; | Clave &lt;int&gt; |\n|---|---|---|\n| 1 | 5 | 2030 |\n| 1 | 4 | 2031 |\n| 1 | 3 | 2049 |\n| 1 | 2 | 2046 |\n| 1 | 1 | 2047 |\n| 2 | 5 | 2035 |\n| 2 | 4 | 2056 |\n| 2 | 3 | 2036 |\n| 2 | 2 | 2040 |\n| 2 | 1 | 2046 |\n| 3 | 5 | 2034 |\n| 3 | 4 | 2039 |\n| 3 | 3 | 2051 |\n| 3 | 2 | 2049 |\n| 3 | 1 | 2044 |\n| 4 | 5 | 2035 |\n| 4 | 4 | 2043 |\n| 4 | 3 | 2033 |\n| 4 | 2 | 2049 |\n| 4 | 1 | 2054 |\n| 5 | 5 | 2039 |\n| 5 | 4 | 2044 |\n| 5 | 3 | 2033 |\n| 5 | 2 | 2043 |\n| 5 | 1 | 2046 |\n| 6 | 5 | 2033 |\n| 6 | 4 | 2048 |\n| 6 | 3 | 2043 |\n| 6 | 2 | 2046 |\n| 6 | 1 | 2049 |\n| ⋮ | ⋮ | ⋮ |\n| 119 | 5 | 2048 |\n| 119 | 4 | 2032 |\n| 119 | 3 | 2033 |\n| 119 | 2 | 2055 |\n| 119 | 1 | 2039 |\n| 120 | 5 | 2032 |\n| 120 | 4 | 2031 |\n| 120 | 3 | 2039 |\n| 120 | 2 | 2033 |\n| 120 | 1 | 2049 |\n| 121 | 5 | 2039 |\n| 121 | 4 | 2032 |\n| 121 | 3 | 2034 |\n| 121 | 2 | 2031 |\n| 121 | 1 | 2048 |\n| 122 | 5 | 2048 |\n| 122 | 4 | 2046 |\n| 122 | 3 | 2041 |\n| 122 | 2 | 2039 |\n| 122 | 1 | 2040 |\n| 123 | 5 | 2033 |\n| 123 | 4 | 2031 |\n| 123 | 3 | 2032 |\n| 123 | 2 | 2048 |\n| 123 | 1 | 2049 |\n| 124 | 5 | 2039 |\n| 124 | 4 | 2048 |\n| 124 | 3 | 2032 |\n| 124 | 2 | 2055 |\n| 124 | 1 | 2031 |\n\n",
            "text/latex": "A data.frame: 609 × 3\n\\begin{tabular}{lll}\n Individuo & Orden.de.preferencia & Clave\\\\\n <int> & <int> & <int>\\\\\n\\hline\n\t 1 & 5 & 2030\\\\\n\t 1 & 4 & 2031\\\\\n\t 1 & 3 & 2049\\\\\n\t 1 & 2 & 2046\\\\\n\t 1 & 1 & 2047\\\\\n\t 2 & 5 & 2035\\\\\n\t 2 & 4 & 2056\\\\\n\t 2 & 3 & 2036\\\\\n\t 2 & 2 & 2040\\\\\n\t 2 & 1 & 2046\\\\\n\t 3 & 5 & 2034\\\\\n\t 3 & 4 & 2039\\\\\n\t 3 & 3 & 2051\\\\\n\t 3 & 2 & 2049\\\\\n\t 3 & 1 & 2044\\\\\n\t 4 & 5 & 2035\\\\\n\t 4 & 4 & 2043\\\\\n\t 4 & 3 & 2033\\\\\n\t 4 & 2 & 2049\\\\\n\t 4 & 1 & 2054\\\\\n\t 5 & 5 & 2039\\\\\n\t 5 & 4 & 2044\\\\\n\t 5 & 3 & 2033\\\\\n\t 5 & 2 & 2043\\\\\n\t 5 & 1 & 2046\\\\\n\t 6 & 5 & 2033\\\\\n\t 6 & 4 & 2048\\\\\n\t 6 & 3 & 2043\\\\\n\t 6 & 2 & 2046\\\\\n\t 6 & 1 & 2049\\\\\n\t ⋮ & ⋮ & ⋮\\\\\n\t 119 & 5 & 2048\\\\\n\t 119 & 4 & 2032\\\\\n\t 119 & 3 & 2033\\\\\n\t 119 & 2 & 2055\\\\\n\t 119 & 1 & 2039\\\\\n\t 120 & 5 & 2032\\\\\n\t 120 & 4 & 2031\\\\\n\t 120 & 3 & 2039\\\\\n\t 120 & 2 & 2033\\\\\n\t 120 & 1 & 2049\\\\\n\t 121 & 5 & 2039\\\\\n\t 121 & 4 & 2032\\\\\n\t 121 & 3 & 2034\\\\\n\t 121 & 2 & 2031\\\\\n\t 121 & 1 & 2048\\\\\n\t 122 & 5 & 2048\\\\\n\t 122 & 4 & 2046\\\\\n\t 122 & 3 & 2041\\\\\n\t 122 & 2 & 2039\\\\\n\t 122 & 1 & 2040\\\\\n\t 123 & 5 & 2033\\\\\n\t 123 & 4 & 2031\\\\\n\t 123 & 3 & 2032\\\\\n\t 123 & 2 & 2048\\\\\n\t 123 & 1 & 2049\\\\\n\t 124 & 5 & 2039\\\\\n\t 124 & 4 & 2048\\\\\n\t 124 & 3 & 2032\\\\\n\t 124 & 2 & 2055\\\\\n\t 124 & 1 & 2031\\\\\n\\end{tabular}\n"
          },
          "metadata": {}
        }
      ]
    },
    {
      "cell_type": "code",
      "source": [
        "#Como la columna de clase es un identificador la volvemos a tipo factor\n",
        "data$Clave <- as.factor(data$Clave)\n",
        "names(data)"
      ],
      "metadata": {
        "id": "pXCpYVgzEPVC",
        "colab": {
          "base_uri": "https://localhost:8080/",
          "height": 34
        },
        "outputId": "73681852-4839-4ae0-8e16-e6b6f582e66d"
      },
      "execution_count": 102,
      "outputs": [
        {
          "output_type": "display_data",
          "data": {
            "text/html": [
              "<style>\n",
              ".list-inline {list-style: none; margin:0; padding: 0}\n",
              ".list-inline>li {display: inline-block}\n",
              ".list-inline>li:not(:last-child)::after {content: \"\\00b7\"; padding: 0 .5ex}\n",
              "</style>\n",
              "<ol class=list-inline><li>'Individuo'</li><li>'Orden.de.preferencia'</li><li>'Clave'</li></ol>\n"
            ],
            "text/markdown": "1. 'Individuo'\n2. 'Orden.de.preferencia'\n3. 'Clave'\n\n\n",
            "text/latex": "\\begin{enumerate*}\n\\item 'Individuo'\n\\item 'Orden.de.preferencia'\n\\item 'Clave'\n\\end{enumerate*}\n",
            "text/plain": [
              "[1] \"Individuo\"            \"Orden.de.preferencia\" \"Clave\"               "
            ]
          },
          "metadata": {}
        }
      ]
    },
    {
      "cell_type": "code",
      "source": [
        "#Vemos el numero de solicitudes por alumno\n",
        "data %>%\n",
        "  group_by(Individuo) %>%\n",
        "  summarise(n=n()) %>%\n",
        "  group_by(n) %>%\n",
        "  summarise(min = min(n),max=max(n))\n",
        "#No todos los alumnos pidieron 5 mataterias"
      ],
      "metadata": {
        "colab": {
          "base_uri": "https://localhost:8080/",
          "height": 224
        },
        "id": "et40HEx_chvc",
        "outputId": "7b2212a8-b02c-4c0c-99d2-e798290638f2"
      },
      "execution_count": 103,
      "outputs": [
        {
          "output_type": "display_data",
          "data": {
            "text/html": [
              "<table class=\"dataframe\">\n",
              "<caption>A tibble: 4 × 3</caption>\n",
              "<thead>\n",
              "\t<tr><th scope=col>n</th><th scope=col>min</th><th scope=col>max</th></tr>\n",
              "\t<tr><th scope=col>&lt;int&gt;</th><th scope=col>&lt;int&gt;</th><th scope=col>&lt;int&gt;</th></tr>\n",
              "</thead>\n",
              "<tbody>\n",
              "\t<tr><td>2</td><td>2</td><td>2</td></tr>\n",
              "\t<tr><td>3</td><td>3</td><td>3</td></tr>\n",
              "\t<tr><td>4</td><td>4</td><td>4</td></tr>\n",
              "\t<tr><td>5</td><td>5</td><td>5</td></tr>\n",
              "</tbody>\n",
              "</table>\n"
            ],
            "text/markdown": "\nA tibble: 4 × 3\n\n| n &lt;int&gt; | min &lt;int&gt; | max &lt;int&gt; |\n|---|---|---|\n| 2 | 2 | 2 |\n| 3 | 3 | 3 |\n| 4 | 4 | 4 |\n| 5 | 5 | 5 |\n\n",
            "text/latex": "A tibble: 4 × 3\n\\begin{tabular}{lll}\n n & min & max\\\\\n <int> & <int> & <int>\\\\\n\\hline\n\t 2 & 2 & 2\\\\\n\t 3 & 3 & 3\\\\\n\t 4 & 4 & 4\\\\\n\t 5 & 5 & 5\\\\\n\\end{tabular}\n",
            "text/plain": [
              "  n min max\n",
              "1 2 2   2  \n",
              "2 3 3   3  \n",
              "3 4 4   4  \n",
              "4 5 5   5  "
            ]
          },
          "metadata": {}
        }
      ]
    },
    {
      "cell_type": "code",
      "source": [
        "#Vemos cuales son las clases distitnas que existen\n",
        "clases <- data$Clave %>%\n",
        "  unique() %>%\n",
        "  sort()"
      ],
      "metadata": {
        "id": "ch-77AIGco4w"
      },
      "execution_count": 104,
      "outputs": []
    },
    {
      "cell_type": "code",
      "source": [
        "# Ahora creamos el vector que usaremos para las metricas\n",
        "n_clases <- clases %>%\n",
        "  length()"
      ],
      "metadata": {
        "id": "34tRsrV6cq58"
      },
      "execution_count": 105,
      "outputs": []
    },
    {
      "cell_type": "code",
      "source": [
        "#Ahora contamos el número de alumnos\n",
        "n_alumnos <- data$Individuo %>%\n",
        "  unique() %>%\n",
        "  length()\n"
      ],
      "metadata": {
        "id": "lcUGn_lGcsad"
      },
      "execution_count": 106,
      "outputs": []
    },
    {
      "cell_type": "code",
      "source": [
        "#Creamos dataframe donde almacenaremos la información de los alumnos\n",
        "data_transformada <- matrix(0,\n",
        "                            nrow = n_alumnos,\n",
        "                            ncol = n_clases) %>%\n",
        "  data.frame()"
      ],
      "metadata": {
        "id": "WsERNgIHcud9"
      },
      "execution_count": 107,
      "outputs": []
    },
    {
      "cell_type": "code",
      "source": [
        "#Renombramos las columnas de este df\n",
        "names(data_transformada) <- clases\n"
      ],
      "metadata": {
        "id": "dX9xPFO6cv4C"
      },
      "execution_count": 108,
      "outputs": []
    },
    {
      "cell_type": "code",
      "source": [
        "#Ahora asignamos a cada preferencia a cada alumno\n",
        "matriz_preferencias <- data %>%\n",
        "  pivot_wider(names_from = 'Clave',values_from = 'Orden.de.preferencia',values_fill = 0)\n",
        "#View(matriz_preferencias)"
      ],
      "metadata": {
        "id": "w4Nfnfvscwij"
      },
      "execution_count": 109,
      "outputs": []
    },
    {
      "cell_type": "code",
      "source": [
        "#Eliminamos la primer columna\n",
        "matriz_preferencias <- matriz_preferencias[,-1] %>% data.frame()\n",
        "#View(matriz_preferencias)"
      ],
      "metadata": {
        "id": "lSqtsahdcyfP"
      },
      "execution_count": 110,
      "outputs": []
    },
    {
      "cell_type": "code",
      "source": [
        "#Vemos cuál es el mejor numero de clusters\n",
        "\n",
        "wcss <- vector()\n",
        "for(i in 1:20){\n",
        "  wcss[i] <- sum(kmeans(matriz_preferencias, i)$withinss)\n",
        "}\n",
        "ggplot() + geom_point(aes(x = 1:20, y = wcss), color = 'blue') +\n",
        "  geom_line(aes(x = 1:20, y = wcss), color = 'blue') +\n",
        "  ggtitle(\"Método del Codo\") +\n",
        "  xlab('Cantidad de Centroides k') +\n",
        "  ylab('WCSS')"
      ],
      "metadata": {
        "colab": {
          "base_uri": "https://localhost:8080/",
          "height": 437
        },
        "id": "sS7-44Irdhgq",
        "outputId": "fa866fb7-d016-4081-ffc6-f484a7af2aa2"
      },
      "execution_count": 111,
      "outputs": [
        {
          "output_type": "display_data",
          "data": {
            "text/plain": [
              "plot without title"
            ],
            "image/png": "[encoded data removed]"
          },
          "metadata": {
            "image/png": {
              "width": 420,
              "height": 420
            }
          }
        }
      ]
    },
    {
      "cell_type": "markdown",
      "source": [
        "Parece que es 5 el mejor número de clusters."
      ],
      "metadata": {
        "id": "uG6gv_gFPic5"
      }
    },
    {
      "cell_type": "code",
      "source": [
        "n_clusters <- 5\n",
        "\n",
        "#Aplicamos k-means a vectores\n",
        "set.seed(123)\n",
        "clusters_kmeans <- kmeans(\n",
        "  matriz_preferencias,\n",
        "  n_clusters,\n",
        "  iter.max = 100,\n",
        "  nstart = 5)"
      ],
      "metadata": {
        "id": "xqFdTtJhPnfX"
      },
      "execution_count": 112,
      "outputs": []
    },
    {
      "cell_type": "code",
      "source": [
        "#Añadimos cluster a matriz de preferencias\n",
        "matriz_preferencias$cluster <- clusters_kmeans$cluster\n",
        "\n",
        "#Añadimos columna identificador\n",
        "matriz_preferencias$alumno <- 1:n_alumnos\n",
        "\n",
        "#write.csv(matriz_preferencias,file = 'cluster_5.csv')\n",
        "#Mostramos tamanio de cada cluster / grupo\n",
        "matriz_preferencias %>%\n",
        "  group_by(cluster) %>%\n",
        "  summarise(tamanio = n()) %>%\n",
        "  View()"
      ],
      "metadata": {
        "colab": {
          "base_uri": "https://localhost:8080/",
          "height": 255
        },
        "id": "YtZbBOu2QDiN",
        "outputId": "398254ed-73d4-4fa2-adef-290e029dde09"
      },
      "execution_count": 113,
      "outputs": [
        {
          "output_type": "display_data",
          "data": {
            "text/plain": [
              "  cluster tamanio\n",
              "1 1       36     \n",
              "2 2       16     \n",
              "3 3       35     \n",
              "4 4       24     \n",
              "5 5       13     "
            ],
            "text/html": [
              "<table class=\"dataframe\">\n",
              "<caption>A tibble: 5 × 2</caption>\n",
              "<thead>\n",
              "\t<tr><th scope=col>cluster</th><th scope=col>tamanio</th></tr>\n",
              "\t<tr><th scope=col>&lt;int&gt;</th><th scope=col>&lt;int&gt;</th></tr>\n",
              "</thead>\n",
              "<tbody>\n",
              "\t<tr><td>1</td><td>36</td></tr>\n",
              "\t<tr><td>2</td><td>16</td></tr>\n",
              "\t<tr><td>3</td><td>35</td></tr>\n",
              "\t<tr><td>4</td><td>24</td></tr>\n",
              "\t<tr><td>5</td><td>13</td></tr>\n",
              "</tbody>\n",
              "</table>\n"
            ],
            "text/markdown": "\nA tibble: 5 × 2\n\n| cluster &lt;int&gt; | tamanio &lt;int&gt; |\n|---|---|\n| 1 | 36 |\n| 2 | 16 |\n| 3 | 35 |\n| 4 | 24 |\n| 5 | 13 |\n\n",
            "text/latex": "A tibble: 5 × 2\n\\begin{tabular}{ll}\n cluster & tamanio\\\\\n <int> & <int>\\\\\n\\hline\n\t 1 & 36\\\\\n\t 2 & 16\\\\\n\t 3 & 35\\\\\n\t 4 & 24\\\\\n\t 5 & 13\\\\\n\\end{tabular}\n"
          },
          "metadata": {}
        }
      ]
    },
    {
      "cell_type": "code",
      "source": [
        "#Creamos una lista con los grupos\n",
        "grupos <- list()\n",
        "\n",
        "for(i in 1:n_clusters){\n",
        "  grupos[[i]] <- matriz_preferencias %>%\n",
        "    filter(cluster == i)\n",
        "}\n"
      ],
      "metadata": {
        "id": "sxXLt509QJqu"
      },
      "execution_count": 114,
      "outputs": []
    },
    {
      "cell_type": "code",
      "source": [
        "#Lista que contendrá la información final\n",
        "lista_final = list()\n",
        "\n",
        "\n",
        "\n",
        "for(i in 1:n_clusters){\n",
        "  #Primero ordenamos las columnas del cluster\n",
        "\n",
        "  #Vemos cuanto suma cada columna\n",
        "  suma_columnas_i <- grupos[[i]] %>%\n",
        "    colSums()\n",
        "\n",
        "  #Ordenamos las columnas de acuerso a cuanto suman\n",
        "  columnas_ordenadas_i <- suma_columnas_i[order(suma_columnas_i,decreasing=T)] %>%\n",
        "    names()\n",
        "\n",
        "  #Seleccionamos las columnas del cluster, pero ordenadas de acuerdo a la suma\n",
        "  materias_grupo <- grupos[[i]][,columnas_ordenadas_i] %>%\n",
        "    select(-alumno,-cluster) %>%\n",
        "    colnames()\n",
        "\n",
        "  #Seleccionamos las 5 materias que tienen mas solicitudes\n",
        "  materias_grupo_i <- materias_grupo[1:5]\n",
        "\n",
        "  lista_final[[i]] <- grupos[[i]][,materias_grupo_i]\n",
        "  lista_final[[i]]$alumno <- grupos[[i]]$alumno\n",
        "}\n",
        "\n"
      ],
      "metadata": {
        "id": "uYPR7JmZP2h7"
      },
      "execution_count": 115,
      "outputs": []
    },
    {
      "cell_type": "code",
      "source": [
        "#Como este formato favorece la existencia de alumnos que solo tendrán la materia\n",
        "# que mas les importaba, se usará otra técnica\n",
        "grupos_auxiliar <- grupos\n",
        "lista_final_2 <- list()\n"
      ],
      "metadata": {
        "id": "AqiNgyd5Qwuz"
      },
      "execution_count": 116,
      "outputs": []
    },
    {
      "cell_type": "code",
      "source": [
        "for(k in 1:n_clusters){\n",
        "  data_solicitudes <- grupos_auxiliar[[k]] %>%\n",
        "    select(-cluster,-alumno)\n",
        "\n",
        "  for(i in 1:nrow(grupos_auxiliar[[k]])){\n",
        "    #Cambiamos a uno para cualquier materia solicitada\n",
        "      data_solicitudes[i,]<- ifelse(data_solicitudes[i,]==0,0,1)\n",
        "  }\n",
        "  data_solicitudes\n",
        "\n",
        "  #Repetimos análisis de asignación de acuerdo a suma de columnas\n",
        "  suma_columnas <- data_solicitudes %>% colSums()\n",
        "\n",
        "  columnas_ordenadas <- suma_columnas[order(suma_columnas,decreasing=T)] %>%\n",
        "    names()\n",
        "\n",
        "  materias_seleccionadas <- data_solicitudes[,columnas_ordenadas] %>% colnames()\n",
        "  lista_final_2[[k]] <- data_solicitudes[,materias_seleccionadas[1:5]]\n",
        "  lista_final_2[[k]]$alumno <- grupos_auxiliar[[k]]$alumno\n",
        "\n",
        "}\n",
        "lista_final_2[[5]]\n"
      ],
      "metadata": {
        "colab": {
          "base_uri": "https://localhost:8080/",
          "height": 506
        },
        "id": "PJtbzeKNQPM3",
        "outputId": "f59e8de6-d5fa-4d40-f4b1-08a3ab042bc7"
      },
      "execution_count": 117,
      "outputs": [
        {
          "output_type": "display_data",
          "data": {
            "text/html": [
              "<table class=\"dataframe\">\n",
              "<caption>A data.frame: 13 × 6</caption>\n",
              "<thead>\n",
              "\t<tr><th scope=col>X2049</th><th scope=col>X2039</th><th scope=col>X2043</th><th scope=col>X2032</th><th scope=col>X2037</th><th scope=col>alumno</th></tr>\n",
              "\t<tr><th scope=col>&lt;dbl&gt;</th><th scope=col>&lt;dbl&gt;</th><th scope=col>&lt;dbl&gt;</th><th scope=col>&lt;dbl&gt;</th><th scope=col>&lt;dbl&gt;</th><th scope=col>&lt;int&gt;</th></tr>\n",
              "</thead>\n",
              "<tbody>\n",
              "\t<tr><td>1</td><td>0</td><td>0</td><td>0</td><td>0</td><td>  1</td></tr>\n",
              "\t<tr><td>1</td><td>0</td><td>1</td><td>0</td><td>0</td><td>  9</td></tr>\n",
              "\t<tr><td>1</td><td>1</td><td>1</td><td>0</td><td>0</td><td> 42</td></tr>\n",
              "\t<tr><td>1</td><td>1</td><td>1</td><td>0</td><td>0</td><td> 44</td></tr>\n",
              "\t<tr><td>1</td><td>1</td><td>0</td><td>1</td><td>1</td><td> 69</td></tr>\n",
              "\t<tr><td>1</td><td>1</td><td>0</td><td>1</td><td>1</td><td> 74</td></tr>\n",
              "\t<tr><td>1</td><td>1</td><td>0</td><td>1</td><td>1</td><td> 81</td></tr>\n",
              "\t<tr><td>1</td><td>1</td><td>0</td><td>1</td><td>0</td><td> 89</td></tr>\n",
              "\t<tr><td>1</td><td>0</td><td>0</td><td>1</td><td>1</td><td> 96</td></tr>\n",
              "\t<tr><td>1</td><td>0</td><td>1</td><td>1</td><td>0</td><td>101</td></tr>\n",
              "\t<tr><td>1</td><td>0</td><td>1</td><td>0</td><td>1</td><td>107</td></tr>\n",
              "\t<tr><td>1</td><td>1</td><td>1</td><td>1</td><td>0</td><td>114</td></tr>\n",
              "\t<tr><td>1</td><td>0</td><td>1</td><td>0</td><td>0</td><td>116</td></tr>\n",
              "</tbody>\n",
              "</table>\n"
            ],
            "text/markdown": "\nA data.frame: 13 × 6\n\n| X2049 &lt;dbl&gt; | X2039 &lt;dbl&gt; | X2043 &lt;dbl&gt; | X2032 &lt;dbl&gt; | X2037 &lt;dbl&gt; | alumno &lt;int&gt; |\n|---|---|---|---|---|---|\n| 1 | 0 | 0 | 0 | 0 |   1 |\n| 1 | 0 | 1 | 0 | 0 |   9 |\n| 1 | 1 | 1 | 0 | 0 |  42 |\n| 1 | 1 | 1 | 0 | 0 |  44 |\n| 1 | 1 | 0 | 1 | 1 |  69 |\n| 1 | 1 | 0 | 1 | 1 |  74 |\n| 1 | 1 | 0 | 1 | 1 |  81 |\n| 1 | 1 | 0 | 1 | 0 |  89 |\n| 1 | 0 | 0 | 1 | 1 |  96 |\n| 1 | 0 | 1 | 1 | 0 | 101 |\n| 1 | 0 | 1 | 0 | 1 | 107 |\n| 1 | 1 | 1 | 1 | 0 | 114 |\n| 1 | 0 | 1 | 0 | 0 | 116 |\n\n",
            "text/latex": "A data.frame: 13 × 6\n\\begin{tabular}{llllll}\n X2049 & X2039 & X2043 & X2032 & X2037 & alumno\\\\\n <dbl> & <dbl> & <dbl> & <dbl> & <dbl> & <int>\\\\\n\\hline\n\t 1 & 0 & 0 & 0 & 0 &   1\\\\\n\t 1 & 0 & 1 & 0 & 0 &   9\\\\\n\t 1 & 1 & 1 & 0 & 0 &  42\\\\\n\t 1 & 1 & 1 & 0 & 0 &  44\\\\\n\t 1 & 1 & 0 & 1 & 1 &  69\\\\\n\t 1 & 1 & 0 & 1 & 1 &  74\\\\\n\t 1 & 1 & 0 & 1 & 1 &  81\\\\\n\t 1 & 1 & 0 & 1 & 0 &  89\\\\\n\t 1 & 0 & 0 & 1 & 1 &  96\\\\\n\t 1 & 0 & 1 & 1 & 0 & 101\\\\\n\t 1 & 0 & 1 & 0 & 1 & 107\\\\\n\t 1 & 1 & 1 & 1 & 0 & 114\\\\\n\t 1 & 0 & 1 & 0 & 0 & 116\\\\\n\\end{tabular}\n",
            "text/plain": [
              "   X2049 X2039 X2043 X2032 X2037 alumno\n",
              "1  1     0     0     0     0       1   \n",
              "2  1     0     1     0     0       9   \n",
              "3  1     1     1     0     0      42   \n",
              "4  1     1     1     0     0      44   \n",
              "5  1     1     0     1     1      69   \n",
              "6  1     1     0     1     1      74   \n",
              "7  1     1     0     1     1      81   \n",
              "8  1     1     0     1     0      89   \n",
              "9  1     0     0     1     1      96   \n",
              "10 1     0     1     1     0     101   \n",
              "11 1     0     1     0     1     107   \n",
              "12 1     1     1     1     0     114   \n",
              "13 1     0     1     0     0     116   "
            ]
          },
          "metadata": {}
        }
      ]
    },
    {
      "cell_type": "code",
      "source": [
        "materias_total <- c()\n",
        "\n",
        "for(i in 1:n_clusters){\n",
        "  cat('Materias del cluster ',i,':\\n')\n",
        "lista_final_2[[i]] %>% colnames()\n",
        "materias_total <- c(materias_total,lista_final_2[[i]] %>% colnames())\n",
        "lista_final_2[[i]] %>% colnames() %>% print\n",
        "}\n",
        "\n",
        "materias_total[!materias_total %in% c(\"alumno\")] %>% table() %>% sort(decreasing = T)\n"
      ],
      "metadata": {
        "colab": {
          "base_uri": "https://localhost:8080/",
          "height": 243
        },
        "id": "bV3_lvLlQ4wH",
        "outputId": "234dfa5d-b86e-4e65-96ce-81dbf18beea4"
      },
      "execution_count": 122,
      "outputs": [
        {
          "output_type": "stream",
          "name": "stdout",
          "text": [
            "Materias del cluster  1 :\n",
            "[1] \"X2032\"  \"X2039\"  \"X2037\"  \"X2041\"  \"X2031\"  \"alumno\"\n",
            "Materias del cluster  2 :\n",
            "[1] \"X2046\"  \"X2039\"  \"X2044\"  \"X2033\"  \"X2034\"  \"alumno\"\n",
            "Materias del cluster  3 :\n",
            "[1] \"X2033\"  \"X2049\"  \"X2039\"  \"X2046\"  \"X2043\"  \"alumno\"\n",
            "Materias del cluster  4 :\n",
            "[1] \"X2048\"  \"X2039\"  \"X2041\"  \"X2032\"  \"X2031\"  \"alumno\"\n",
            "Materias del cluster  5 :\n",
            "[1] \"X2049\"  \"X2039\"  \"X2043\"  \"X2032\"  \"X2037\"  \"alumno\"\n"
          ]
        },
        {
          "output_type": "display_data",
          "data": {
            "text/plain": [
              ".\n",
              "X2039 X2032 X2031 X2033 X2037 X2041 X2043 X2046 X2049 X2034 X2044 X2048 \n",
              "    5     3     2     2     2     2     2     2     2     1     1     1 "
            ]
          },
          "metadata": {}
        }
      ]
    }
  ]
}