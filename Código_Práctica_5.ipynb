{
  "nbformat": 4,
  "nbformat_minor": 0,
  "metadata": {
    "colab": {
      "provenance": [],
      "authorship_tag": "ABX9TyMAEpt+qQTsfzZJ+gahAkCx",
      "include_colab_link": true
    },
    "kernelspec": {
      "name": "python3",
      "display_name": "Python 3"
    },
    "language_info": {
      "name": "python"
    }
  },
  "cells": [
    {
      "cell_type": "markdown",
      "metadata": {
        "id": "view-in-github",
        "colab_type": "text"
      },
      "source": [
        "<a href=\"https://colab.research.google.com/github/act-moises/diplomado/blob/main/C%C3%B3digo_Pr%C3%A1ctica_5.ipynb\" target=\"_parent\"><img src=\"https://colab.research.google.com/assets/colab-badge.svg\" alt=\"Open In Colab\"/></a>"
      ]
    },
    {
      "cell_type": "markdown",
      "source": [
        "#### Si se quiere ejecutar el código\n",
        "1. Hacer click en el icono Google Colab\n",
        "2. En Colab, cargar el archivo data.csv en Archivos de lado izquierdo."
      ],
      "metadata": {
        "id": "lJXgSQBB6HMG"
      }
    },
    {
      "cell_type": "code",
      "source": [
        "import pandas as pd\n",
        "import numpy as np\n",
        "from scipy.stats import chisquare\n",
        "from scipy.stats import kstest\n",
        "from scipy.stats import anderson\n",
        "from scipy.stats import norm\n",
        "from scipy.stats import chi2\n",
        "from scipy.stats import t"
      ],
      "metadata": {
        "id": "j7qJN5nfiIxc"
      },
      "execution_count": 39,
      "outputs": []
    },
    {
      "cell_type": "code",
      "execution_count": 40,
      "metadata": {
        "id": "VS4nVBgkh557"
      },
      "outputs": [],
      "source": [
        "\n",
        "# Cargar el archivo CSV (asegúrate de subir el archivo a Google Colab)\n",
        "file_path = 'data.csv'  # Cambia esto con el nombre del archivo subido\n",
        "df = pd.read_csv(file_path)\n",
        "\n",
        "# Excluir la columna 'N.' y seleccionar solo las columnas numéricas restantes\n",
        "df = df.drop(columns=['N.'], errors='ignore')\n",
        "numeric_cols = df.select_dtypes(include='number')\n"
      ]
    },
    {
      "cell_type": "code",
      "source": [
        "\n",
        "# Muestra las primeras filas del DataFrame\n",
        "print(df.head())"
      ],
      "metadata": {
        "colab": {
          "base_uri": "https://localhost:8080/"
        },
        "id": "3AdWGVN32uFY",
        "outputId": "dde349d2-ee6b-4fb4-c95b-3822ecc5c200"
      },
      "execution_count": 41,
      "outputs": [
        {
          "output_type": "stream",
          "name": "stdout",
          "text": [
            "   Método Cuadrados medios  Método Congruencial  Método Congruencial  Mixto   \\\n",
            "0                   0.1306              0.67772                      0.20238   \n",
            "1                   0.7056              0.06114                      0.82143   \n",
            "2                   0.7871              0.26738                      0.44048   \n",
            "3                   0.9526              0.05401                      0.05952   \n",
            "4                   0.7446              0.91762                      0.67857   \n",
            "\n",
            "   Aleatorios Google Sheets {RAND()}  \n",
            "0                            0.90695  \n",
            "1                            0.89742  \n",
            "2                            0.05639  \n",
            "3                            0.74104  \n",
            "4                            0.04887  \n"
          ]
        }
      ]
    },
    {
      "cell_type": "markdown",
      "source": [
        "# Pruebas de uniformidad"
      ],
      "metadata": {
        "id": "ioJu0ilbjjo3"
      }
    },
    {
      "cell_type": "markdown",
      "source": [
        "## J-Quadrada"
      ],
      "metadata": {
        "id": "y3e8OEKCjxjW"
      }
    },
    {
      "cell_type": "code",
      "source": [
        "# Realizar la prueba de ji cuadrada en cada columna numérica\n",
        "results = {}\n",
        "alpha = 0.05  # Nivel de significancia\n",
        "\n",
        "for col in numeric_cols.columns:\n",
        "    observed_frequencies = pd.cut(numeric_cols[col], bins=10).value_counts().values\n",
        "    expected_frequencies = [len(numeric_cols[col]) / 10] * 10\n",
        "    chi2_stat, p_value = chisquare(observed_frequencies, f_exp=expected_frequencies)\n",
        "\n",
        "    # Evaluar la hipótesis nula\n",
        "    if p_value < alpha:\n",
        "        conclusion = 'Rechaza la hipótesis nula (no es uniforme)'\n",
        "    else:\n",
        "        conclusion = 'No se rechaza la hipótesis nula (es uniforme)'\n",
        "\n",
        "    results[col] = {\n",
        "        'Chi2 Statistic': chi2_stat,\n",
        "        'P-value': p_value,\n",
        "        'Conclusión': conclusion\n",
        "    }\n",
        "\n",
        "# Convertir los resultados a un DataFrame para visualización\n",
        "results_df = pd.DataFrame(results).T\n",
        "\n",
        "# Mostrar los resultados\n",
        "print(results_df)"
      ],
      "metadata": {
        "colab": {
          "base_uri": "https://localhost:8080/"
        },
        "id": "SvGS18nIiNKp",
        "outputId": "9e967599-1022-48b1-b6d8-ebb0a2e4526a"
      },
      "execution_count": 18,
      "outputs": [
        {
          "output_type": "stream",
          "name": "stdout",
          "text": [
            "                                  Chi2 Statistic   P-value  \\\n",
            "Método Cuadrados medios                     23.2  0.005762   \n",
            "Método Congruencial                         22.2  0.008266   \n",
            "Método Congruencial  Mixto                   2.0  0.991468   \n",
            "Aleatorios Google Sheets {RAND()}            6.2  0.719747   \n",
            "\n",
            "                                                                      Conclusión  \n",
            "Método Cuadrados medios               Rechaza la hipótesis nula (no es uniforme)  \n",
            "Método Congruencial                   Rechaza la hipótesis nula (no es uniforme)  \n",
            "Método Congruencial  Mixto         No se rechaza la hipótesis nula (es uniforme)  \n",
            "Aleatorios Google Sheets {RAND()}  No se rechaza la hipótesis nula (es uniforme)  \n"
          ]
        }
      ]
    },
    {
      "cell_type": "markdown",
      "source": [
        "## J-Quadrada (sin librería)"
      ],
      "metadata": {
        "id": "apdKHPyQ1LH1"
      }
    },
    {
      "cell_type": "code",
      "source": [
        "#Primero, el número de valores observados por intervalo será constante\n",
        "Esperados = len(numeric_cols[col]) / 10\n",
        "#print(Esperados)\n",
        "\n",
        "data_ji_cuadrada = pd.DataFrame()\n",
        "esperados = np.array([10 for i in range(10)])\n",
        "\n",
        "data_ji_cuadrada['Esperados'] = esperados\n",
        "#print(data_ji_cuadrada)\n",
        "\n",
        "#Diccionario vació para llenarlo con estadísticos\n",
        "diccionario = {}\n",
        "\n",
        "for columna in df:\n",
        "  data = df[columna]\n",
        "\n",
        "  #Contamos el numero de observaciones por intervalo\n",
        "  columna_observados = np.array([])\n",
        "  for i in range(10):\n",
        "    observaciones = np.sum([(df[columna]>(i*0.1)) & (df[columna] <=((i+1)*0.1))])\n",
        "    columna_observados = np.append(columna_observados,observaciones)\n",
        "  #print(columna_observados)\n",
        "  data_ji_cuadrada[columna] = columna_observados\n",
        "\n",
        "  #Ahora calculamos la el cuadrado de la diferencia entre el número de observaciones y el número esperado de observaciones\n",
        "  # entre el número esperado de observaciones\n",
        "\n",
        "  estadistico = ((columna_observados - esperados)**2)/esperados\n",
        "  data_ji_cuadrada[columna+'_estadistico'] = estadistico\n",
        "\n",
        "  #Añadimos suma de columna de estadisticos a diccionario\n",
        "  diccionario[columna] = np.sum(estadistico)\n",
        "\n",
        "\n",
        "#print(df_prueba_hipotesis)\n",
        "#Imprimimos diccionario de forma iterada\n",
        "for clave, valor in diccionario.items():\n",
        "  print(f'Estadistico de prueba de método {clave} :  {valor}')\n",
        "\n",
        "#Calculamos el valor crítico como el quantil del 95 porciento\n",
        "# de una ji cuadrada con 9 grados de libertad\n",
        "valor_critico = chi2.ppf(q = 0.95, df = 9)\n",
        "\n",
        "#Mostramos si el método de simulación pasó la prueba de uniformidad chi cuadrada\n",
        "print('-'*50)\n",
        "print(f'Valor crítico: {valor_critico}')\n",
        "print('-'*50)\n",
        "\n",
        "for clave,valor in diccionario.items():\n",
        "  paso = valor <= valor_critico\n",
        "  if paso:\n",
        "    print(f'El método {clave} pasó la prueba de uniformidad chi cuadrada')\n",
        "  else:\n",
        "    print(f'El método {clave} NO pasó la prueba de uniformidad chi cuadrada')\n",
        "print('-'*50)\n",
        "\n",
        "data_ji_cuadrada"
      ],
      "metadata": {
        "colab": {
          "base_uri": "https://localhost:8080/",
          "height": 623
        },
        "id": "V5uf4Ld81Swf",
        "outputId": "09ce24f7-555e-4443-a0a0-eecbe75e22c5"
      },
      "execution_count": 19,
      "outputs": [
        {
          "output_type": "stream",
          "name": "stdout",
          "text": [
            "Estadistico de prueba de método Método Cuadrados medios :  29.800000000000004\n",
            "Estadistico de prueba de método Método Congruencial :  18.0\n",
            "Estadistico de prueba de método Método Congruencial  Mixto  :  3.0000000000000004\n",
            "Estadistico de prueba de método Aleatorios Google Sheets {RAND()} :  4.0\n",
            "--------------------------------------------------\n",
            "Valor crítico: 16.918977604620448\n",
            "--------------------------------------------------\n",
            "El método Método Cuadrados medios NO pasó la prueba de uniformidad chi cuadrada\n",
            "El método Método Congruencial NO pasó la prueba de uniformidad chi cuadrada\n",
            "El método Método Congruencial  Mixto  pasó la prueba de uniformidad chi cuadrada\n",
            "El método Aleatorios Google Sheets {RAND()} pasó la prueba de uniformidad chi cuadrada\n",
            "--------------------------------------------------\n"
          ]
        },
        {
          "output_type": "execute_result",
          "data": {
            "text/plain": [
              "   Esperados  Método Cuadrados medios  Método Cuadrados medios_estadistico  \\\n",
              "0         10                      4.0                                  3.6   \n",
              "1         10                      9.0                                  0.1   \n",
              "2         10                     15.0                                  2.5   \n",
              "3         10                      8.0                                  0.4   \n",
              "4         10                     17.0                                  4.9   \n",
              "5         10                      3.0                                  4.9   \n",
              "6         10                     15.0                                  2.5   \n",
              "7         10                      7.0                                  0.9   \n",
              "8         10                     18.0                                  6.4   \n",
              "9         10                      4.0                                  3.6   \n",
              "\n",
              "   Método Congruencial  Método Congruencial_estadistico  \\\n",
              "0                  8.0                              0.4   \n",
              "1                  8.0                              0.4   \n",
              "2                 17.0                              4.9   \n",
              "3                  8.0                              0.4   \n",
              "4                  5.0                              2.5   \n",
              "5                  5.0                              2.5   \n",
              "6                 12.0                              0.4   \n",
              "7                  9.0                              0.1   \n",
              "8                 18.0                              6.4   \n",
              "9                 10.0                              0.0   \n",
              "\n",
              "   Método Congruencial  Mixto   Método Congruencial  Mixto _estadistico  \\\n",
              "0                         10.0                                      0.0   \n",
              "1                          9.0                                      0.1   \n",
              "2                         15.0                                      2.5   \n",
              "3                          9.0                                      0.1   \n",
              "4                         10.0                                      0.0   \n",
              "5                          9.0                                      0.1   \n",
              "6                         10.0                                      0.0   \n",
              "7                          9.0                                      0.1   \n",
              "8                         10.0                                      0.0   \n",
              "9                          9.0                                      0.1   \n",
              "\n",
              "   Aleatorios Google Sheets {RAND()}  \\\n",
              "0                               10.0   \n",
              "1                               11.0   \n",
              "2                                9.0   \n",
              "3                               10.0   \n",
              "4                                6.0   \n",
              "5                                8.0   \n",
              "6                               12.0   \n",
              "7                                9.0   \n",
              "8                               12.0   \n",
              "9                               13.0   \n",
              "\n",
              "   Aleatorios Google Sheets {RAND()}_estadistico  \n",
              "0                                            0.0  \n",
              "1                                            0.1  \n",
              "2                                            0.1  \n",
              "3                                            0.0  \n",
              "4                                            1.6  \n",
              "5                                            0.4  \n",
              "6                                            0.4  \n",
              "7                                            0.1  \n",
              "8                                            0.4  \n",
              "9                                            0.9  "
            ],
            "text/html": [
              "\n",
              "  <div id=\"df-6d75671b-4946-49bf-a610-c07c944aa2a4\" class=\"colab-df-container\">\n",
              "    <div>\n",
              "<style scoped>\n",
              "    .dataframe tbody tr th:only-of-type {\n",
              "        vertical-align: middle;\n",
              "    }\n",
              "\n",
              "    .dataframe tbody tr th {\n",
              "        vertical-align: top;\n",
              "    }\n",
              "\n",
              "    .dataframe thead th {\n",
              "        text-align: right;\n",
              "    }\n",
              "</style>\n",
              "<table border=\"1\" class=\"dataframe\">\n",
              "  <thead>\n",
              "    <tr style=\"text-align: right;\">\n",
              "      <th></th>\n",
              "      <th>Esperados</th>\n",
              "      <th>Método Cuadrados medios</th>\n",
              "      <th>Método Cuadrados medios_estadistico</th>\n",
              "      <th>Método Congruencial</th>\n",
              "      <th>Método Congruencial_estadistico</th>\n",
              "      <th>Método Congruencial  Mixto</th>\n",
              "      <th>Método Congruencial  Mixto _estadistico</th>\n",
              "      <th>Aleatorios Google Sheets {RAND()}</th>\n",
              "      <th>Aleatorios Google Sheets {RAND()}_estadistico</th>\n",
              "    </tr>\n",
              "  </thead>\n",
              "  <tbody>\n",
              "    <tr>\n",
              "      <th>0</th>\n",
              "      <td>10</td>\n",
              "      <td>4.0</td>\n",
              "      <td>3.6</td>\n",
              "      <td>8.0</td>\n",
              "      <td>0.4</td>\n",
              "      <td>10.0</td>\n",
              "      <td>0.0</td>\n",
              "      <td>10.0</td>\n",
              "      <td>0.0</td>\n",
              "    </tr>\n",
              "    <tr>\n",
              "      <th>1</th>\n",
              "      <td>10</td>\n",
              "      <td>9.0</td>\n",
              "      <td>0.1</td>\n",
              "      <td>8.0</td>\n",
              "      <td>0.4</td>\n",
              "      <td>9.0</td>\n",
              "      <td>0.1</td>\n",
              "      <td>11.0</td>\n",
              "      <td>0.1</td>\n",
              "    </tr>\n",
              "    <tr>\n",
              "      <th>2</th>\n",
              "      <td>10</td>\n",
              "      <td>15.0</td>\n",
              "      <td>2.5</td>\n",
              "      <td>17.0</td>\n",
              "      <td>4.9</td>\n",
              "      <td>15.0</td>\n",
              "      <td>2.5</td>\n",
              "      <td>9.0</td>\n",
              "      <td>0.1</td>\n",
              "    </tr>\n",
              "    <tr>\n",
              "      <th>3</th>\n",
              "      <td>10</td>\n",
              "      <td>8.0</td>\n",
              "      <td>0.4</td>\n",
              "      <td>8.0</td>\n",
              "      <td>0.4</td>\n",
              "      <td>9.0</td>\n",
              "      <td>0.1</td>\n",
              "      <td>10.0</td>\n",
              "      <td>0.0</td>\n",
              "    </tr>\n",
              "    <tr>\n",
              "      <th>4</th>\n",
              "      <td>10</td>\n",
              "      <td>17.0</td>\n",
              "      <td>4.9</td>\n",
              "      <td>5.0</td>\n",
              "      <td>2.5</td>\n",
              "      <td>10.0</td>\n",
              "      <td>0.0</td>\n",
              "      <td>6.0</td>\n",
              "      <td>1.6</td>\n",
              "    </tr>\n",
              "    <tr>\n",
              "      <th>5</th>\n",
              "      <td>10</td>\n",
              "      <td>3.0</td>\n",
              "      <td>4.9</td>\n",
              "      <td>5.0</td>\n",
              "      <td>2.5</td>\n",
              "      <td>9.0</td>\n",
              "      <td>0.1</td>\n",
              "      <td>8.0</td>\n",
              "      <td>0.4</td>\n",
              "    </tr>\n",
              "    <tr>\n",
              "      <th>6</th>\n",
              "      <td>10</td>\n",
              "      <td>15.0</td>\n",
              "      <td>2.5</td>\n",
              "      <td>12.0</td>\n",
              "      <td>0.4</td>\n",
              "      <td>10.0</td>\n",
              "      <td>0.0</td>\n",
              "      <td>12.0</td>\n",
              "      <td>0.4</td>\n",
              "    </tr>\n",
              "    <tr>\n",
              "      <th>7</th>\n",
              "      <td>10</td>\n",
              "      <td>7.0</td>\n",
              "      <td>0.9</td>\n",
              "      <td>9.0</td>\n",
              "      <td>0.1</td>\n",
              "      <td>9.0</td>\n",
              "      <td>0.1</td>\n",
              "      <td>9.0</td>\n",
              "      <td>0.1</td>\n",
              "    </tr>\n",
              "    <tr>\n",
              "      <th>8</th>\n",
              "      <td>10</td>\n",
              "      <td>18.0</td>\n",
              "      <td>6.4</td>\n",
              "      <td>18.0</td>\n",
              "      <td>6.4</td>\n",
              "      <td>10.0</td>\n",
              "      <td>0.0</td>\n",
              "      <td>12.0</td>\n",
              "      <td>0.4</td>\n",
              "    </tr>\n",
              "    <tr>\n",
              "      <th>9</th>\n",
              "      <td>10</td>\n",
              "      <td>4.0</td>\n",
              "      <td>3.6</td>\n",
              "      <td>10.0</td>\n",
              "      <td>0.0</td>\n",
              "      <td>9.0</td>\n",
              "      <td>0.1</td>\n",
              "      <td>13.0</td>\n",
              "      <td>0.9</td>\n",
              "    </tr>\n",
              "  </tbody>\n",
              "</table>\n",
              "</div>\n",
              "    <div class=\"colab-df-buttons\">\n",
              "\n",
              "  <div class=\"colab-df-container\">\n",
              "    <button class=\"colab-df-convert\" onclick=\"convertToInteractive('df-6d75671b-4946-49bf-a610-c07c944aa2a4')\"\n",
              "            title=\"Convert this dataframe to an interactive table.\"\n",
              "            style=\"display:none;\">\n",
              "\n",
              "  <svg xmlns=\"http://www.w3.org/2000/svg\" height=\"24px\" viewBox=\"0 -960 960 960\">\n",
              "    <path d=\"M120-120v-720h720v720H120Zm60-500h600v-160H180v160Zm220 220h160v-160H400v160Zm0 220h160v-160H400v160ZM180-400h160v-160H180v160Zm440 0h160v-160H620v160ZM180-180h160v-160H180v160Zm440 0h160v-160H620v160Z\"/>\n",
              "  </svg>\n",
              "    </button>\n",
              "\n",
              "  <style>\n",
              "    .colab-df-container {\n",
              "      display:flex;\n",
              "      gap: 12px;\n",
              "    }\n",
              "\n",
              "    .colab-df-convert {\n",
              "      background-color: #E8F0FE;\n",
              "      border: none;\n",
              "      border-radius: 50%;\n",
              "      cursor: pointer;\n",
              "      display: none;\n",
              "      fill: #1967D2;\n",
              "      height: 32px;\n",
              "      padding: 0 0 0 0;\n",
              "      width: 32px;\n",
              "    }\n",
              "\n",
              "    .colab-df-convert:hover {\n",
              "      background-color: #E2EBFA;\n",
              "      box-shadow: 0px 1px 2px rgba(60, 64, 67, 0.3), 0px 1px 3px 1px rgba(60, 64, 67, 0.15);\n",
              "      fill: #174EA6;\n",
              "    }\n",
              "\n",
              "    .colab-df-buttons div {\n",
              "      margin-bottom: 4px;\n",
              "    }\n",
              "\n",
              "    [theme=dark] .colab-df-convert {\n",
              "      background-color: #3B4455;\n",
              "      fill: #D2E3FC;\n",
              "    }\n",
              "\n",
              "    [theme=dark] .colab-df-convert:hover {\n",
              "      background-color: #434B5C;\n",
              "      box-shadow: 0px 1px 3px 1px rgba(0, 0, 0, 0.15);\n",
              "      filter: drop-shadow(0px 1px 2px rgba(0, 0, 0, 0.3));\n",
              "      fill: #FFFFFF;\n",
              "    }\n",
              "  </style>\n",
              "\n",
              "    <script>\n",
              "      const buttonEl =\n",
              "        document.querySelector('#df-6d75671b-4946-49bf-a610-c07c944aa2a4 button.colab-df-convert');\n",
              "      buttonEl.style.display =\n",
              "        google.colab.kernel.accessAllowed ? 'block' : 'none';\n",
              "\n",
              "      async function convertToInteractive(key) {\n",
              "        const element = document.querySelector('#df-6d75671b-4946-49bf-a610-c07c944aa2a4');\n",
              "        const dataTable =\n",
              "          await google.colab.kernel.invokeFunction('convertToInteractive',\n",
              "                                                    [key], {});\n",
              "        if (!dataTable) return;\n",
              "\n",
              "        const docLinkHtml = 'Like what you see? Visit the ' +\n",
              "          '<a target=\"_blank\" href=https://colab.research.google.com/notebooks/data_table.ipynb>data table notebook</a>'\n",
              "          + ' to learn more about interactive tables.';\n",
              "        element.innerHTML = '';\n",
              "        dataTable['output_type'] = 'display_data';\n",
              "        await google.colab.output.renderOutput(dataTable, element);\n",
              "        const docLink = document.createElement('div');\n",
              "        docLink.innerHTML = docLinkHtml;\n",
              "        element.appendChild(docLink);\n",
              "      }\n",
              "    </script>\n",
              "  </div>\n",
              "\n",
              "\n",
              "<div id=\"df-e6aad572-5670-49ff-8c91-920e301130a1\">\n",
              "  <button class=\"colab-df-quickchart\" onclick=\"quickchart('df-e6aad572-5670-49ff-8c91-920e301130a1')\"\n",
              "            title=\"Suggest charts\"\n",
              "            style=\"display:none;\">\n",
              "\n",
              "<svg xmlns=\"http://www.w3.org/2000/svg\" height=\"24px\"viewBox=\"0 0 24 24\"\n",
              "     width=\"24px\">\n",
              "    <g>\n",
              "        <path d=\"M19 3H5c-1.1 0-2 .9-2 2v14c0 1.1.9 2 2 2h14c1.1 0 2-.9 2-2V5c0-1.1-.9-2-2-2zM9 17H7v-7h2v7zm4 0h-2V7h2v10zm4 0h-2v-4h2v4z\"/>\n",
              "    </g>\n",
              "</svg>\n",
              "  </button>\n",
              "\n",
              "<style>\n",
              "  .colab-df-quickchart {\n",
              "      --bg-color: #E8F0FE;\n",
              "      --fill-color: #1967D2;\n",
              "      --hover-bg-color: #E2EBFA;\n",
              "      --hover-fill-color: #174EA6;\n",
              "      --disabled-fill-color: #AAA;\n",
              "      --disabled-bg-color: #DDD;\n",
              "  }\n",
              "\n",
              "  [theme=dark] .colab-df-quickchart {\n",
              "      --bg-color: #3B4455;\n",
              "      --fill-color: #D2E3FC;\n",
              "      --hover-bg-color: #434B5C;\n",
              "      --hover-fill-color: #FFFFFF;\n",
              "      --disabled-bg-color: #3B4455;\n",
              "      --disabled-fill-color: #666;\n",
              "  }\n",
              "\n",
              "  .colab-df-quickchart {\n",
              "    background-color: var(--bg-color);\n",
              "    border: none;\n",
              "    border-radius: 50%;\n",
              "    cursor: pointer;\n",
              "    display: none;\n",
              "    fill: var(--fill-color);\n",
              "    height: 32px;\n",
              "    padding: 0;\n",
              "    width: 32px;\n",
              "  }\n",
              "\n",
              "  .colab-df-quickchart:hover {\n",
              "    background-color: var(--hover-bg-color);\n",
              "    box-shadow: 0 1px 2px rgba(60, 64, 67, 0.3), 0 1px 3px 1px rgba(60, 64, 67, 0.15);\n",
              "    fill: var(--button-hover-fill-color);\n",
              "  }\n",
              "\n",
              "  .colab-df-quickchart-complete:disabled,\n",
              "  .colab-df-quickchart-complete:disabled:hover {\n",
              "    background-color: var(--disabled-bg-color);\n",
              "    fill: var(--disabled-fill-color);\n",
              "    box-shadow: none;\n",
              "  }\n",
              "\n",
              "  .colab-df-spinner {\n",
              "    border: 2px solid var(--fill-color);\n",
              "    border-color: transparent;\n",
              "    border-bottom-color: var(--fill-color);\n",
              "    animation:\n",
              "      spin 1s steps(1) infinite;\n",
              "  }\n",
              "\n",
              "  @keyframes spin {\n",
              "    0% {\n",
              "      border-color: transparent;\n",
              "      border-bottom-color: var(--fill-color);\n",
              "      border-left-color: var(--fill-color);\n",
              "    }\n",
              "    20% {\n",
              "      border-color: transparent;\n",
              "      border-left-color: var(--fill-color);\n",
              "      border-top-color: var(--fill-color);\n",
              "    }\n",
              "    30% {\n",
              "      border-color: transparent;\n",
              "      border-left-color: var(--fill-color);\n",
              "      border-top-color: var(--fill-color);\n",
              "      border-right-color: var(--fill-color);\n",
              "    }\n",
              "    40% {\n",
              "      border-color: transparent;\n",
              "      border-right-color: var(--fill-color);\n",
              "      border-top-color: var(--fill-color);\n",
              "    }\n",
              "    60% {\n",
              "      border-color: transparent;\n",
              "      border-right-color: var(--fill-color);\n",
              "    }\n",
              "    80% {\n",
              "      border-color: transparent;\n",
              "      border-right-color: var(--fill-color);\n",
              "      border-bottom-color: var(--fill-color);\n",
              "    }\n",
              "    90% {\n",
              "      border-color: transparent;\n",
              "      border-bottom-color: var(--fill-color);\n",
              "    }\n",
              "  }\n",
              "</style>\n",
              "\n",
              "  <script>\n",
              "    async function quickchart(key) {\n",
              "      const quickchartButtonEl =\n",
              "        document.querySelector('#' + key + ' button');\n",
              "      quickchartButtonEl.disabled = true;  // To prevent multiple clicks.\n",
              "      quickchartButtonEl.classList.add('colab-df-spinner');\n",
              "      try {\n",
              "        const charts = await google.colab.kernel.invokeFunction(\n",
              "            'suggestCharts', [key], {});\n",
              "      } catch (error) {\n",
              "        console.error('Error during call to suggestCharts:', error);\n",
              "      }\n",
              "      quickchartButtonEl.classList.remove('colab-df-spinner');\n",
              "      quickchartButtonEl.classList.add('colab-df-quickchart-complete');\n",
              "    }\n",
              "    (() => {\n",
              "      let quickchartButtonEl =\n",
              "        document.querySelector('#df-e6aad572-5670-49ff-8c91-920e301130a1 button');\n",
              "      quickchartButtonEl.style.display =\n",
              "        google.colab.kernel.accessAllowed ? 'block' : 'none';\n",
              "    })();\n",
              "  </script>\n",
              "</div>\n",
              "\n",
              "  <div id=\"id_a6ca4ba4-1c7d-4245-b253-381ee767f2ed\">\n",
              "    <style>\n",
              "      .colab-df-generate {\n",
              "        background-color: #E8F0FE;\n",
              "        border: none;\n",
              "        border-radius: 50%;\n",
              "        cursor: pointer;\n",
              "        display: none;\n",
              "        fill: #1967D2;\n",
              "        height: 32px;\n",
              "        padding: 0 0 0 0;\n",
              "        width: 32px;\n",
              "      }\n",
              "\n",
              "      .colab-df-generate:hover {\n",
              "        background-color: #E2EBFA;\n",
              "        box-shadow: 0px 1px 2px rgba(60, 64, 67, 0.3), 0px 1px 3px 1px rgba(60, 64, 67, 0.15);\n",
              "        fill: #174EA6;\n",
              "      }\n",
              "\n",
              "      [theme=dark] .colab-df-generate {\n",
              "        background-color: #3B4455;\n",
              "        fill: #D2E3FC;\n",
              "      }\n",
              "\n",
              "      [theme=dark] .colab-df-generate:hover {\n",
              "        background-color: #434B5C;\n",
              "        box-shadow: 0px 1px 3px 1px rgba(0, 0, 0, 0.15);\n",
              "        filter: drop-shadow(0px 1px 2px rgba(0, 0, 0, 0.3));\n",
              "        fill: #FFFFFF;\n",
              "      }\n",
              "    </style>\n",
              "    <button class=\"colab-df-generate\" onclick=\"generateWithVariable('data_ji_cuadrada')\"\n",
              "            title=\"Generate code using this dataframe.\"\n",
              "            style=\"display:none;\">\n",
              "\n",
              "  <svg xmlns=\"http://www.w3.org/2000/svg\" height=\"24px\"viewBox=\"0 0 24 24\"\n",
              "       width=\"24px\">\n",
              "    <path d=\"M7,19H8.4L18.45,9,17,7.55,7,17.6ZM5,21V16.75L18.45,3.32a2,2,0,0,1,2.83,0l1.4,1.43a1.91,1.91,0,0,1,.58,1.4,1.91,1.91,0,0,1-.58,1.4L9.25,21ZM18.45,9,17,7.55Zm-12,3A5.31,5.31,0,0,0,4.9,8.1,5.31,5.31,0,0,0,1,6.5,5.31,5.31,0,0,0,4.9,4.9,5.31,5.31,0,0,0,6.5,1,5.31,5.31,0,0,0,8.1,4.9,5.31,5.31,0,0,0,12,6.5,5.46,5.46,0,0,0,6.5,12Z\"/>\n",
              "  </svg>\n",
              "    </button>\n",
              "    <script>\n",
              "      (() => {\n",
              "      const buttonEl =\n",
              "        document.querySelector('#id_a6ca4ba4-1c7d-4245-b253-381ee767f2ed button.colab-df-generate');\n",
              "      buttonEl.style.display =\n",
              "        google.colab.kernel.accessAllowed ? 'block' : 'none';\n",
              "\n",
              "      buttonEl.onclick = () => {\n",
              "        google.colab.notebook.generateWithVariable('data_ji_cuadrada');\n",
              "      }\n",
              "      })();\n",
              "    </script>\n",
              "  </div>\n",
              "\n",
              "    </div>\n",
              "  </div>\n"
            ],
            "application/vnd.google.colaboratory.intrinsic+json": {
              "type": "dataframe",
              "variable_name": "data_ji_cuadrada",
              "summary": "{\n  \"name\": \"data_ji_cuadrada\",\n  \"rows\": 10,\n  \"fields\": [\n    {\n      \"column\": \"Esperados\",\n      \"properties\": {\n        \"dtype\": \"number\",\n        \"std\": 0,\n        \"min\": 10,\n        \"max\": 10,\n        \"num_unique_values\": 1,\n        \"samples\": [\n          10\n        ],\n        \"semantic_type\": \"\",\n        \"description\": \"\"\n      }\n    },\n    {\n      \"column\": \"M\\u00e9todo Cuadrados medios\",\n      \"properties\": {\n        \"dtype\": \"number\",\n        \"std\": 5.754225500544023,\n        \"min\": 3.0,\n        \"max\": 18.0,\n        \"num_unique_values\": 8,\n        \"samples\": [\n          9.0\n        ],\n        \"semantic_type\": \"\",\n        \"description\": \"\"\n      }\n    },\n    {\n      \"column\": \"M\\u00e9todo Cuadrados medios_estadistico\",\n      \"properties\": {\n        \"dtype\": \"number\",\n        \"std\": 2.0969819582755913,\n        \"min\": 0.1,\n        \"max\": 6.4,\n        \"num_unique_values\": 7,\n        \"samples\": [\n          3.6\n        ],\n        \"semantic_type\": \"\",\n        \"description\": \"\"\n      }\n    },\n    {\n      \"column\": \"M\\u00e9todo Congruencial\",\n      \"properties\": {\n        \"dtype\": \"number\",\n        \"std\": 4.47213595499958,\n        \"min\": 5.0,\n        \"max\": 18.0,\n        \"num_unique_values\": 7,\n        \"samples\": [\n          8.0\n        ],\n        \"semantic_type\": \"\",\n        \"description\": \"\"\n      }\n    },\n    {\n      \"column\": \"M\\u00e9todo Congruencial_estadistico\",\n      \"properties\": {\n        \"dtype\": \"number\",\n        \"std\": 2.2538855339169293,\n        \"min\": 0.0,\n        \"max\": 6.4,\n        \"num_unique_values\": 6,\n        \"samples\": [\n          0.4\n        ],\n        \"semantic_type\": \"\",\n        \"description\": \"\"\n      }\n    },\n    {\n      \"column\": \"M\\u00e9todo Congruencial  Mixto \",\n      \"properties\": {\n        \"dtype\": \"number\",\n        \"std\": 1.8257418583505538,\n        \"min\": 9.0,\n        \"max\": 15.0,\n        \"num_unique_values\": 3,\n        \"samples\": [\n          10.0\n        ],\n        \"semantic_type\": \"\",\n        \"description\": \"\"\n      }\n    },\n    {\n      \"column\": \"M\\u00e9todo Congruencial  Mixto _estadistico\",\n      \"properties\": {\n        \"dtype\": \"number\",\n        \"std\": 0.7745966692414834,\n        \"min\": 0.0,\n        \"max\": 2.5,\n        \"num_unique_values\": 3,\n        \"samples\": [\n          0.0\n        ],\n        \"semantic_type\": \"\",\n        \"description\": \"\"\n      }\n    },\n    {\n      \"column\": \"Aleatorios Google Sheets {RAND()}\",\n      \"properties\": {\n        \"dtype\": \"number\",\n        \"std\": 2.1081851067789197,\n        \"min\": 6.0,\n        \"max\": 13.0,\n        \"num_unique_values\": 7,\n        \"samples\": [\n          10.0\n        ],\n        \"semantic_type\": \"\",\n        \"description\": \"\"\n      }\n    },\n    {\n      \"column\": \"Aleatorios Google Sheets {RAND()}_estadistico\",\n      \"properties\": {\n        \"dtype\": \"number\",\n        \"std\": 0.5033222956847166,\n        \"min\": 0.0,\n        \"max\": 1.6,\n        \"num_unique_values\": 5,\n        \"samples\": [\n          0.1\n        ],\n        \"semantic_type\": \"\",\n        \"description\": \"\"\n      }\n    }\n  ]\n}"
            }
          },
          "metadata": {},
          "execution_count": 19
        }
      ]
    },
    {
      "cell_type": "code",
      "source": [
        "#Calculamos el valor crítico como el quantil del 95 porciento\n",
        "# de una ji cuadrada con 9 grados de libertad\n",
        "crit = chi2.ppf(q = 0.95, df = 9)\n",
        "#Calculamos el valor crítico como el quantil del 95 porciento\n",
        "# de una ji cuadrada con 9 grados de libertad\n",
        "crit = chi2.ppf(q = 0.95, df = 9)\n",
        "\n",
        "#Vemos si cada columna pasa la prueba de unifomridad ji-cuadrada\n",
        "# Changed 'd' to 'df.columns' to iterate through columns of the DataFrame 'df'\n",
        "for columna in df.columns:\n",
        "    pass"
      ],
      "metadata": {
        "id": "GKthqBDJ10un"
      },
      "execution_count": 20,
      "outputs": []
    },
    {
      "cell_type": "code",
      "source": [
        "diferencia = np.array([i for i in np.arange(10)]) - np.array([1 for i in np.arange(10)])\n",
        "\n",
        "(diferencia/np.array([2 for i in np.arange(10)]))**2\n"
      ],
      "metadata": {
        "colab": {
          "base_uri": "https://localhost:8080/"
        },
        "id": "tIKNTwkn2S6N",
        "outputId": "8d8f5a92-6186-49f7-d13a-acf0e9028e4a"
      },
      "execution_count": 21,
      "outputs": [
        {
          "output_type": "execute_result",
          "data": {
            "text/plain": [
              "array([ 0.25,  0.  ,  0.25,  1.  ,  2.25,  4.  ,  6.25,  9.  , 12.25,\n",
              "       16.  ])"
            ]
          },
          "metadata": {},
          "execution_count": 21
        }
      ]
    },
    {
      "cell_type": "markdown",
      "source": [
        "## Kolmogorov-Smirnov"
      ],
      "metadata": {
        "id": "6tzva1qEjmWt"
      }
    },
    {
      "cell_type": "code",
      "source": [
        "# Realizar la prueba de Kolmogorov-Smirnov en cada columna numérica\n",
        "results = {}\n",
        "alpha = 0.05  # Nivel de significancia\n",
        "\n",
        "for col in numeric_cols.columns:\n",
        "    # Realizar la prueba de Kolmogorov-Smirnov\n",
        "    ks_stat, p_value = kstest(numeric_cols[col], 'uniform', args=(0, 1))\n",
        "\n",
        "    # Evaluar la hipótesis nula\n",
        "    if p_value < alpha:\n",
        "        conclusion = 'Rechaza la hipótesis nula (no es uniforme)'\n",
        "    else:\n",
        "        conclusion = 'No se rechaza la hipótesis nula (es uniforme)'\n",
        "\n",
        "    results[col] = {\n",
        "        'KS Statistic': ks_stat,\n",
        "        'P-value': p_value,\n",
        "        'Conclusión': conclusion\n",
        "    }\n",
        "\n",
        "# Convertir los resultados a un DataFrame para visualización\n",
        "results_df = pd.DataFrame(results).T\n",
        "\n",
        "# Mostrar los resultados\n",
        "print(results_df)"
      ],
      "metadata": {
        "colab": {
          "base_uri": "https://localhost:8080/"
        },
        "id": "ZfUxFJ5Hj5Za",
        "outputId": "1b9fc2d6-0b63-436a-882b-85c10510691f"
      },
      "execution_count": 22,
      "outputs": [
        {
          "output_type": "stream",
          "name": "stdout",
          "text": [
            "                                  KS Statistic   P-value  \\\n",
            "Método Cuadrados medios                 0.0874  0.406355   \n",
            "Método Congruencial                    0.09322  0.329248   \n",
            "Método Congruencial  Mixto             0.04429  0.984671   \n",
            "Aleatorios Google Sheets {RAND()}      0.08091  0.503744   \n",
            "\n",
            "                                                                      Conclusión  \n",
            "Método Cuadrados medios            No se rechaza la hipótesis nula (es uniforme)  \n",
            "Método Congruencial                No se rechaza la hipótesis nula (es uniforme)  \n",
            "Método Congruencial  Mixto         No se rechaza la hipótesis nula (es uniforme)  \n",
            "Aleatorios Google Sheets {RAND()}  No se rechaza la hipótesis nula (es uniforme)  \n"
          ]
        }
      ]
    },
    {
      "cell_type": "markdown",
      "source": [
        "## Aoderson-Ddling"
      ],
      "metadata": {
        "id": "b-s0-TyrkYnv"
      }
    },
    {
      "cell_type": "code",
      "source": [
        "# Normalizar los datos entre 0 y 1 para la prueba de Anderson-Darling\n",
        "results = {}\n",
        "\n",
        "for col in numeric_cols.columns:\n",
        "    # Normalizar la columna entre 0 y 1\n",
        "    col_data = (numeric_cols[col] - numeric_cols[col].min()) / (numeric_cols[col].max() - numeric_cols[col].min())\n",
        "\n",
        "    # Realizar la prueba de Anderson-Darling para la distribución normal\n",
        "    ad_result = anderson(col_data, dist='norm')\n",
        "\n",
        "    # Evaluar la hipótesis nula usando el umbral más cercano\n",
        "    stat_value = ad_result.statistic\n",
        "    critical_value = ad_result.critical_values[2]  # Usando el nivel de significancia del 5%\n",
        "\n",
        "    # Verificar si se rechaza la hipótesis nula\n",
        "    if stat_value > critical_value:\n",
        "        conclusion = 'Rechaza la hipótesis nula (no es uniforme)'\n",
        "    else:\n",
        "        conclusion = 'No se rechaza la hipótesis nula (es uniforme)'\n",
        "\n",
        "    results[col] = {\n",
        "        'AD Statistic': stat_value,\n",
        "        'Critical Value (al 5%)': critical_value,\n",
        "        'Conclusión': conclusion\n",
        "    }\n",
        "\n",
        "# Convertir los resultados a un DataFrame para visualización\n",
        "results_df = pd.DataFrame(results).T\n",
        "\n",
        "# Mostrar los resultados\n",
        "print(results_df)"
      ],
      "metadata": {
        "colab": {
          "base_uri": "https://localhost:8080/"
        },
        "id": "pslwTu4XkaHW",
        "outputId": "2cfa8395-a607-4661-8500-d1944fa65d7b"
      },
      "execution_count": 23,
      "outputs": [
        {
          "output_type": "stream",
          "name": "stdout",
          "text": [
            "                                  AD Statistic Critical Value (al 5%)  \\\n",
            "Método Cuadrados medios               1.588644                  0.759   \n",
            "Método Congruencial                   2.776679                  0.759   \n",
            "Método Congruencial  Mixto            1.229865                  0.759   \n",
            "Aleatorios Google Sheets {RAND()}     1.964456                  0.759   \n",
            "\n",
            "                                                                   Conclusión  \n",
            "Método Cuadrados medios            Rechaza la hipótesis nula (no es uniforme)  \n",
            "Método Congruencial                Rechaza la hipótesis nula (no es uniforme)  \n",
            "Método Congruencial  Mixto         Rechaza la hipótesis nula (no es uniforme)  \n",
            "Aleatorios Google Sheets {RAND()}  Rechaza la hipótesis nula (no es uniforme)  \n"
          ]
        }
      ]
    },
    {
      "cell_type": "markdown",
      "source": [
        "# Pruebas de independencia"
      ],
      "metadata": {
        "id": "2w4O9zzxlBNd"
      }
    },
    {
      "cell_type": "code",
      "source": [
        "# Función para la prueba de corridas arriba y abajo\n",
        "def runs_test(data):\n",
        "    # Calcular las corridas (arriba y abajo)\n",
        "    runs, n1, n2 = 0, 0, 0\n",
        "\n",
        "    # Identificar si el valor es arriba o abajo respecto al promedio\n",
        "    median = data.median()\n",
        "    above = data > median\n",
        "\n",
        "    # Contar el número de corridas y la frecuencia de valores arriba y abajo\n",
        "    last = above.iloc[0]\n",
        "    for value in above:\n",
        "        if value != last:\n",
        "            runs += 1\n",
        "            last = value\n",
        "        if value:\n",
        "            n1 += 1\n",
        "        else:\n",
        "            n2 += 1\n",
        "\n",
        "    # Calcular el estadístico Z\n",
        "    N = len(data)\n",
        "    expected_runs = ((2 * n1 * n2) / N) + 1\n",
        "    std_runs = ((2 * n1 * n2) * (2 * n1 * n2 - N)) / (N**2 * (N - 1))**0.5\n",
        "    z = (runs - expected_runs) / std_runs\n",
        "\n",
        "    # Calcular el valor p a partir del estadístico Z\n",
        "    p_value = 2 * (1 - norm.cdf(abs(z)))\n",
        "\n",
        "    return z, p_value\n"
      ],
      "metadata": {
        "id": "chCLVmp7lEsf"
      },
      "execution_count": 24,
      "outputs": []
    },
    {
      "cell_type": "code",
      "source": [
        "# Realizar la prueba de corridas arriba y abajo en cada columna numérica\n",
        "results = {}\n",
        "alpha = 0.05  # Nivel de significancia\n",
        "\n",
        "for col in numeric_cols.columns:\n",
        "    # Obtener el estadístico Z y el valor p\n",
        "    z_stat, p_value = runs_test(numeric_cols[col])\n",
        "\n",
        "    # Evaluar la hipótesis nula\n",
        "    if p_value < alpha:\n",
        "        conclusion = 'Rechaza la hipótesis nula (no hay independencia)'\n",
        "    else:\n",
        "        conclusion = 'No se rechaza la hipótesis nula (hay independencia)'\n",
        "\n",
        "    results[col] = {\n",
        "        'Z Statistic': z_stat,\n",
        "        'P-value': p_value,\n",
        "        'Conclusión': conclusion\n",
        "    }\n",
        "\n",
        "# Convertir los resultados a un DataFrame para visualización\n",
        "results_df = pd.DataFrame(results).T\n",
        "\n",
        "# Mostrar los resultados\n",
        "print(results_df)"
      ],
      "metadata": {
        "colab": {
          "base_uri": "https://localhost:8080/"
        },
        "id": "v-4kA9A-lV1Y",
        "outputId": "2ee1fa18-d3fd-4536-cb95-7aead4a48c8d"
      },
      "execution_count": 25,
      "outputs": [
        {
          "output_type": "stream",
          "name": "stdout",
          "text": [
            "                                  Z Statistic   P-value  \\\n",
            "Método Cuadrados medios             -0.000203  0.999838   \n",
            "Método Congruencial                  0.000041  0.999968   \n",
            "Método Congruencial  Mixto            0.00103  0.999178   \n",
            "Aleatorios Google Sheets {RAND()}    0.000284  0.999773   \n",
            "\n",
            "                                                                          Conclusión  \n",
            "Método Cuadrados medios            No se rechaza la hipótesis nula (hay independe...  \n",
            "Método Congruencial                No se rechaza la hipótesis nula (hay independe...  \n",
            "Método Congruencial  Mixto         No se rechaza la hipótesis nula (hay independe...  \n",
            "Aleatorios Google Sheets {RAND()}  No se rechaza la hipótesis nula (hay independe...  \n"
          ]
        }
      ]
    },
    {
      "cell_type": "markdown",
      "source": [
        "## Prueba de corridas arriba y debajo de la media"
      ],
      "metadata": {
        "id": "S9G6fEhjoBx5"
      }
    },
    {
      "cell_type": "code",
      "source": [
        "# Función para la prueba de corridas arriba y debajo de la media\n",
        "def runs_test_mean(data):\n",
        "    # Calcular la media\n",
        "    mean = data.mean()\n",
        "\n",
        "    # Determinar las corridas por encima y por debajo de la media\n",
        "    runs, n1, n2 = 0, 0, 0\n",
        "    above = data > mean\n",
        "\n",
        "    # Contar el número de corridas y la frecuencia de valores por encima y por debajo\n",
        "    last = above.iloc[0]\n",
        "    for value in above:\n",
        "        if value != last:\n",
        "            runs += 1\n",
        "            last = value\n",
        "        if value:\n",
        "            n1 += 1\n",
        "        else:\n",
        "            n2 += 1\n",
        "\n",
        "    # Calcular el estadístico Z\n",
        "    N = len(data)\n",
        "    expected_runs = ((2 * n1 * n2) / N) + 1\n",
        "    std_runs = ((2 * n1 * n2) * (2 * n1 * n2 - N)) / (N**2 * (N - 1))**0.5\n",
        "    z = (runs - expected_runs) / std_runs\n",
        "\n",
        "    # Calcular el valor p a partir del estadístico Z\n",
        "    p_value = 2 * (1 - norm.cdf(abs(z)))\n",
        "\n",
        "    return z, p_value"
      ],
      "metadata": {
        "id": "Fbt4FzZ9oFzu"
      },
      "execution_count": 26,
      "outputs": []
    },
    {
      "cell_type": "code",
      "source": [
        "# Realizar la prueba de corridas arriba y debajo de la media en cada columna numérica\n",
        "results = {}\n",
        "alpha = 0.05  # Nivel de significancia\n",
        "\n",
        "for col in numeric_cols.columns:\n",
        "    # Obtener el estadístico Z y el valor p\n",
        "    z_stat, p_value = runs_test_mean(numeric_cols[col])\n",
        "\n",
        "    # Evaluar la hipótesis nula\n",
        "    if p_value < alpha:\n",
        "        conclusion = 'Rechaza la hipótesis nula (no hay independencia)'\n",
        "    else:\n",
        "        conclusion = 'No se rechaza la hipótesis nula (hay independencia)'\n",
        "\n",
        "    results[col] = {\n",
        "        'Z Statistic': z_stat,\n",
        "        'P-value': p_value,\n",
        "        'Conclusión': conclusion\n",
        "    }\n",
        "\n",
        "# Convertir los resultados a un DataFrame para visualización\n",
        "results_df = pd.DataFrame(results).T\n",
        "\n",
        "# Mostrar los resultados\n",
        "print(results_df)"
      ],
      "metadata": {
        "colab": {
          "base_uri": "https://localhost:8080/"
        },
        "id": "RO5YQPx3oK0z",
        "outputId": "90770b40-e595-4bbc-de08-af003f041e38"
      },
      "execution_count": 27,
      "outputs": [
        {
          "output_type": "stream",
          "name": "stdout",
          "text": [
            "                                  Z Statistic   P-value  \\\n",
            "Método Cuadrados medios             -0.000197  0.999843   \n",
            "Método Congruencial                  0.000041  0.999967   \n",
            "Método Congruencial  Mixto           0.000981  0.999217   \n",
            "Aleatorios Google Sheets {RAND()}     0.00013  0.999896   \n",
            "\n",
            "                                                                          Conclusión  \n",
            "Método Cuadrados medios            No se rechaza la hipótesis nula (hay independe...  \n",
            "Método Congruencial                No se rechaza la hipótesis nula (hay independe...  \n",
            "Método Congruencial  Mixto         No se rechaza la hipótesis nula (hay independe...  \n",
            "Aleatorios Google Sheets {RAND()}  No se rechaza la hipótesis nula (hay independe...  \n"
          ]
        }
      ]
    },
    {
      "cell_type": "markdown",
      "source": [
        "## De series"
      ],
      "metadata": {
        "id": "8yjNOtQzkLKT"
      }
    },
    {
      "cell_type": "code",
      "source": [
        "# Función para la prueba de series\n",
        "def series_test(data, num_bins=10):\n",
        "    # Discretizar los datos en bins (intervalos) para formar pares\n",
        "    binned_data = pd.cut(data, bins=num_bins, labels=False)\n",
        "\n",
        "    # Contar las frecuencias observadas de pares consecutivos\n",
        "    N = len(binned_data) - 1\n",
        "    observed = pd.crosstab(binned_data[:-1], binned_data[1:])\n",
        "\n",
        "    # Calcular las frecuencias esperadas asumiendo independencia\n",
        "    expected = observed.sum(axis=1).values.reshape(-1, 1) * observed.sum(axis=0).values / N\n",
        "\n",
        "    # Calcular el estadístico ji cuadrada\n",
        "    chi2_stat = ((observed - expected) ** 2 / expected).sum().sum()\n",
        "\n",
        "    # Grados de libertad para la prueba\n",
        "    df = (num_bins - 1) * (num_bins - 1)\n",
        "\n",
        "    # Calcular el valor p\n",
        "    p_value = 1 - chi2.cdf(chi2_stat, df)\n",
        "\n",
        "    return chi2_stat, p_value"
      ],
      "metadata": {
        "id": "TXNscJc7kOLO"
      },
      "execution_count": 28,
      "outputs": []
    },
    {
      "cell_type": "code",
      "source": [
        "# Realizar la prueba de series en cada columna numérica\n",
        "results = {}\n",
        "alpha = 0.05  # Nivel de significancia\n",
        "\n",
        "for col in numeric_cols.columns:\n",
        "    # Obtener el estadístico chi2 y el valor p\n",
        "    chi2_stat, p_value = series_test(numeric_cols[col])\n",
        "\n",
        "    # Evaluar la hipótesis nula\n",
        "    if p_value < alpha:\n",
        "        conclusion = 'Rechaza la hipótesis nula (no hay independencia)'\n",
        "    else:\n",
        "        conclusion = 'No se rechaza la hipótesis nula (hay independencia)'\n",
        "\n",
        "    results[col] = {\n",
        "        'Chi2 Statistic': chi2_stat,\n",
        "        'P-value': p_value,\n",
        "        'Conclusión': conclusion\n",
        "    }\n",
        "\n",
        "# Convertir los resultados a un DataFrame para visualización\n",
        "results_df = pd.DataFrame(results).T\n",
        "\n",
        "# Mostrar los resultados\n",
        "print(results_df)"
      ],
      "metadata": {
        "colab": {
          "base_uri": "https://localhost:8080/"
        },
        "id": "seHsz-wCkUv6",
        "outputId": "3c5f6de7-c57d-4fc4-9d97-31106c3a152b"
      },
      "execution_count": 29,
      "outputs": [
        {
          "output_type": "stream",
          "name": "stdout",
          "text": [
            "                                  Chi2 Statistic P-value  \\\n",
            "Método Cuadrados medios               891.010101     0.0   \n",
            "Método Congruencial                   891.010101     0.0   \n",
            "Método Congruencial  Mixto            891.010101     0.0   \n",
            "Aleatorios Google Sheets {RAND()}     891.010101     0.0   \n",
            "\n",
            "                                                                         Conclusión  \n",
            "Método Cuadrados medios            Rechaza la hipótesis nula (no hay independencia)  \n",
            "Método Congruencial                Rechaza la hipótesis nula (no hay independencia)  \n",
            "Método Congruencial  Mixto         Rechaza la hipótesis nula (no hay independencia)  \n",
            "Aleatorios Google Sheets {RAND()}  Rechaza la hipótesis nula (no hay independencia)  \n"
          ]
        }
      ]
    },
    {
      "cell_type": "markdown",
      "source": [
        "## De Póker"
      ],
      "metadata": {
        "id": "Gsu2Fi66lH_R"
      }
    },
    {
      "cell_type": "code",
      "source": [
        "# Función para clasificar manos de póker\n",
        "def classify_poker_hand(number):\n",
        "    digits = list(str(number)[2:7])  # Tomar los primeros 5 dígitos decimales\n",
        "    counts = pd.Series(digits).value_counts()\n",
        "\n",
        "    if counts.max() == 5:\n",
        "        return 'Five of a Kind'\n",
        "    elif counts.max() == 4:\n",
        "        return 'Four of a Kind'\n",
        "    elif counts.max() == 3 and counts.nunique() == 2:\n",
        "        return 'Full House'\n",
        "    elif counts.max() == 3:\n",
        "        return 'Three of a Kind'\n",
        "    elif counts.max() == 2 and counts.nunique() == 3:\n",
        "        return 'Two Pair'\n",
        "    elif counts.max() == 2:\n",
        "        return 'One Pair'\n",
        "    else:\n",
        "        return 'All Different'"
      ],
      "metadata": {
        "id": "X5JnohtrlMDs"
      },
      "execution_count": 30,
      "outputs": []
    },
    {
      "cell_type": "code",
      "source": [
        "# Frecuencias esperadas para cada mano en la prueba de póker\n",
        "expected_frequencies = {\n",
        "    'Five of a Kind': 0.0001,\n",
        "    'Four of a Kind': 0.0045,\n",
        "    'Full House': 0.009,\n",
        "    'Three of a Kind': 0.072,\n",
        "    'Two Pair': 0.108,\n",
        "    'One Pair': 0.504,\n",
        "    'All Different': 0.3024\n",
        "}\n",
        "\n",
        "# Función para realizar la prueba de póker\n",
        "def poker_test(data):\n",
        "    # Clasificar cada número en una mano de póker\n",
        "    hands = data.apply(classify_poker_hand)\n",
        "    observed_frequencies = hands.value_counts().reindex(expected_frequencies.keys(), fill_value=0).values\n",
        "\n",
        "    # Calcular frecuencias esperadas en función del tamaño de la muestra\n",
        "    n = len(data)\n",
        "    expected_counts = [n * freq for freq in expected_frequencies.values()]\n",
        "\n",
        "    # Calcular el estadístico ji cuadrada\n",
        "    chi2_stat = ((observed_frequencies - expected_counts) ** 2 / expected_counts).sum()\n",
        "\n",
        "    # Grados de libertad para la prueba (7 manos de póker - 1)\n",
        "    df = len(expected_frequencies) - 1\n",
        "\n",
        "    # Calcular el valor p\n",
        "    p_value = 1 - chi2.cdf(chi2_stat, df)\n",
        "\n",
        "    return chi2_stat, p_value"
      ],
      "metadata": {
        "id": "HjvitUD9lPXV"
      },
      "execution_count": 31,
      "outputs": []
    },
    {
      "cell_type": "code",
      "source": [
        "# Realizar la prueba de póker en cada columna numérica\n",
        "results = {}\n",
        "alpha = 0.05  # Nivel de significancia\n",
        "\n",
        "for col in numeric_cols.columns:\n",
        "    # Obtener el estadístico chi2 y el valor p\n",
        "    chi2_stat, p_value = poker_test(numeric_cols[col])\n",
        "\n",
        "    # Evaluar la hipótesis nula\n",
        "    if p_value < alpha:\n",
        "        conclusion = 'Rechaza la hipótesis nula (no hay aleatoriedad)'\n",
        "    else:\n",
        "        conclusion = 'No se rechaza la hipótesis nula (hay aleatoriedad)'\n",
        "\n",
        "    results[col] = {\n",
        "        'Chi2 Statistic': chi2_stat,\n",
        "        'P-value': p_value,\n",
        "        'Conclusión': conclusion\n",
        "    }\n",
        "\n",
        "# Convertir los resultados a un DataFrame para visualización\n",
        "results_df = pd.DataFrame(results).T\n",
        "\n",
        "# Mostrar los resultados\n",
        "print(results_df)"
      ],
      "metadata": {
        "colab": {
          "base_uri": "https://localhost:8080/"
        },
        "id": "jCPiNLKwlSdG",
        "outputId": "b2571f11-228e-4502-e3ac-9b409dc2f9dc"
      },
      "execution_count": 32,
      "outputs": [
        {
          "output_type": "stream",
          "name": "stdout",
          "text": [
            "                                  Chi2 Statistic P-value  \\\n",
            "Método Cuadrados medios                87.003968     0.0   \n",
            "Método Congruencial                    78.306878     0.0   \n",
            "Método Congruencial  Mixto             92.691799     0.0   \n",
            "Aleatorios Google Sheets {RAND()}      76.025132     0.0   \n",
            "\n",
            "                                                                        Conclusión  \n",
            "Método Cuadrados medios            Rechaza la hipótesis nula (no hay aleatoriedad)  \n",
            "Método Congruencial                Rechaza la hipótesis nula (no hay aleatoriedad)  \n",
            "Método Congruencial  Mixto         Rechaza la hipótesis nula (no hay aleatoriedad)  \n",
            "Aleatorios Google Sheets {RAND()}  Rechaza la hipótesis nula (no hay aleatoriedad)  \n"
          ]
        }
      ]
    },
    {
      "cell_type": "markdown",
      "source": [
        "## De huecos"
      ],
      "metadata": {
        "id": "vi_ljht1l9Y_"
      }
    },
    {
      "cell_type": "code",
      "source": [
        "# Función para la prueba de huecos\n",
        "def gaps_test(data, lower_bound=0.4, upper_bound=0.6, max_gap_length=5):\n",
        "    # Identificar las posiciones donde los valores están dentro del rango especificado\n",
        "    in_range = (data >= lower_bound) & (data <= upper_bound)\n",
        "\n",
        "    # Contar la longitud de los huecos entre las apariciones dentro del rango\n",
        "    gap_lengths = []\n",
        "    gap_count = 0\n",
        "\n",
        "    for is_in_range in in_range:\n",
        "        if is_in_range:\n",
        "            if gap_count > 0:\n",
        "                gap_lengths.append(min(gap_count, max_gap_length))\n",
        "                gap_count = 0\n",
        "        else:\n",
        "            gap_count += 1\n",
        "\n",
        "    if gap_count > 0:\n",
        "        gap_lengths.append(min(gap_count, max_gap_length))\n",
        "\n",
        "    # Contar las frecuencias observadas de cada longitud de hueco\n",
        "    observed = pd.Series(gap_lengths).value_counts().reindex(range(1, max_gap_length + 1), fill_value=0).values\n",
        "\n",
        "    # Calcular las frecuencias esperadas para cada longitud de hueco\n",
        "    p_in_range = upper_bound - lower_bound\n",
        "    expected = [(p_in_range * (1 - p_in_range) ** (k - 1)) * len(data) for k in range(1, max_gap_length + 1)]\n",
        "\n",
        "    # Calcular el estadístico ji cuadrada\n",
        "    chi2_stat = ((observed - expected) ** 2 / expected).sum()\n",
        "\n",
        "    # Grados de libertad para la prueba\n",
        "    df = max_gap_length - 1\n",
        "\n",
        "    # Calcular el valor p\n",
        "    p_value = 1 - chi2.cdf(chi2_stat, df)\n",
        "\n",
        "    return chi2_stat, p_value"
      ],
      "metadata": {
        "id": "AamH4TlmmAJN"
      },
      "execution_count": 33,
      "outputs": []
    },
    {
      "cell_type": "code",
      "source": [
        "# Realizar la prueba de huecos en cada columna numérica\n",
        "results = {}\n",
        "alpha = 0.05  # Nivel de significancia\n",
        "\n",
        "for col in numeric_cols.columns:\n",
        "    # Obtener el estadístico chi2 y el valor p para la prueba de huecos\n",
        "    chi2_stat, p_value = gaps_test(numeric_cols[col])\n",
        "\n",
        "    # Evaluar la hipótesis nula\n",
        "    if p_value < alpha:\n",
        "        conclusion = 'Rechaza la hipótesis nula (no hay aleatoriedad)'\n",
        "    else:\n",
        "        conclusion = 'No se rechaza la hipótesis nula (hay aleatoriedad)'\n",
        "\n",
        "    results[col] = {\n",
        "        'Chi2 Statistic': chi2_stat,\n",
        "        'P-value': p_value,\n",
        "        'Conclusión': conclusion\n",
        "    }\n",
        "\n",
        "# Convertir los resultados a un DataFrame para visualización\n",
        "results_df = pd.DataFrame(results).T\n",
        "\n",
        "# Mostrar los resultados\n",
        "print(results_df)"
      ],
      "metadata": {
        "colab": {
          "base_uri": "https://localhost:8080/"
        },
        "id": "zy5b_OMAmH24",
        "outputId": "9398a882-d642-458d-8004-506ce79bb2c7"
      },
      "execution_count": 34,
      "outputs": [
        {
          "output_type": "stream",
          "name": "stdout",
          "text": [
            "                                  Chi2 Statistic P-value  \\\n",
            "Método Cuadrados medios                43.986883     0.0   \n",
            "Método Congruencial                    53.747625     0.0   \n",
            "Método Congruencial  Mixto             41.756414     0.0   \n",
            "Aleatorios Google Sheets {RAND()}      49.557977     0.0   \n",
            "\n",
            "                                                                        Conclusión  \n",
            "Método Cuadrados medios            Rechaza la hipótesis nula (no hay aleatoriedad)  \n",
            "Método Congruencial                Rechaza la hipótesis nula (no hay aleatoriedad)  \n",
            "Método Congruencial  Mixto         Rechaza la hipótesis nula (no hay aleatoriedad)  \n",
            "Aleatorios Google Sheets {RAND()}  Rechaza la hipótesis nula (no hay aleatoriedad)  \n"
          ]
        }
      ]
    },
    {
      "cell_type": "markdown",
      "source": [
        "# Estimaciones de una DUE"
      ],
      "metadata": {
        "id": "5cagt_UYnLHo"
      }
    },
    {
      "cell_type": "markdown",
      "source": [
        "## Media"
      ],
      "metadata": {
        "id": "BfM-fI28nQxT"
      }
    },
    {
      "cell_type": "code",
      "source": [
        "# Función para la prueba de DUE media\n",
        "def due_mean_test(data):\n",
        "    # Calcular la media de la muestra\n",
        "    sample_mean = data.mean()\n",
        "\n",
        "    # Media y desviación estándar esperadas para una distribución uniforme\n",
        "    expected_mean = 0.5\n",
        "    sample_std = data.std(ddof=1)\n",
        "\n",
        "    # Tamaño de la muestra\n",
        "    n = len(data)\n",
        "\n",
        "    # Calcular el estadístico t\n",
        "    t_stat = (sample_mean - expected_mean) / (sample_std / (n ** 0.5))\n",
        "\n",
        "    # Calcular el valor p (prueba bilateral)\n",
        "    p_value = 2 * (1 - t.cdf(abs(t_stat), df=n-1))\n",
        "\n",
        "    return t_stat, p_value"
      ],
      "metadata": {
        "id": "Copz5PCYnS9G"
      },
      "execution_count": 35,
      "outputs": []
    },
    {
      "cell_type": "code",
      "source": [
        "# Realizar la prueba de DUE media en cada columna numérica\n",
        "results = {}\n",
        "alpha = 0.05  # Nivel de significancia\n",
        "\n",
        "for col in numeric_cols.columns:\n",
        "    # Obtener el estadístico t y el valor p para la prueba de DUE media\n",
        "    t_stat, p_value = due_mean_test(numeric_cols[col])\n",
        "\n",
        "    # Evaluar la hipótesis nula\n",
        "    if p_value < alpha:\n",
        "        conclusion = 'Rechaza la hipótesis nula (media diferente de 0.5)'\n",
        "    else:\n",
        "        conclusion = 'No se rechaza la hipótesis nula (media igual a 0.5)'\n",
        "\n",
        "    results[col] = {\n",
        "        'T Statistic': t_stat,\n",
        "        'P-value': p_value,\n",
        "        'Conclusión': conclusion\n",
        "    }\n",
        "\n",
        "# Convertir los resultados a un DataFrame para visualización\n",
        "results_df = pd.DataFrame(results).T\n",
        "\n",
        "# Mostrar los resultados\n",
        "print(results_df)"
      ],
      "metadata": {
        "colab": {
          "base_uri": "https://localhost:8080/"
        },
        "id": "O7NzykPEnZG6",
        "outputId": "89519433-0b3d-4186-b568-fea9dd537e4c"
      },
      "execution_count": 36,
      "outputs": [
        {
          "output_type": "stream",
          "name": "stdout",
          "text": [
            "                                  T Statistic   P-value  \\\n",
            "Método Cuadrados medios              0.097114  0.922832   \n",
            "Método Congruencial                  0.860607  0.391534   \n",
            "Método Congruencial  Mixto          -0.510706  0.610694   \n",
            "Aleatorios Google Sheets {RAND()}    0.674192  0.501761   \n",
            "\n",
            "                                                                          Conclusión  \n",
            "Método Cuadrados medios            No se rechaza la hipótesis nula (media igual a...  \n",
            "Método Congruencial                No se rechaza la hipótesis nula (media igual a...  \n",
            "Método Congruencial  Mixto         No se rechaza la hipótesis nula (media igual a...  \n",
            "Aleatorios Google Sheets {RAND()}  No se rechaza la hipótesis nula (media igual a...  \n"
          ]
        }
      ]
    },
    {
      "cell_type": "markdown",
      "source": [
        "## Varianza"
      ],
      "metadata": {
        "id": "KxO5kFASnpUN"
      }
    },
    {
      "cell_type": "code",
      "source": [
        "# Función para la prueba de DUE de varianza\n",
        "def due_variance_test(data):\n",
        "    # Calcular la varianza de la muestra\n",
        "    sample_var = data.var(ddof=1)\n",
        "\n",
        "    # Varianza esperada para una distribución uniforme en [0, 1]\n",
        "    expected_var = 1 / 12\n",
        "\n",
        "    # Tamaño de la muestra\n",
        "    n = len(data)\n",
        "\n",
        "    # Calcular el estadístico chi cuadrada\n",
        "    chi2_stat = (n - 1) * sample_var / expected_var\n",
        "\n",
        "    # Calcular el valor p (prueba bilateral)\n",
        "    p_value = 2 * min(1 - chi2.cdf(chi2_stat, df=n-1), chi2.cdf(chi2_stat, df=n-1))\n",
        "\n",
        "    return chi2_stat, p_value"
      ],
      "metadata": {
        "id": "OuAPvcAXnrCm"
      },
      "execution_count": 37,
      "outputs": []
    },
    {
      "cell_type": "code",
      "source": [
        "# Realizar la prueba de DUE de varianza en cada columna numérica\n",
        "results = {}\n",
        "alpha = 0.05  # Nivel de significancia\n",
        "\n",
        "for col in numeric_cols.columns:\n",
        "    # Obtener el estadístico chi2 y el valor p para la prueba de DUE de varianza\n",
        "    chi2_stat, p_value = due_variance_test(numeric_cols[col])\n",
        "\n",
        "    # Evaluar la hipótesis nula\n",
        "    if p_value < alpha:\n",
        "        conclusion = 'Rechaza la hipótesis nula (varianza diferente de 1/12)'\n",
        "    else:\n",
        "        conclusion = 'No se rechaza la hipótesis nula (varianza igual a 1/12)'\n",
        "\n",
        "    results[col] = {\n",
        "        'Chi2 Statistic': chi2_stat,\n",
        "        'P-value': p_value,\n",
        "        'Conclusión': conclusion\n",
        "    }\n",
        "\n",
        "# Convertir los resultados a un DataFrame para visualización\n",
        "results_df = pd.DataFrame(results).T\n",
        "\n",
        "# Mostrar los resultados\n",
        "print(results_df)"
      ],
      "metadata": {
        "colab": {
          "base_uri": "https://localhost:8080/"
        },
        "id": "DqKvwbCSnxpZ",
        "outputId": "45cc0924-8a20-4b99-8dde-74e0aa9da34a"
      },
      "execution_count": 38,
      "outputs": [
        {
          "output_type": "stream",
          "name": "stdout",
          "text": [
            "                                  Chi2 Statistic   P-value  \\\n",
            "Método Cuadrados medios                83.652449  0.269271   \n",
            "Método Congruencial                   106.422694  0.574127   \n",
            "Método Congruencial  Mixto               99.2565  0.947694   \n",
            "Aleatorios Google Sheets {RAND()}     110.618592  0.399566   \n",
            "\n",
            "                                                                          Conclusión  \n",
            "Método Cuadrados medios            No se rechaza la hipótesis nula (varianza igua...  \n",
            "Método Congruencial                No se rechaza la hipótesis nula (varianza igua...  \n",
            "Método Congruencial  Mixto         No se rechaza la hipótesis nula (varianza igua...  \n",
            "Aleatorios Google Sheets {RAND()}  No se rechaza la hipótesis nula (varianza igua...  \n"
          ]
        }
      ]
    }
  ]
}