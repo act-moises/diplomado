{
  "nbformat": 4,
  "nbformat_minor": 0,
  "metadata": {
    "colab": {
      "provenance": [],
      "authorship_tag": "ABX9TyPM2iCnuCpZMoLhXb/l4Qpu",
      "include_colab_link": true
    },
    "kernelspec": {
      "name": "python3",
      "display_name": "Python 3"
    },
    "language_info": {
      "name": "python"
    }
  },
  "cells": [
    {
      "cell_type": "markdown",
      "metadata": {
        "id": "view-in-github",
        "colab_type": "text"
      },
      "source": [
        "<a href=\"https://colab.research.google.com/github/act-moises/diplomado/blob/main/C%C3%B3digo_Pr%C3%A1ctica_5_ModV.ipynb\" target=\"_parent\"><img src=\"https://colab.research.google.com/assets/colab-badge.svg\" alt=\"Open In Colab\"/></a>"
      ]
    },
    {
      "cell_type": "code",
      "source": [
        "import pandas as pd\n",
        "from scipy.stats import chisquare\n",
        "from scipy.stats import kstest\n",
        "from scipy.stats import anderson\n",
        "from scipy.stats import norm\n",
        "from scipy.stats import chi2\n",
        "from scipy.stats import t"
      ],
      "metadata": {
        "id": "j7qJN5nfiIxc"
      },
      "execution_count": 19,
      "outputs": []
    },
    {
      "cell_type": "code",
      "execution_count": 20,
      "metadata": {
        "id": "VS4nVBgkh557"
      },
      "outputs": [],
      "source": [
        "\n",
        "# Cargar el archivo CSV (asegúrate de subir el archivo a Google Colab)\n",
        "file_path = 'data.csv'  # Cambia esto con el nombre del archivo subido\n",
        "df = pd.read_csv(file_path)\n",
        "\n",
        "# Excluir la columna 'N.' y seleccionar solo las columnas numéricas restantes\n",
        "df = df.drop(columns=['N.'], errors='ignore')\n",
        "numeric_cols = df.select_dtypes(include='number')\n"
      ]
    },
    {
      "cell_type": "markdown",
      "source": [
        "# Pruebas de uniformidad"
      ],
      "metadata": {
        "id": "ioJu0ilbjjo3"
      }
    },
    {
      "cell_type": "markdown",
      "source": [
        "## J-Quadrada"
      ],
      "metadata": {
        "id": "y3e8OEKCjxjW"
      }
    },
    {
      "cell_type": "code",
      "source": [
        "# Realizar la prueba de ji cuadrada en cada columna numérica\n",
        "results = {}\n",
        "alpha = 0.05  # Nivel de significancia\n",
        "\n",
        "for col in numeric_cols.columns:\n",
        "    observed_frequencies = pd.cut(numeric_cols[col], bins=10).value_counts().values\n",
        "    expected_frequencies = [len(numeric_cols[col]) / 10] * 10\n",
        "    chi2_stat, p_value = chisquare(observed_frequencies, f_exp=expected_frequencies)\n",
        "\n",
        "    # Evaluar la hipótesis nula\n",
        "    if p_value < alpha:\n",
        "        conclusion = 'Rechaza la hipótesis nula (no es uniforme)'\n",
        "    else:\n",
        "        conclusion = 'No se rechaza la hipótesis nula (es uniforme)'\n",
        "\n",
        "    results[col] = {\n",
        "        'Chi2 Statistic': chi2_stat,\n",
        "        'P-value': p_value,\n",
        "        'Conclusión': conclusion\n",
        "    }\n",
        "\n",
        "# Convertir los resultados a un DataFrame para visualización\n",
        "results_df = pd.DataFrame(results).T\n",
        "\n",
        "# Mostrar los resultados\n",
        "print(results_df)"
      ],
      "metadata": {
        "colab": {
          "base_uri": "https://localhost:8080/"
        },
        "id": "SvGS18nIiNKp",
        "outputId": "a3f5a646-3658-428f-f916-54be23106ede"
      },
      "execution_count": 21,
      "outputs": [
        {
          "output_type": "stream",
          "name": "stdout",
          "text": [
            "                                  Chi2 Statistic   P-value  \\\n",
            "Método Cuadrados medios                     23.2  0.005762   \n",
            "Método Congruencial                         22.2  0.008266   \n",
            "Método Congruencial  Mixto                   2.0  0.991468   \n",
            "Aleatorios Google Sheets {RAND()}            6.2  0.719747   \n",
            "\n",
            "                                                                      Conclusión  \n",
            "Método Cuadrados medios               Rechaza la hipótesis nula (no es uniforme)  \n",
            "Método Congruencial                   Rechaza la hipótesis nula (no es uniforme)  \n",
            "Método Congruencial  Mixto         No se rechaza la hipótesis nula (es uniforme)  \n",
            "Aleatorios Google Sheets {RAND()}  No se rechaza la hipótesis nula (es uniforme)  \n"
          ]
        }
      ]
    },
    {
      "cell_type": "markdown",
      "source": [
        "## Kolmogorov-Smirnov"
      ],
      "metadata": {
        "id": "6tzva1qEjmWt"
      }
    },
    {
      "cell_type": "code",
      "source": [
        "# Realizar la prueba de Kolmogorov-Smirnov en cada columna numérica\n",
        "results = {}\n",
        "alpha = 0.05  # Nivel de significancia\n",
        "\n",
        "for col in numeric_cols.columns:\n",
        "    # Realizar la prueba de Kolmogorov-Smirnov\n",
        "    ks_stat, p_value = kstest(numeric_cols[col], 'uniform', args=(0, 1))\n",
        "\n",
        "    # Evaluar la hipótesis nula\n",
        "    if p_value < alpha:\n",
        "        conclusion = 'Rechaza la hipótesis nula (no es uniforme)'\n",
        "    else:\n",
        "        conclusion = 'No se rechaza la hipótesis nula (es uniforme)'\n",
        "\n",
        "    results[col] = {\n",
        "        'KS Statistic': ks_stat,\n",
        "        'P-value': p_value,\n",
        "        'Conclusión': conclusion\n",
        "    }\n",
        "\n",
        "# Convertir los resultados a un DataFrame para visualización\n",
        "results_df = pd.DataFrame(results).T\n",
        "\n",
        "# Mostrar los resultados\n",
        "print(results_df)"
      ],
      "metadata": {
        "colab": {
          "base_uri": "https://localhost:8080/"
        },
        "id": "ZfUxFJ5Hj5Za",
        "outputId": "5b70a289-f321-40e9-efcb-ca587fb5efea"
      },
      "execution_count": 22,
      "outputs": [
        {
          "output_type": "stream",
          "name": "stdout",
          "text": [
            "                                  KS Statistic   P-value  \\\n",
            "Método Cuadrados medios                 0.0874  0.406355   \n",
            "Método Congruencial                    0.09322  0.329248   \n",
            "Método Congruencial  Mixto             0.04429  0.984671   \n",
            "Aleatorios Google Sheets {RAND()}      0.08091  0.503744   \n",
            "\n",
            "                                                                      Conclusión  \n",
            "Método Cuadrados medios            No se rechaza la hipótesis nula (es uniforme)  \n",
            "Método Congruencial                No se rechaza la hipótesis nula (es uniforme)  \n",
            "Método Congruencial  Mixto         No se rechaza la hipótesis nula (es uniforme)  \n",
            "Aleatorios Google Sheets {RAND()}  No se rechaza la hipótesis nula (es uniforme)  \n"
          ]
        }
      ]
    },
    {
      "cell_type": "markdown",
      "source": [
        "## Aoderson-Ddling"
      ],
      "metadata": {
        "id": "b-s0-TyrkYnv"
      }
    },
    {
      "cell_type": "code",
      "source": [
        "# Normalizar los datos entre 0 y 1 para la prueba de Anderson-Darling\n",
        "results = {}\n",
        "\n",
        "for col in numeric_cols.columns:\n",
        "    # Normalizar la columna entre 0 y 1\n",
        "    col_data = (numeric_cols[col] - numeric_cols[col].min()) / (numeric_cols[col].max() - numeric_cols[col].min())\n",
        "\n",
        "    # Realizar la prueba de Anderson-Darling para la distribución normal\n",
        "    ad_result = anderson(col_data, dist='norm')\n",
        "\n",
        "    # Evaluar la hipótesis nula usando el umbral más cercano\n",
        "    stat_value = ad_result.statistic\n",
        "    critical_value = ad_result.critical_values[2]  # Usando el nivel de significancia del 5%\n",
        "\n",
        "    # Verificar si se rechaza la hipótesis nula\n",
        "    if stat_value > critical_value:\n",
        "        conclusion = 'Rechaza la hipótesis nula (no es uniforme)'\n",
        "    else:\n",
        "        conclusion = 'No se rechaza la hipótesis nula (es uniforme)'\n",
        "\n",
        "    results[col] = {\n",
        "        'AD Statistic': stat_value,\n",
        "        'Critical Value (al 5%)': critical_value,\n",
        "        'Conclusión': conclusion\n",
        "    }\n",
        "\n",
        "# Convertir los resultados a un DataFrame para visualización\n",
        "results_df = pd.DataFrame(results).T\n",
        "\n",
        "# Mostrar los resultados\n",
        "print(results_df)"
      ],
      "metadata": {
        "colab": {
          "base_uri": "https://localhost:8080/"
        },
        "id": "pslwTu4XkaHW",
        "outputId": "ee3e6fac-0744-4ccf-c473-ca85f57d0cd5"
      },
      "execution_count": 23,
      "outputs": [
        {
          "output_type": "stream",
          "name": "stdout",
          "text": [
            "                                  AD Statistic Critical Value (al 5%)  \\\n",
            "Método Cuadrados medios               1.588644                  0.759   \n",
            "Método Congruencial                   2.776679                  0.759   \n",
            "Método Congruencial  Mixto            1.229865                  0.759   \n",
            "Aleatorios Google Sheets {RAND()}     1.964456                  0.759   \n",
            "\n",
            "                                                                   Conclusión  \n",
            "Método Cuadrados medios            Rechaza la hipótesis nula (no es uniforme)  \n",
            "Método Congruencial                Rechaza la hipótesis nula (no es uniforme)  \n",
            "Método Congruencial  Mixto         Rechaza la hipótesis nula (no es uniforme)  \n",
            "Aleatorios Google Sheets {RAND()}  Rechaza la hipótesis nula (no es uniforme)  \n"
          ]
        }
      ]
    },
    {
      "cell_type": "markdown",
      "source": [
        "# Pruebas de independencia"
      ],
      "metadata": {
        "id": "2w4O9zzxlBNd"
      }
    },
    {
      "cell_type": "code",
      "source": [
        "# Función para la prueba de corridas arriba y abajo\n",
        "def runs_test(data):\n",
        "    # Calcular las corridas (arriba y abajo)\n",
        "    runs, n1, n2 = 0, 0, 0\n",
        "\n",
        "    # Identificar si el valor es arriba o abajo respecto al promedio\n",
        "    median = data.median()\n",
        "    above = data > median\n",
        "\n",
        "    # Contar el número de corridas y la frecuencia de valores arriba y abajo\n",
        "    last = above.iloc[0]\n",
        "    for value in above:\n",
        "        if value != last:\n",
        "            runs += 1\n",
        "            last = value\n",
        "        if value:\n",
        "            n1 += 1\n",
        "        else:\n",
        "            n2 += 1\n",
        "\n",
        "    # Calcular el estadístico Z\n",
        "    N = len(data)\n",
        "    expected_runs = ((2 * n1 * n2) / N) + 1\n",
        "    std_runs = ((2 * n1 * n2) * (2 * n1 * n2 - N)) / (N**2 * (N - 1))**0.5\n",
        "    z = (runs - expected_runs) / std_runs\n",
        "\n",
        "    # Calcular el valor p a partir del estadístico Z\n",
        "    p_value = 2 * (1 - norm.cdf(abs(z)))\n",
        "\n",
        "    return z, p_value\n"
      ],
      "metadata": {
        "id": "chCLVmp7lEsf"
      },
      "execution_count": 24,
      "outputs": []
    },
    {
      "cell_type": "code",
      "source": [
        "# Realizar la prueba de corridas arriba y abajo en cada columna numérica\n",
        "results = {}\n",
        "alpha = 0.05  # Nivel de significancia\n",
        "\n",
        "for col in numeric_cols.columns:\n",
        "    # Obtener el estadístico Z y el valor p\n",
        "    z_stat, p_value = runs_test(numeric_cols[col])\n",
        "\n",
        "    # Evaluar la hipótesis nula\n",
        "    if p_value < alpha:\n",
        "        conclusion = 'Rechaza la hipótesis nula (no hay independencia)'\n",
        "    else:\n",
        "        conclusion = 'No se rechaza la hipótesis nula (hay independencia)'\n",
        "\n",
        "    results[col] = {\n",
        "        'Z Statistic': z_stat,\n",
        "        'P-value': p_value,\n",
        "        'Conclusión': conclusion\n",
        "    }\n",
        "\n",
        "# Convertir los resultados a un DataFrame para visualización\n",
        "results_df = pd.DataFrame(results).T\n",
        "\n",
        "# Mostrar los resultados\n",
        "print(results_df)"
      ],
      "metadata": {
        "colab": {
          "base_uri": "https://localhost:8080/"
        },
        "id": "v-4kA9A-lV1Y",
        "outputId": "3f0a6f34-db8b-4327-8fe3-faadcfcff2fa"
      },
      "execution_count": 25,
      "outputs": [
        {
          "output_type": "stream",
          "name": "stdout",
          "text": [
            "                                  Z Statistic   P-value  \\\n",
            "Método Cuadrados medios             -0.000203  0.999838   \n",
            "Método Congruencial                  0.000041  0.999968   \n",
            "Método Congruencial  Mixto            0.00103  0.999178   \n",
            "Aleatorios Google Sheets {RAND()}    0.000284  0.999773   \n",
            "\n",
            "                                                                          Conclusión  \n",
            "Método Cuadrados medios            No se rechaza la hipótesis nula (hay independe...  \n",
            "Método Congruencial                No se rechaza la hipótesis nula (hay independe...  \n",
            "Método Congruencial  Mixto         No se rechaza la hipótesis nula (hay independe...  \n",
            "Aleatorios Google Sheets {RAND()}  No se rechaza la hipótesis nula (hay independe...  \n"
          ]
        }
      ]
    },
    {
      "cell_type": "markdown",
      "source": [
        "## Prueba de corridas arriba y debajo de la media"
      ],
      "metadata": {
        "id": "S9G6fEhjoBx5"
      }
    },
    {
      "cell_type": "code",
      "source": [
        "# Función para la prueba de corridas arriba y debajo de la media\n",
        "def runs_test_mean(data):\n",
        "    # Calcular la media\n",
        "    mean = data.mean()\n",
        "\n",
        "    # Determinar las corridas por encima y por debajo de la media\n",
        "    runs, n1, n2 = 0, 0, 0\n",
        "    above = data > mean\n",
        "\n",
        "    # Contar el número de corridas y la frecuencia de valores por encima y por debajo\n",
        "    last = above.iloc[0]\n",
        "    for value in above:\n",
        "        if value != last:\n",
        "            runs += 1\n",
        "            last = value\n",
        "        if value:\n",
        "            n1 += 1\n",
        "        else:\n",
        "            n2 += 1\n",
        "\n",
        "    # Calcular el estadístico Z\n",
        "    N = len(data)\n",
        "    expected_runs = ((2 * n1 * n2) / N) + 1\n",
        "    std_runs = ((2 * n1 * n2) * (2 * n1 * n2 - N)) / (N**2 * (N - 1))**0.5\n",
        "    z = (runs - expected_runs) / std_runs\n",
        "\n",
        "    # Calcular el valor p a partir del estadístico Z\n",
        "    p_value = 2 * (1 - norm.cdf(abs(z)))\n",
        "\n",
        "    return z, p_value"
      ],
      "metadata": {
        "id": "Fbt4FzZ9oFzu"
      },
      "execution_count": 26,
      "outputs": []
    },
    {
      "cell_type": "code",
      "source": [
        "# Realizar la prueba de corridas arriba y debajo de la media en cada columna numérica\n",
        "results = {}\n",
        "alpha = 0.05  # Nivel de significancia\n",
        "\n",
        "for col in numeric_cols.columns:\n",
        "    # Obtener el estadístico Z y el valor p\n",
        "    z_stat, p_value = runs_test_mean(numeric_cols[col])\n",
        "\n",
        "    # Evaluar la hipótesis nula\n",
        "    if p_value < alpha:\n",
        "        conclusion = 'Rechaza la hipótesis nula (no hay independencia)'\n",
        "    else:\n",
        "        conclusion = 'No se rechaza la hipótesis nula (hay independencia)'\n",
        "\n",
        "    results[col] = {\n",
        "        'Z Statistic': z_stat,\n",
        "        'P-value': p_value,\n",
        "        'Conclusión': conclusion\n",
        "    }\n",
        "\n",
        "# Convertir los resultados a un DataFrame para visualización\n",
        "results_df = pd.DataFrame(results).T\n",
        "\n",
        "# Mostrar los resultados\n",
        "print(results_df)"
      ],
      "metadata": {
        "colab": {
          "base_uri": "https://localhost:8080/"
        },
        "id": "RO5YQPx3oK0z",
        "outputId": "f5e35d4d-e433-4a60-a167-69bf040a9db3"
      },
      "execution_count": 27,
      "outputs": [
        {
          "output_type": "stream",
          "name": "stdout",
          "text": [
            "                                  Z Statistic   P-value  \\\n",
            "Método Cuadrados medios             -0.000197  0.999843   \n",
            "Método Congruencial                  0.000041  0.999967   \n",
            "Método Congruencial  Mixto           0.000981  0.999217   \n",
            "Aleatorios Google Sheets {RAND()}     0.00013  0.999896   \n",
            "\n",
            "                                                                          Conclusión  \n",
            "Método Cuadrados medios            No se rechaza la hipótesis nula (hay independe...  \n",
            "Método Congruencial                No se rechaza la hipótesis nula (hay independe...  \n",
            "Método Congruencial  Mixto         No se rechaza la hipótesis nula (hay independe...  \n",
            "Aleatorios Google Sheets {RAND()}  No se rechaza la hipótesis nula (hay independe...  \n"
          ]
        }
      ]
    },
    {
      "cell_type": "markdown",
      "source": [
        "## De series"
      ],
      "metadata": {
        "id": "8yjNOtQzkLKT"
      }
    },
    {
      "cell_type": "code",
      "source": [
        "# Función para la prueba de series\n",
        "def series_test(data, num_bins=10):\n",
        "    # Discretizar los datos en bins (intervalos) para formar pares\n",
        "    binned_data = pd.cut(data, bins=num_bins, labels=False)\n",
        "\n",
        "    # Contar las frecuencias observadas de pares consecutivos\n",
        "    N = len(binned_data) - 1\n",
        "    observed = pd.crosstab(binned_data[:-1], binned_data[1:])\n",
        "\n",
        "    # Calcular las frecuencias esperadas asumiendo independencia\n",
        "    expected = observed.sum(axis=1).values.reshape(-1, 1) * observed.sum(axis=0).values / N\n",
        "\n",
        "    # Calcular el estadístico ji cuadrada\n",
        "    chi2_stat = ((observed - expected) ** 2 / expected).sum().sum()\n",
        "\n",
        "    # Grados de libertad para la prueba\n",
        "    df = (num_bins - 1) * (num_bins - 1)\n",
        "\n",
        "    # Calcular el valor p\n",
        "    p_value = 1 - chi2.cdf(chi2_stat, df)\n",
        "\n",
        "    return chi2_stat, p_value"
      ],
      "metadata": {
        "id": "TXNscJc7kOLO"
      },
      "execution_count": 28,
      "outputs": []
    },
    {
      "cell_type": "code",
      "source": [
        "# Realizar la prueba de series en cada columna numérica\n",
        "results = {}\n",
        "alpha = 0.05  # Nivel de significancia\n",
        "\n",
        "for col in numeric_cols.columns:\n",
        "    # Obtener el estadístico chi2 y el valor p\n",
        "    chi2_stat, p_value = series_test(numeric_cols[col])\n",
        "\n",
        "    # Evaluar la hipótesis nula\n",
        "    if p_value < alpha:\n",
        "        conclusion = 'Rechaza la hipótesis nula (no hay independencia)'\n",
        "    else:\n",
        "        conclusion = 'No se rechaza la hipótesis nula (hay independencia)'\n",
        "\n",
        "    results[col] = {\n",
        "        'Chi2 Statistic': chi2_stat,\n",
        "        'P-value': p_value,\n",
        "        'Conclusión': conclusion\n",
        "    }\n",
        "\n",
        "# Convertir los resultados a un DataFrame para visualización\n",
        "results_df = pd.DataFrame(results).T\n",
        "\n",
        "# Mostrar los resultados\n",
        "print(results_df)"
      ],
      "metadata": {
        "colab": {
          "base_uri": "https://localhost:8080/"
        },
        "id": "seHsz-wCkUv6",
        "outputId": "ffdabdde-fded-4645-c27c-7c189bbc1f00"
      },
      "execution_count": 29,
      "outputs": [
        {
          "output_type": "stream",
          "name": "stdout",
          "text": [
            "                                  Chi2 Statistic P-value  \\\n",
            "Método Cuadrados medios               891.010101     0.0   \n",
            "Método Congruencial                   891.010101     0.0   \n",
            "Método Congruencial  Mixto            891.010101     0.0   \n",
            "Aleatorios Google Sheets {RAND()}     891.010101     0.0   \n",
            "\n",
            "                                                                         Conclusión  \n",
            "Método Cuadrados medios            Rechaza la hipótesis nula (no hay independencia)  \n",
            "Método Congruencial                Rechaza la hipótesis nula (no hay independencia)  \n",
            "Método Congruencial  Mixto         Rechaza la hipótesis nula (no hay independencia)  \n",
            "Aleatorios Google Sheets {RAND()}  Rechaza la hipótesis nula (no hay independencia)  \n"
          ]
        }
      ]
    },
    {
      "cell_type": "markdown",
      "source": [
        "## De Póker"
      ],
      "metadata": {
        "id": "Gsu2Fi66lH_R"
      }
    },
    {
      "cell_type": "code",
      "source": [
        "# Función para clasificar manos de póker\n",
        "def classify_poker_hand(number):\n",
        "    digits = list(str(number)[2:7])  # Tomar los primeros 5 dígitos decimales\n",
        "    counts = pd.Series(digits).value_counts()\n",
        "\n",
        "    if counts.max() == 5:\n",
        "        return 'Five of a Kind'\n",
        "    elif counts.max() == 4:\n",
        "        return 'Four of a Kind'\n",
        "    elif counts.max() == 3 and counts.nunique() == 2:\n",
        "        return 'Full House'\n",
        "    elif counts.max() == 3:\n",
        "        return 'Three of a Kind'\n",
        "    elif counts.max() == 2 and counts.nunique() == 3:\n",
        "        return 'Two Pair'\n",
        "    elif counts.max() == 2:\n",
        "        return 'One Pair'\n",
        "    else:\n",
        "        return 'All Different'"
      ],
      "metadata": {
        "id": "X5JnohtrlMDs"
      },
      "execution_count": 30,
      "outputs": []
    },
    {
      "cell_type": "code",
      "source": [
        "# Frecuencias esperadas para cada mano en la prueba de póker\n",
        "expected_frequencies = {\n",
        "    'Five of a Kind': 0.0001,\n",
        "    'Four of a Kind': 0.0045,\n",
        "    'Full House': 0.009,\n",
        "    'Three of a Kind': 0.072,\n",
        "    'Two Pair': 0.108,\n",
        "    'One Pair': 0.504,\n",
        "    'All Different': 0.3024\n",
        "}\n",
        "\n",
        "# Función para realizar la prueba de póker\n",
        "def poker_test(data):\n",
        "    # Clasificar cada número en una mano de póker\n",
        "    hands = data.apply(classify_poker_hand)\n",
        "    observed_frequencies = hands.value_counts().reindex(expected_frequencies.keys(), fill_value=0).values\n",
        "\n",
        "    # Calcular frecuencias esperadas en función del tamaño de la muestra\n",
        "    n = len(data)\n",
        "    expected_counts = [n * freq for freq in expected_frequencies.values()]\n",
        "\n",
        "    # Calcular el estadístico ji cuadrada\n",
        "    chi2_stat = ((observed_frequencies - expected_counts) ** 2 / expected_counts).sum()\n",
        "\n",
        "    # Grados de libertad para la prueba (7 manos de póker - 1)\n",
        "    df = len(expected_frequencies) - 1\n",
        "\n",
        "    # Calcular el valor p\n",
        "    p_value = 1 - chi2.cdf(chi2_stat, df)\n",
        "\n",
        "    return chi2_stat, p_value"
      ],
      "metadata": {
        "id": "HjvitUD9lPXV"
      },
      "execution_count": 31,
      "outputs": []
    },
    {
      "cell_type": "code",
      "source": [
        "# Realizar la prueba de póker en cada columna numérica\n",
        "results = {}\n",
        "alpha = 0.05  # Nivel de significancia\n",
        "\n",
        "for col in numeric_cols.columns:\n",
        "    # Obtener el estadístico chi2 y el valor p\n",
        "    chi2_stat, p_value = poker_test(numeric_cols[col])\n",
        "\n",
        "    # Evaluar la hipótesis nula\n",
        "    if p_value < alpha:\n",
        "        conclusion = 'Rechaza la hipótesis nula (no hay aleatoriedad)'\n",
        "    else:\n",
        "        conclusion = 'No se rechaza la hipótesis nula (hay aleatoriedad)'\n",
        "\n",
        "    results[col] = {\n",
        "        'Chi2 Statistic': chi2_stat,\n",
        "        'P-value': p_value,\n",
        "        'Conclusión': conclusion\n",
        "    }\n",
        "\n",
        "# Convertir los resultados a un DataFrame para visualización\n",
        "results_df = pd.DataFrame(results).T\n",
        "\n",
        "# Mostrar los resultados\n",
        "print(results_df)"
      ],
      "metadata": {
        "colab": {
          "base_uri": "https://localhost:8080/"
        },
        "id": "jCPiNLKwlSdG",
        "outputId": "2743a8d9-cdcf-40b6-e031-d5ce95d42cf4"
      },
      "execution_count": 32,
      "outputs": [
        {
          "output_type": "stream",
          "name": "stdout",
          "text": [
            "                                  Chi2 Statistic P-value  \\\n",
            "Método Cuadrados medios                87.003968     0.0   \n",
            "Método Congruencial                    78.306878     0.0   \n",
            "Método Congruencial  Mixto             92.691799     0.0   \n",
            "Aleatorios Google Sheets {RAND()}      76.025132     0.0   \n",
            "\n",
            "                                                                        Conclusión  \n",
            "Método Cuadrados medios            Rechaza la hipótesis nula (no hay aleatoriedad)  \n",
            "Método Congruencial                Rechaza la hipótesis nula (no hay aleatoriedad)  \n",
            "Método Congruencial  Mixto         Rechaza la hipótesis nula (no hay aleatoriedad)  \n",
            "Aleatorios Google Sheets {RAND()}  Rechaza la hipótesis nula (no hay aleatoriedad)  \n"
          ]
        }
      ]
    },
    {
      "cell_type": "markdown",
      "source": [
        "## De huecos"
      ],
      "metadata": {
        "id": "vi_ljht1l9Y_"
      }
    },
    {
      "cell_type": "code",
      "source": [
        "# Función para la prueba de huecos\n",
        "def gaps_test(data, lower_bound=0.4, upper_bound=0.6, max_gap_length=5):\n",
        "    # Identificar las posiciones donde los valores están dentro del rango especificado\n",
        "    in_range = (data >= lower_bound) & (data <= upper_bound)\n",
        "\n",
        "    # Contar la longitud de los huecos entre las apariciones dentro del rango\n",
        "    gap_lengths = []\n",
        "    gap_count = 0\n",
        "\n",
        "    for is_in_range in in_range:\n",
        "        if is_in_range:\n",
        "            if gap_count > 0:\n",
        "                gap_lengths.append(min(gap_count, max_gap_length))\n",
        "                gap_count = 0\n",
        "        else:\n",
        "            gap_count += 1\n",
        "\n",
        "    if gap_count > 0:\n",
        "        gap_lengths.append(min(gap_count, max_gap_length))\n",
        "\n",
        "    # Contar las frecuencias observadas de cada longitud de hueco\n",
        "    observed = pd.Series(gap_lengths).value_counts().reindex(range(1, max_gap_length + 1), fill_value=0).values\n",
        "\n",
        "    # Calcular las frecuencias esperadas para cada longitud de hueco\n",
        "    p_in_range = upper_bound - lower_bound\n",
        "    expected = [(p_in_range * (1 - p_in_range) ** (k - 1)) * len(data) for k in range(1, max_gap_length + 1)]\n",
        "\n",
        "    # Calcular el estadístico ji cuadrada\n",
        "    chi2_stat = ((observed - expected) ** 2 / expected).sum()\n",
        "\n",
        "    # Grados de libertad para la prueba\n",
        "    df = max_gap_length - 1\n",
        "\n",
        "    # Calcular el valor p\n",
        "    p_value = 1 - chi2.cdf(chi2_stat, df)\n",
        "\n",
        "    return chi2_stat, p_value"
      ],
      "metadata": {
        "id": "AamH4TlmmAJN"
      },
      "execution_count": 33,
      "outputs": []
    },
    {
      "cell_type": "code",
      "source": [
        "# Realizar la prueba de huecos en cada columna numérica\n",
        "results = {}\n",
        "alpha = 0.05  # Nivel de significancia\n",
        "\n",
        "for col in numeric_cols.columns:\n",
        "    # Obtener el estadístico chi2 y el valor p para la prueba de huecos\n",
        "    chi2_stat, p_value = gaps_test(numeric_cols[col])\n",
        "\n",
        "    # Evaluar la hipótesis nula\n",
        "    if p_value < alpha:\n",
        "        conclusion = 'Rechaza la hipótesis nula (no hay aleatoriedad)'\n",
        "    else:\n",
        "        conclusion = 'No se rechaza la hipótesis nula (hay aleatoriedad)'\n",
        "\n",
        "    results[col] = {\n",
        "        'Chi2 Statistic': chi2_stat,\n",
        "        'P-value': p_value,\n",
        "        'Conclusión': conclusion\n",
        "    }\n",
        "\n",
        "# Convertir los resultados a un DataFrame para visualización\n",
        "results_df = pd.DataFrame(results).T\n",
        "\n",
        "# Mostrar los resultados\n",
        "print(results_df)"
      ],
      "metadata": {
        "colab": {
          "base_uri": "https://localhost:8080/"
        },
        "id": "zy5b_OMAmH24",
        "outputId": "51fa318b-6689-4cbb-ffe7-42f8171864bb"
      },
      "execution_count": 34,
      "outputs": [
        {
          "output_type": "stream",
          "name": "stdout",
          "text": [
            "                                  Chi2 Statistic P-value  \\\n",
            "Método Cuadrados medios                43.986883     0.0   \n",
            "Método Congruencial                    53.747625     0.0   \n",
            "Método Congruencial  Mixto             41.756414     0.0   \n",
            "Aleatorios Google Sheets {RAND()}      49.557977     0.0   \n",
            "\n",
            "                                                                        Conclusión  \n",
            "Método Cuadrados medios            Rechaza la hipótesis nula (no hay aleatoriedad)  \n",
            "Método Congruencial                Rechaza la hipótesis nula (no hay aleatoriedad)  \n",
            "Método Congruencial  Mixto         Rechaza la hipótesis nula (no hay aleatoriedad)  \n",
            "Aleatorios Google Sheets {RAND()}  Rechaza la hipótesis nula (no hay aleatoriedad)  \n"
          ]
        }
      ]
    },
    {
      "cell_type": "markdown",
      "source": [
        "# Estimaciones de una DUE"
      ],
      "metadata": {
        "id": "5cagt_UYnLHo"
      }
    },
    {
      "cell_type": "markdown",
      "source": [
        "## Media"
      ],
      "metadata": {
        "id": "BfM-fI28nQxT"
      }
    },
    {
      "cell_type": "code",
      "source": [
        "# Función para la prueba de DUE media\n",
        "def due_mean_test(data):\n",
        "    # Calcular la media de la muestra\n",
        "    sample_mean = data.mean()\n",
        "\n",
        "    # Media y desviación estándar esperadas para una distribución uniforme\n",
        "    expected_mean = 0.5\n",
        "    sample_std = data.std(ddof=1)\n",
        "\n",
        "    # Tamaño de la muestra\n",
        "    n = len(data)\n",
        "\n",
        "    # Calcular el estadístico t\n",
        "    t_stat = (sample_mean - expected_mean) / (sample_std / (n ** 0.5))\n",
        "\n",
        "    # Calcular el valor p (prueba bilateral)\n",
        "    p_value = 2 * (1 - t.cdf(abs(t_stat), df=n-1))\n",
        "\n",
        "    return t_stat, p_value"
      ],
      "metadata": {
        "id": "Copz5PCYnS9G"
      },
      "execution_count": 35,
      "outputs": []
    },
    {
      "cell_type": "code",
      "source": [
        "# Realizar la prueba de DUE media en cada columna numérica\n",
        "results = {}\n",
        "alpha = 0.05  # Nivel de significancia\n",
        "\n",
        "for col in numeric_cols.columns:\n",
        "    # Obtener el estadístico t y el valor p para la prueba de DUE media\n",
        "    t_stat, p_value = due_mean_test(numeric_cols[col])\n",
        "\n",
        "    # Evaluar la hipótesis nula\n",
        "    if p_value < alpha:\n",
        "        conclusion = 'Rechaza la hipótesis nula (media diferente de 0.5)'\n",
        "    else:\n",
        "        conclusion = 'No se rechaza la hipótesis nula (media igual a 0.5)'\n",
        "\n",
        "    results[col] = {\n",
        "        'T Statistic': t_stat,\n",
        "        'P-value': p_value,\n",
        "        'Conclusión': conclusion\n",
        "    }\n",
        "\n",
        "# Convertir los resultados a un DataFrame para visualización\n",
        "results_df = pd.DataFrame(results).T\n",
        "\n",
        "# Mostrar los resultados\n",
        "print(results_df)"
      ],
      "metadata": {
        "colab": {
          "base_uri": "https://localhost:8080/"
        },
        "id": "O7NzykPEnZG6",
        "outputId": "d5baec53-78d5-455b-e52e-bb7bd7793fd1"
      },
      "execution_count": 36,
      "outputs": [
        {
          "output_type": "stream",
          "name": "stdout",
          "text": [
            "                                  T Statistic   P-value  \\\n",
            "Método Cuadrados medios              0.097114  0.922832   \n",
            "Método Congruencial                  0.860607  0.391534   \n",
            "Método Congruencial  Mixto          -0.510706  0.610694   \n",
            "Aleatorios Google Sheets {RAND()}    0.674192  0.501761   \n",
            "\n",
            "                                                                          Conclusión  \n",
            "Método Cuadrados medios            No se rechaza la hipótesis nula (media igual a...  \n",
            "Método Congruencial                No se rechaza la hipótesis nula (media igual a...  \n",
            "Método Congruencial  Mixto         No se rechaza la hipótesis nula (media igual a...  \n",
            "Aleatorios Google Sheets {RAND()}  No se rechaza la hipótesis nula (media igual a...  \n"
          ]
        }
      ]
    },
    {
      "cell_type": "markdown",
      "source": [
        "## Varianza"
      ],
      "metadata": {
        "id": "KxO5kFASnpUN"
      }
    },
    {
      "cell_type": "code",
      "source": [
        "# Función para la prueba de DUE de varianza\n",
        "def due_variance_test(data):\n",
        "    # Calcular la varianza de la muestra\n",
        "    sample_var = data.var(ddof=1)\n",
        "\n",
        "    # Varianza esperada para una distribución uniforme en [0, 1]\n",
        "    expected_var = 1 / 12\n",
        "\n",
        "    # Tamaño de la muestra\n",
        "    n = len(data)\n",
        "\n",
        "    # Calcular el estadístico chi cuadrada\n",
        "    chi2_stat = (n - 1) * sample_var / expected_var\n",
        "\n",
        "    # Calcular el valor p (prueba bilateral)\n",
        "    p_value = 2 * min(1 - chi2.cdf(chi2_stat, df=n-1), chi2.cdf(chi2_stat, df=n-1))\n",
        "\n",
        "    return chi2_stat, p_value"
      ],
      "metadata": {
        "id": "OuAPvcAXnrCm"
      },
      "execution_count": 37,
      "outputs": []
    },
    {
      "cell_type": "code",
      "source": [
        "# Realizar la prueba de DUE de varianza en cada columna numérica\n",
        "results = {}\n",
        "alpha = 0.05  # Nivel de significancia\n",
        "\n",
        "for col in numeric_cols.columns:\n",
        "    # Obtener el estadístico chi2 y el valor p para la prueba de DUE de varianza\n",
        "    chi2_stat, p_value = due_variance_test(numeric_cols[col])\n",
        "\n",
        "    # Evaluar la hipótesis nula\n",
        "    if p_value < alpha:\n",
        "        conclusion = 'Rechaza la hipótesis nula (varianza diferente de 1/12)'\n",
        "    else:\n",
        "        conclusion = 'No se rechaza la hipótesis nula (varianza igual a 1/12)'\n",
        "\n",
        "    results[col] = {\n",
        "        'Chi2 Statistic': chi2_stat,\n",
        "        'P-value': p_value,\n",
        "        'Conclusión': conclusion\n",
        "    }\n",
        "\n",
        "# Convertir los resultados a un DataFrame para visualización\n",
        "results_df = pd.DataFrame(results).T\n",
        "\n",
        "# Mostrar los resultados\n",
        "print(results_df)"
      ],
      "metadata": {
        "colab": {
          "base_uri": "https://localhost:8080/"
        },
        "id": "DqKvwbCSnxpZ",
        "outputId": "b00dc140-1c3a-4b87-c72a-13b281d0a0e6"
      },
      "execution_count": 38,
      "outputs": [
        {
          "output_type": "stream",
          "name": "stdout",
          "text": [
            "                                  Chi2 Statistic   P-value  \\\n",
            "Método Cuadrados medios                83.652449  0.269271   \n",
            "Método Congruencial                   106.422694  0.574127   \n",
            "Método Congruencial  Mixto               99.2565  0.947694   \n",
            "Aleatorios Google Sheets {RAND()}     110.618592  0.399566   \n",
            "\n",
            "                                                                          Conclusión  \n",
            "Método Cuadrados medios            No se rechaza la hipótesis nula (varianza igua...  \n",
            "Método Congruencial                No se rechaza la hipótesis nula (varianza igua...  \n",
            "Método Congruencial  Mixto         No se rechaza la hipótesis nula (varianza igua...  \n",
            "Aleatorios Google Sheets {RAND()}  No se rechaza la hipótesis nula (varianza igua...  \n"
          ]
        }
      ]
    }
  ]
}