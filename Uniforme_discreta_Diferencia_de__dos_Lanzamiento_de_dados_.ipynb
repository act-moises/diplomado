{
  "nbformat": 4,
  "nbformat_minor": 0,
  "metadata": {
    "colab": {
      "provenance": [],
      "authorship_tag": "ABX9TyOY0x9Umb5K5XE4GgOn25lv",
      "include_colab_link": true
    },
    "kernelspec": {
      "name": "python3",
      "display_name": "Python 3"
    },
    "language_info": {
      "name": "python"
    }
  },
  "cells": [
    {
      "cell_type": "markdown",
      "metadata": {
        "id": "view-in-github",
        "colab_type": "text"
      },
      "source": [
        "<a href=\"https://colab.research.google.com/github/act-moises/diplomado/blob/main/Uniforme_discreta_Diferencia_de__dos_Lanzamiento_de_dados_.ipynb\" target=\"_parent\"><img src=\"https://colab.research.google.com/assets/colab-badge.svg\" alt=\"Open In Colab\"/></a>"
      ]
    },
    {
      "cell_type": "code",
      "execution_count": 20,
      "metadata": {
        "id": "ZsZFB2SEoCgQ"
      },
      "outputs": [],
      "source": [
        "from itertools import product\n",
        "from fractions import Fraction"
      ]
    },
    {
      "cell_type": "code",
      "source": [
        "def P(A, Omega):\n",
        "  P = Fraction(len(A), len(Omega) )\n",
        "  return P"
      ],
      "metadata": {
        "id": "WQzT1TpIoLe_"
      },
      "execution_count": 30,
      "outputs": []
    },
    {
      "cell_type": "code",
      "source": [
        "L = [i for i in range(1,7)]\n",
        "\n",
        "Omega = set(product(L, repeat =2 ))\n",
        "Omega"
      ],
      "metadata": {
        "colab": {
          "base_uri": "https://localhost:8080/"
        },
        "id": "kR8_Bo5coN2N",
        "outputId": "0b5cdeff-c47d-442f-9080-3aa337ebb235"
      },
      "execution_count": 31,
      "outputs": [
        {
          "output_type": "execute_result",
          "data": {
            "text/plain": [
              "{(1, 1),\n",
              " (1, 2),\n",
              " (1, 3),\n",
              " (1, 4),\n",
              " (1, 5),\n",
              " (1, 6),\n",
              " (2, 1),\n",
              " (2, 2),\n",
              " (2, 3),\n",
              " (2, 4),\n",
              " (2, 5),\n",
              " (2, 6),\n",
              " (3, 1),\n",
              " (3, 2),\n",
              " (3, 3),\n",
              " (3, 4),\n",
              " (3, 5),\n",
              " (3, 6),\n",
              " (4, 1),\n",
              " (4, 2),\n",
              " (4, 3),\n",
              " (4, 4),\n",
              " (4, 5),\n",
              " (4, 6),\n",
              " (5, 1),\n",
              " (5, 2),\n",
              " (5, 3),\n",
              " (5, 4),\n",
              " (5, 5),\n",
              " (5, 6),\n",
              " (6, 1),\n",
              " (6, 2),\n",
              " (6, 3),\n",
              " (6, 4),\n",
              " (6, 5),\n",
              " (6, 6)}"
            ]
          },
          "metadata": {},
          "execution_count": 31
        }
      ]
    },
    {
      "cell_type": "code",
      "source": [
        "D = {(i,j): i-j for i,j in Omega}\n",
        "\n",
        "D"
      ],
      "metadata": {
        "colab": {
          "base_uri": "https://localhost:8080/"
        },
        "id": "aOvJXcGfomqB",
        "outputId": "f616216c-f4b6-4ea9-c9bd-b504c72d69a4"
      },
      "execution_count": 38,
      "outputs": [
        {
          "output_type": "execute_result",
          "data": {
            "text/plain": [
              "{(3, 4): -1,\n",
              " (4, 3): 1,\n",
              " (3, 1): 2,\n",
              " (5, 4): 1,\n",
              " (4, 6): -2,\n",
              " (5, 1): 4,\n",
              " (2, 2): 0,\n",
              " (1, 6): -5,\n",
              " (2, 5): -3,\n",
              " (1, 3): -2,\n",
              " (6, 2): 4,\n",
              " (6, 5): 1,\n",
              " (4, 2): 2,\n",
              " (4, 5): -1,\n",
              " (3, 3): 0,\n",
              " (5, 6): -1,\n",
              " (3, 6): -3,\n",
              " (5, 3): 2,\n",
              " (2, 4): -2,\n",
              " (1, 2): -1,\n",
              " (2, 1): 1,\n",
              " (1, 5): -4,\n",
              " (6, 1): 5,\n",
              " (6, 4): 2,\n",
              " (3, 2): 1,\n",
              " (4, 1): 3,\n",
              " (3, 5): -2,\n",
              " (5, 2): 3,\n",
              " (4, 4): 0,\n",
              " (5, 5): 0,\n",
              " (1, 1): 0,\n",
              " (1, 4): -3,\n",
              " (2, 3): -1,\n",
              " (2, 6): -4,\n",
              " (6, 6): 0,\n",
              " (6, 3): 3}"
            ]
          },
          "metadata": {},
          "execution_count": 38
        }
      ]
    },
    {
      "cell_type": "code",
      "source": [
        "from collections import defaultdict\n",
        "\n",
        "dD = defaultdict(set)\n",
        "dD"
      ],
      "metadata": {
        "colab": {
          "base_uri": "https://localhost:8080/"
        },
        "id": "ZoHAmdgCo5VY",
        "outputId": "a38b911b-7ecb-4c93-aceb-e51306419ca3"
      },
      "execution_count": 39,
      "outputs": [
        {
          "output_type": "execute_result",
          "data": {
            "text/plain": [
              "defaultdict(set, {})"
            ]
          },
          "metadata": {},
          "execution_count": 39
        }
      ]
    },
    {
      "cell_type": "code",
      "source": [
        "for l, v in D.items():\n",
        "  dD[v].add(l)\n",
        "\n",
        "dD"
      ],
      "metadata": {
        "colab": {
          "base_uri": "https://localhost:8080/"
        },
        "id": "c4gXvvKNo9NU",
        "outputId": "d18447e5-0a9c-4b42-aeb5-c42f4ef51469"
      },
      "execution_count": 40,
      "outputs": [
        {
          "output_type": "execute_result",
          "data": {
            "text/plain": [
              "defaultdict(set,\n",
              "            {-1: {(1, 2), (2, 3), (3, 4), (4, 5), (5, 6)},\n",
              "             1: {(2, 1), (3, 2), (4, 3), (5, 4), (6, 5)},\n",
              "             2: {(3, 1), (4, 2), (5, 3), (6, 4)},\n",
              "             -2: {(1, 3), (2, 4), (3, 5), (4, 6)},\n",
              "             4: {(5, 1), (6, 2)},\n",
              "             0: {(1, 1), (2, 2), (3, 3), (4, 4), (5, 5), (6, 6)},\n",
              "             -5: {(1, 6)},\n",
              "             -3: {(1, 4), (2, 5), (3, 6)},\n",
              "             -4: {(1, 5), (2, 6)},\n",
              "             5: {(6, 1)},\n",
              "             3: {(4, 1), (5, 2), (6, 3)}})"
            ]
          },
          "metadata": {},
          "execution_count": 40
        }
      ]
    },
    {
      "cell_type": "code",
      "source": [
        "leyD = {k : P(A,Omega) for k , A in dD.items() }\n",
        "leyD"
      ],
      "metadata": {
        "colab": {
          "base_uri": "https://localhost:8080/"
        },
        "id": "pRRYHv2bpXSF",
        "outputId": "ca269ee3-5605-4d18-af7f-4c442ba34a25"
      },
      "execution_count": 41,
      "outputs": [
        {
          "output_type": "execute_result",
          "data": {
            "text/plain": [
              "{-1: Fraction(5, 36),\n",
              " 1: Fraction(5, 36),\n",
              " 2: Fraction(1, 9),\n",
              " -2: Fraction(1, 9),\n",
              " 4: Fraction(1, 18),\n",
              " 0: Fraction(1, 6),\n",
              " -5: Fraction(1, 36),\n",
              " -3: Fraction(1, 12),\n",
              " -4: Fraction(1, 18),\n",
              " 5: Fraction(1, 36),\n",
              " 3: Fraction(1, 12)}"
            ]
          },
          "metadata": {},
          "execution_count": 41
        }
      ]
    },
    {
      "cell_type": "code",
      "source": [
        "import pandas as pd"
      ],
      "metadata": {
        "id": "0bgroxlrpgUt"
      },
      "execution_count": 42,
      "outputs": []
    },
    {
      "cell_type": "code",
      "source": [
        "leyD = pd.Series(leyD)\n",
        "leyD = leyD.sort_index()\n",
        "leyD"
      ],
      "metadata": {
        "colab": {
          "base_uri": "https://localhost:8080/"
        },
        "id": "ApRdwBeipi-q",
        "outputId": "07a1eb71-9d97-4ecb-e1ef-1b2d8478bfcd"
      },
      "execution_count": 43,
      "outputs": [
        {
          "output_type": "execute_result",
          "data": {
            "text/plain": [
              "-5    1/36\n",
              "-4    1/18\n",
              "-3    1/12\n",
              "-2     1/9\n",
              "-1    5/36\n",
              " 0     1/6\n",
              " 1    5/36\n",
              " 2     1/9\n",
              " 3    1/12\n",
              " 4    1/18\n",
              " 5    1/36\n",
              "dtype: object"
            ]
          },
          "metadata": {},
          "execution_count": 43
        }
      ]
    },
    {
      "cell_type": "code",
      "source": [
        "probabilidades = leyD.values\n",
        "suma_probabilidades = sum(probabilidades)\n",
        "\n",
        "if suma_probabilidades == 1:\n",
        "  print(\"La suma de todas las probabilidades es 1.\")\n",
        "else:\n",
        "  print(\"La suma de todas las probabilidades no es 1.\")\n"
      ],
      "metadata": {
        "colab": {
          "base_uri": "https://localhost:8080/"
        },
        "id": "BIY764kmpi01",
        "outputId": "c9dc8196-2d08-4cd2-8c14-49cdb2f0214d"
      },
      "execution_count": 45,
      "outputs": [
        {
          "output_type": "stream",
          "name": "stdout",
          "text": [
            "La suma de todas las probabilidades es 1.\n"
          ]
        }
      ]
    }
  ]
}