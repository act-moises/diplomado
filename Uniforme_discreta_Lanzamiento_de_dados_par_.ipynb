{
  "nbformat": 4,
  "nbformat_minor": 0,
  "metadata": {
    "colab": {
      "provenance": [],
      "authorship_tag": "ABX9TyMnP/HVEsaq3Gmhia7Fdaq6",
      "include_colab_link": true
    },
    "kernelspec": {
      "name": "python3",
      "display_name": "Python 3"
    },
    "language_info": {
      "name": "python"
    }
  },
  "cells": [
    {
      "cell_type": "markdown",
      "metadata": {
        "id": "view-in-github",
        "colab_type": "text"
      },
      "source": [
        "<a href=\"https://colab.research.google.com/github/act-moises/diplomado/blob/main/Uniforme_discreta_Lanzamiento_de_dados_par_.ipynb\" target=\"_parent\"><img src=\"https://colab.research.google.com/assets/colab-badge.svg\" alt=\"Open In Colab\"/></a>"
      ]
    },
    {
      "cell_type": "code",
      "execution_count": 14,
      "metadata": {
        "id": "ZsZFB2SEoCgQ"
      },
      "outputs": [],
      "source": [
        "from itertools import product\n",
        "from fractions import Fraction"
      ]
    },
    {
      "cell_type": "code",
      "source": [
        "def P(A, Omega):\n",
        "  P = Fraction(len(A), len(Omega) )\n",
        "  return P"
      ],
      "metadata": {
        "id": "WQzT1TpIoLe_"
      },
      "execution_count": 20,
      "outputs": []
    },
    {
      "cell_type": "code",
      "source": [
        "E = [i for i in range(1,7)]\n",
        "\n",
        "Omega = set(product(E, repeat =2 ))\n",
        "Omega"
      ],
      "metadata": {
        "colab": {
          "base_uri": "https://localhost:8080/"
        },
        "id": "kR8_Bo5coN2N",
        "outputId": "56a0aaf2-2aad-425a-fb90-c99791e3f0aa"
      },
      "execution_count": 21,
      "outputs": [
        {
          "output_type": "execute_result",
          "data": {
            "text/plain": [
              "{(1, 1),\n",
              " (1, 2),\n",
              " (1, 3),\n",
              " (1, 4),\n",
              " (1, 5),\n",
              " (1, 6),\n",
              " (2, 1),\n",
              " (2, 2),\n",
              " (2, 3),\n",
              " (2, 4),\n",
              " (2, 5),\n",
              " (2, 6),\n",
              " (3, 1),\n",
              " (3, 2),\n",
              " (3, 3),\n",
              " (3, 4),\n",
              " (3, 5),\n",
              " (3, 6),\n",
              " (4, 1),\n",
              " (4, 2),\n",
              " (4, 3),\n",
              " (4, 4),\n",
              " (4, 5),\n",
              " (4, 6),\n",
              " (5, 1),\n",
              " (5, 2),\n",
              " (5, 3),\n",
              " (5, 4),\n",
              " (5, 5),\n",
              " (5, 6),\n",
              " (6, 1),\n",
              " (6, 2),\n",
              " (6, 3),\n",
              " (6, 4),\n",
              " (6, 5),\n",
              " (6, 6)}"
            ]
          },
          "metadata": {},
          "execution_count": 21
        }
      ]
    },
    {
      "cell_type": "code",
      "source": [
        "E = {(i,j): i%j for i,j in Omega}\n",
        "\n",
        "E"
      ],
      "metadata": {
        "colab": {
          "base_uri": "https://localhost:8080/"
        },
        "id": "aOvJXcGfomqB",
        "outputId": "71977e8d-7cad-47c4-ff99-b48b6022a1b5"
      },
      "execution_count": 22,
      "outputs": [
        {
          "output_type": "execute_result",
          "data": {
            "text/plain": [
              "{(3, 4): 3,\n",
              " (4, 3): 1,\n",
              " (3, 1): 0,\n",
              " (5, 4): 1,\n",
              " (4, 6): 4,\n",
              " (5, 1): 0,\n",
              " (2, 2): 0,\n",
              " (1, 6): 1,\n",
              " (2, 5): 2,\n",
              " (1, 3): 1,\n",
              " (6, 2): 0,\n",
              " (6, 5): 1,\n",
              " (4, 2): 0,\n",
              " (4, 5): 4,\n",
              " (3, 3): 0,\n",
              " (5, 6): 5,\n",
              " (3, 6): 3,\n",
              " (5, 3): 2,\n",
              " (2, 4): 2,\n",
              " (1, 2): 1,\n",
              " (2, 1): 0,\n",
              " (1, 5): 1,\n",
              " (6, 1): 0,\n",
              " (6, 4): 2,\n",
              " (3, 2): 1,\n",
              " (4, 1): 0,\n",
              " (3, 5): 3,\n",
              " (5, 2): 1,\n",
              " (4, 4): 0,\n",
              " (5, 5): 0,\n",
              " (1, 1): 0,\n",
              " (1, 4): 1,\n",
              " (2, 3): 2,\n",
              " (2, 6): 2,\n",
              " (6, 6): 0,\n",
              " (6, 3): 0}"
            ]
          },
          "metadata": {},
          "execution_count": 22
        }
      ]
    },
    {
      "cell_type": "code",
      "source": [
        "from collections import defaultdict\n",
        "\n",
        "dE = defaultdict(set)\n",
        "dE"
      ],
      "metadata": {
        "colab": {
          "base_uri": "https://localhost:8080/"
        },
        "id": "ZoHAmdgCo5VY",
        "outputId": "b1549040-f727-494b-dc7e-a78bfe7282c5"
      },
      "execution_count": 23,
      "outputs": [
        {
          "output_type": "execute_result",
          "data": {
            "text/plain": [
              "defaultdict(set, {})"
            ]
          },
          "metadata": {},
          "execution_count": 23
        }
      ]
    },
    {
      "cell_type": "code",
      "source": [
        "for l, v in E.items():\n",
        "  dE[v].add(l)\n",
        "\n",
        "dE"
      ],
      "metadata": {
        "colab": {
          "base_uri": "https://localhost:8080/"
        },
        "id": "c4gXvvKNo9NU",
        "outputId": "da4a13bb-d682-46d9-a699-4e12438d1cd1"
      },
      "execution_count": 24,
      "outputs": [
        {
          "output_type": "execute_result",
          "data": {
            "text/plain": [
              "defaultdict(set,\n",
              "            {3: {(3, 4), (3, 5), (3, 6)},\n",
              "             1: {(1, 2),\n",
              "              (1, 3),\n",
              "              (1, 4),\n",
              "              (1, 5),\n",
              "              (1, 6),\n",
              "              (3, 2),\n",
              "              (4, 3),\n",
              "              (5, 2),\n",
              "              (5, 4),\n",
              "              (6, 5)},\n",
              "             0: {(1, 1),\n",
              "              (2, 1),\n",
              "              (2, 2),\n",
              "              (3, 1),\n",
              "              (3, 3),\n",
              "              (4, 1),\n",
              "              (4, 2),\n",
              "              (4, 4),\n",
              "              (5, 1),\n",
              "              (5, 5),\n",
              "              (6, 1),\n",
              "              (6, 2),\n",
              "              (6, 3),\n",
              "              (6, 6)},\n",
              "             4: {(4, 5), (4, 6)},\n",
              "             2: {(2, 3), (2, 4), (2, 5), (2, 6), (5, 3), (6, 4)},\n",
              "             5: {(5, 6)}})"
            ]
          },
          "metadata": {},
          "execution_count": 24
        }
      ]
    },
    {
      "cell_type": "code",
      "source": [
        "leyE = {k : P(A,Omega) for k , A in dE.items() }\n",
        "leyE"
      ],
      "metadata": {
        "colab": {
          "base_uri": "https://localhost:8080/"
        },
        "id": "pRRYHv2bpXSF",
        "outputId": "90d1b205-8f60-4270-977f-1324f7e3b8cd"
      },
      "execution_count": 25,
      "outputs": [
        {
          "output_type": "execute_result",
          "data": {
            "text/plain": [
              "{3: Fraction(1, 12),\n",
              " 1: Fraction(5, 18),\n",
              " 0: Fraction(7, 18),\n",
              " 4: Fraction(1, 18),\n",
              " 2: Fraction(1, 6),\n",
              " 5: Fraction(1, 36)}"
            ]
          },
          "metadata": {},
          "execution_count": 25
        }
      ]
    },
    {
      "cell_type": "code",
      "source": [
        "import pandas as pd"
      ],
      "metadata": {
        "id": "0bgroxlrpgUt"
      },
      "execution_count": 26,
      "outputs": []
    },
    {
      "cell_type": "code",
      "source": [
        "leyE = pd.Series(leyE)\n",
        "leyE = leyE.sort_index()\n",
        "leyE"
      ],
      "metadata": {
        "colab": {
          "base_uri": "https://localhost:8080/"
        },
        "id": "ApRdwBeipi-q",
        "outputId": "f03cdb57-d599-4358-b626-b326ca66674a"
      },
      "execution_count": 27,
      "outputs": [
        {
          "output_type": "execute_result",
          "data": {
            "text/plain": [
              "0    7/18\n",
              "1    5/18\n",
              "2     1/6\n",
              "3    1/12\n",
              "4    1/18\n",
              "5    1/36\n",
              "dtype: object"
            ]
          },
          "metadata": {},
          "execution_count": 27
        }
      ]
    },
    {
      "cell_type": "code",
      "source": [
        "probabilidades = leyE.values\n",
        "suma_probabilidades = sum(probabilidades)\n",
        "\n",
        "if suma_probabilidades == 1:\n",
        "  print(\"La suma de todas las probabilidades es 1.\")\n",
        "else:\n",
        "  print(\"La suma de todas las probabilidades no es 1.\")\n"
      ],
      "metadata": {
        "colab": {
          "base_uri": "https://localhost:8080/"
        },
        "id": "BIY764kmpi01",
        "outputId": "acf5493c-4d4f-4eb4-c2bd-196ee841f39f"
      },
      "execution_count": 28,
      "outputs": [
        {
          "output_type": "stream",
          "name": "stdout",
          "text": [
            "La suma de todas las probabilidades es 1.\n"
          ]
        }
      ]
    }
  ]
}