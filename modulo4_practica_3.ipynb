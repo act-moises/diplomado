{
  "nbformat": 4,
  "nbformat_minor": 0,
  "metadata": {
    "colab": {
      "provenance": [],
      "authorship_tag": "ABX9TyMalr4Z4aMgCW+5NmrUg04X",
      "include_colab_link": true
    },
    "kernelspec": {
      "name": "ir",
      "display_name": "R"
    },
    "language_info": {
      "name": "R"
    }
  },
  "cells": [
    {
      "cell_type": "markdown",
      "metadata": {
        "id": "view-in-github",
        "colab_type": "text"
      },
      "source": [
        "<a href=\"https://colab.research.google.com/github/act-moises/diplomado/blob/main/modulo4_practica_3.ipynb\" target=\"_parent\"><img src=\"https://colab.research.google.com/assets/colab-badge.svg\" alt=\"Open In Colab\"/></a>"
      ]
    },
    {
      "cell_type": "markdown",
      "source": [
        "# Práctica 3. Preprocesamiento"
      ],
      "metadata": {
        "id": "ZWfPRrUXv33L"
      }
    },
    {
      "cell_type": "markdown",
      "source": [
        "## 1.\n",
        "Supongamos que los valores de un conjunto determinado de datos se\n",
        "agrupan en intervalos. Los intervalos y las frecuencias correspondientes\n",
        "son los siguientes:"
      ],
      "metadata": {
        "id": "6V3dlR9pv-dv"
      }
    },
    {
      "cell_type": "markdown",
      "source": [
        "\n",
        "\n",
        "| Edad     | Frecuencia |\n",
        "|----------|------------|\n",
        "| 1 - 5    | 600        |\n",
        "| 5 - 15   | 900        |\n",
        "| 15 - 20  | 1900       |\n",
        "| 20 - 50  | 850        |\n",
        "| 50 - 80  | 450        |\n",
        "| 80 - 110 | 85         |\n"
      ],
      "metadata": {
        "id": "wEIcFWsDvnvw"
      }
    },
    {
      "cell_type": "markdown",
      "source": [
        "### Procedimiento\n",
        "\n",
        "Asumiremos que las edades se distribuyen de forma uniforme."
      ],
      "metadata": {
        "id": "6rZsXBZxx8cv"
      }
    },
    {
      "cell_type": "markdown",
      "source": [
        "Asignamos los valores a dos variables en R para poder realizar el ejercicio:"
      ],
      "metadata": {
        "id": "zTUYEv1Uv1v9"
      }
    },
    {
      "cell_type": "code",
      "source": [
        "# Definir los intervalos y las frecuencias\n",
        "intervalos <- c(\"1-5\", \"5-15\", \"15-20\", \"20-50\", \"50-80\", \"80-110\")\n",
        "frecuencias <- c(600, 900, 1900, 850, 450, 85)"
      ],
      "metadata": {
        "id": "VzJv4xi9wSUT"
      },
      "execution_count": null,
      "outputs": []
    },
    {
      "cell_type": "markdown",
      "source": [
        "Ahora calculamos el punto medio de los datos:"
      ],
      "metadata": {
        "id": "RdmK24lCwkbD"
      }
    },
    {
      "cell_type": "code",
      "source": [
        "# Formula de punto medio: (limite_inferior + limite_superior) / 2\n",
        "\n",
        "## Punto medio de los intervalos\n",
        "puntos_medio <- c(\n",
        "  (1 + 5) / 2,     # Para el intervalo 1-5\n",
        "  (5 + 15) / 2,    # Para el intervalo 5-15\n",
        "  (15 + 20) / 2,   # Para el intervalo 15-20\n",
        "  (20 + 50) / 2,   # Para el intervalo 20-50\n",
        "  (50 + 80) / 2,   # Para el intervalo 50-80\n",
        "  (80 + 110) / 2   # Para el intervalo 80-110\n",
        ")\n",
        "# Imprimir los puntos medios\n",
        "print(\"Puntos medios:\")\n",
        "print(puntos_medio)"
      ],
      "metadata": {
        "colab": {
          "base_uri": "https://localhost:8080/"
        },
        "id": "2NkQKzktwqHr",
        "outputId": "73f15438-ec58-4d4f-d050-67cdad29aa5b"
      },
      "execution_count": null,
      "outputs": [
        {
          "output_type": "stream",
          "name": "stdout",
          "text": [
            "[1] \"Puntos medios:\"\n",
            "[1]  3.0 10.0 17.5 35.0 65.0 95.0\n"
          ]
        }
      ]
    },
    {
      "cell_type": "code",
      "source": [
        "A continuación multiplicamos la frecuencia de cada intervalo por su punto medio correspondiente:"
      ],
      "metadata": {
        "id": "rKKHXWDTxWVF"
      },
      "execution_count": null,
      "outputs": []
    },
    {
      "cell_type": "code",
      "source": [
        "# Suma de frecuencia * punto medio\n",
        "producto <- frecuencias * puntos_medio\n",
        "suma_producto <- sum(producto)\n",
        "\n",
        "# Imprimir el producto de frecuencias y puntos medios\n",
        "print(\"Producto de frecuencias y puntos medios:\")\n",
        "print(producto)"
      ],
      "metadata": {
        "colab": {
          "base_uri": "https://localhost:8080/"
        },
        "id": "FdF-9bsMxCQs",
        "outputId": "89aa5b3a-f440-4cd7-de48-36361d313e44"
      },
      "execution_count": null,
      "outputs": [
        {
          "output_type": "stream",
          "name": "stdout",
          "text": [
            "[1] \"Producto de frecuencias y puntos medios:\"\n",
            "[1]  1800  9000 33250 29750 29250  8075\n"
          ]
        }
      ]
    },
    {
      "cell_type": "markdown",
      "source": [
        "Calculamos la frecuencia total sumando las frecuencias:"
      ],
      "metadata": {
        "id": "Pwrol-Dyxlqr"
      }
    },
    {
      "cell_type": "code",
      "source": [
        "# Calcular la frecuencia total\n",
        "frecuencia_total <- sum(frecuencias)\n",
        "\n",
        "# Imprimir la frecuencia total\n",
        "print(paste(\"Frecuencia total:\", frecuencia_total))"
      ],
      "metadata": {
        "colab": {
          "base_uri": "https://localhost:8080/"
        },
        "id": "Xg9cZXZ8xkfa",
        "outputId": "396f7626-cb9b-4ca3-898e-71c2a50664e7"
      },
      "execution_count": null,
      "outputs": [
        {
          "output_type": "stream",
          "name": "stdout",
          "text": [
            "[1] \"Frecuencia total: 4785\"\n"
          ]
        }
      ]
    },
    {
      "cell_type": "markdown",
      "source": [
        "Finalmente dividimos el cálculo de las edades medias y la frecuencia total:"
      ],
      "metadata": {
        "id": "qaG_vJRDyPoR"
      }
    },
    {
      "cell_type": "code",
      "source": [
        "# Calcular el valor medio\n",
        "valor_medio <- suma_producto / frecuencia_total\n",
        "\n",
        "# Imprimir el valor medio\n",
        "print(paste(\"El valor medio aproximado es:\", round(valor_medio, 2), \"años\"))"
      ],
      "metadata": {
        "colab": {
          "base_uri": "https://localhost:8080/"
        },
        "id": "h1spyattxvJq",
        "outputId": "ce201eff-e0e5-4403-9a7e-7a187288d948"
      },
      "execution_count": null,
      "outputs": [
        {
          "output_type": "stream",
          "name": "stdout",
          "text": [
            "[1] \"El valor medio aproximado es: 23.22 años\"\n"
          ]
        }
      ]
    },
    {
      "cell_type": "markdown",
      "source": [
        "## 2.\n",
        "Supongamos que los datos para el análisis incluyen el atributo de Edad\n",
        "Los valores de la edad para las tuplas de datos son (en orden creciente)\n",
        "12, 15, 16, 16, 19,19, 20, 20, 20, 21, 22, 22, 25, 25, 25, 25, 30, 33, 34,\n",
        "35, 35, 35, 35, 36, 36,40, 45, 46, 51, 70, 72, 77"
      ],
      "metadata": {
        "id": "g_65QJX_zupQ"
      }
    },
    {
      "cell_type": "code",
      "source": [
        "Primero pasamos los datos a un vector:"
      ],
      "metadata": {
        "id": "t1CNCBuoz1mO"
      },
      "execution_count": null,
      "outputs": []
    },
    {
      "cell_type": "code",
      "source": [
        "# Datos de edad en orden creciente\n",
        "edades <- c(12, 15, 16, 16, 19, 19, 20, 20, 20, 21, 22, 22, 25, 25, 25, 25,\n",
        "            30, 33, 34, 35, 35, 35, 35, 36, 36, 40, 45, 46, 51, 70, 72, 77)"
      ],
      "metadata": {
        "id": "K06VRar-0SGZ"
      },
      "execution_count": null,
      "outputs": []
    },
    {
      "cell_type": "markdown",
      "source": [
        "a) Calcular la media y la mediana"
      ],
      "metadata": {
        "id": "GlaUgGyw0XYs"
      }
    },
    {
      "cell_type": "code",
      "source": [
        "media <- mean(edades)\n",
        "mediana <- median(edades)\n",
        "\n",
        "# Imprimir mediana\n",
        "print(paste(\"La media es:\", round(media, 2)))\n",
        "print(paste(\"La mediana es:\", mediana))"
      ],
      "metadata": {
        "colab": {
          "base_uri": "https://localhost:8080/"
        },
        "id": "ym0ZyY4s0VFa",
        "outputId": "2c779341-7a64-4767-b34e-fabb72bb5f5b"
      },
      "execution_count": null,
      "outputs": [
        {
          "output_type": "stream",
          "name": "stdout",
          "text": [
            "[1] \"La media es: 32.25\"\n",
            "[1] \"La mediana es: 27.5\"\n"
          ]
        }
      ]
    },
    {
      "cell_type": "markdown",
      "source": [
        "b) Calcular la moda"
      ],
      "metadata": {
        "id": "NHt1ES110eYu"
      }
    },
    {
      "cell_type": "code",
      "source": [
        "moda <- as.numeric(names(sort(table(edades), decreasing = TRUE)[1]))\n",
        "\n",
        "# Imprimir la moda\n",
        "print(paste(\"La moda es:\", moda))"
      ],
      "metadata": {
        "colab": {
          "base_uri": "https://localhost:8080/"
        },
        "id": "gNsTVRi10iDV",
        "outputId": "e2200990-ecac-4699-989d-0a1effadc46a"
      },
      "execution_count": null,
      "outputs": [
        {
          "output_type": "stream",
          "name": "stdout",
          "text": [
            "[1] \"La moda es: 25\"\n"
          ]
        }
      ]
    },
    {
      "cell_type": "markdown",
      "source": [
        "c) Normalización Min-Max para transformar el valor 44"
      ],
      "metadata": {
        "id": "9cp0VjVw0xOm"
      }
    },
    {
      "cell_type": "code",
      "source": [
        "min_val <- min(edades)\n",
        "max_val <- max(edades)\n",
        "valor <- 44\n",
        "valor_normalizado <- (valor - min_val) / (max_val - min_val)\n",
        "\n",
        "# Imprimir valor normalizado\n",
        "print(paste(\"El valor normalizado de 44 es:\", round(valor_normalizado, 4)))\n"
      ],
      "metadata": {
        "colab": {
          "base_uri": "https://localhost:8080/"
        },
        "id": "yehzI_mW0ytw",
        "outputId": "c46801d3-5232-4c14-dfd7-1f3e49dc2c4f"
      },
      "execution_count": null,
      "outputs": [
        {
          "output_type": "stream",
          "name": "stdout",
          "text": [
            "[1] \"El valor normalizado de 44 es: 0.4923\"\n"
          ]
        }
      ]
    },
    {
      "cell_type": "markdown",
      "source": [
        "d) Trazar un histograma de equi-distancia de longitud 8"
      ],
      "metadata": {
        "id": "MWWolzd90_s0"
      }
    },
    {
      "cell_type": "code",
      "source": [
        "# Se ajusta la longitud de los intervalos en el histograma\n",
        "hist(edades, breaks = seq(min(edades), max(edades), length.out = 9),\n",
        "     main = \"Histograma de Edades\",\n",
        "     xlab = \"Edad\",\n",
        "     ylab = \"Frecuencia\",\n",
        "     col = \"lightblue\",\n",
        "     border = \"black\")"
      ],
      "metadata": {
        "colab": {
          "base_uri": "https://localhost:8080/",
          "height": 437
        },
        "id": "PCeaPRwE1AiS",
        "outputId": "a76eb1c3-b5f1-4358-d001-2a5915978715"
      },
      "execution_count": null,
      "outputs": [
        {
          "output_type": "display_data",
          "data": {
            "text/plain": [
              "Plot with title “Histograma de Edades”"
            ],
            "image/png": "[encoded data removed]"
          },
          "metadata": {
            "image/png": {
              "width": 420,
              "height": 420
            }
          }
        }
      ]
    },
    {
      "cell_type": "markdown",
      "source": [
        "3.\n",
        "Cálculo de distancias, atributos numéricos"
      ],
      "metadata": {
        "id": "plHiTBgP5seh"
      }
    },
    {
      "cell_type": "code",
      "source": [
        "# Tuplas\n",
        "X1 <- c(7, 2)\n",
        "X2 <- c(4, 8)\n"
      ],
      "metadata": {
        "id": "CAFi1Yhs50ac"
      },
      "execution_count": null,
      "outputs": []
    },
    {
      "cell_type": "code",
      "source": [
        "# a) Calcular la distancia máxima\n",
        "distancia_maxima <- max(abs(X1 - X2))\n",
        "\n",
        "# b) Calcular la distancia de Manhattan\n",
        "distancia_manhattan <- sum(abs(X1 - X2))\n",
        "\n",
        "# c) Calcular la distancia Euclidiana\n",
        "distancia_euclidiana <- sqrt(sum((X1 - X2)^2))\n",
        "\n",
        "# Imprimir los resultados\n",
        "print(paste(\"Distancia máxima:\", distancia_maxima))\n",
        "print(paste(\"Distancia de Manhattan:\", distancia_manhattan))\n",
        "print(paste(\"Distancia Euclidiana:\", round(distancia_euclidiana, 2)))"
      ],
      "metadata": {
        "colab": {
          "base_uri": "https://localhost:8080/"
        },
        "id": "3umKfXk856CF",
        "outputId": "925b3912-2441-41ea-8096-1be5ae69b69f"
      },
      "execution_count": null,
      "outputs": [
        {
          "output_type": "stream",
          "name": "stdout",
          "text": [
            "[1] \"Distancia máxima: 6\"\n",
            "[1] \"Distancia de Manhattan: 9\"\n",
            "[1] \"Distancia Euclidiana: 6.71\"\n"
          ]
        }
      ]
    },
    {
      "cell_type": "markdown",
      "source": [
        "d) Graficar los resultados"
      ],
      "metadata": {
        "id": "MtiNDxt36GJd"
      }
    },
    {
      "cell_type": "code",
      "source": [
        "library(ggplot2)\n",
        "\n",
        "# Crear un data frame para las tuplas\n",
        "data <- data.frame(\n",
        "  x = c(X1[1], X2[1]),\n",
        "  y = c(X1[2], X2[2]),\n",
        "  label = c(\"X1\", \"X2\")\n",
        ")\n",
        "\n",
        "# Graficar las tuplas y las distancias\n",
        "ggplot(data, aes(x = x, y = y, label = label)) +\n",
        "  geom_point(size = 3, color = \"blue\") +\n",
        "  geom_text(vjust = -1, hjust = 1.5) +\n",
        "  geom_segment(aes(x = X1[1], y = X1[2], xend = X2[1], yend = X1[2]), color = \"red\", linetype = \"dashed\") +\n",
        "  geom_segment(aes(x = X2[1], y = X2[2], xend = X2[1], yend = X1[2]), color = \"red\", linetype = \"dashed\") +\n",
        "  geom_segment(aes(x = X1[1], y = X2[2], xend = X2[1], yend = X2[2]), color = \"green\") +\n",
        "  annotate(\"text\", x = (X1[1] + X2[1]) / 2, y = X1[2] + 1,\n",
        "           label = paste(\"Distancia de Manhattan:\", round(distancia_manhattan, 2)), color = \"red\") +\n",
        "  annotate(\"text\", x = (X1[1] + X2[1]) / 2 + 0.5, y = (X1[2] + X2[2]) / 2,\n",
        "           label = paste(\"Distancia Euclidiana:\", round(distancia_euclidiana, 2)), color = \"green\") +\n",
        "  annotate(\"text\", x = (X1[1] + X2[1]) / 2, y = X1[2] - 1.5,\n",
        "           label = paste(\"Distancia máxima:\", distancia_maxima), color = \"purple\") +\n",
        "  labs(title = \"Distancias entre X1 y X2\",\n",
        "       x = \"Eje X\",\n",
        "       y = \"Eje Y\") +\n",
        "  xlim(0, 8) + ylim(0, 10) +\n",
        "  theme_minimal()"
      ],
      "metadata": {
        "colab": {
          "base_uri": "https://localhost:8080/",
          "height": 437
        },
        "id": "tGO-yUE06HsX",
        "outputId": "e19309a9-9890-4ad5-8944-6505d2527254"
      },
      "execution_count": null,
      "outputs": [
        {
          "output_type": "display_data",
          "data": {
            "text/plain": [
              "plot without title"
            ],
            "image/png": "[encoded data removed]"
          },
          "metadata": {
            "image/png": {
              "width": 420,
              "height": 420
            }
          }
        }
      ]
    },
    {
      "cell_type": "markdown",
      "source": [
        "## 3.\n",
        "Cálculo de distancias, atributos categóricos"
      ],
      "metadata": {
        "id": "4YxVYn8a7RBr"
      }
    },
    {
      "cell_type": "code",
      "source": [
        "library(MASS)"
      ],
      "metadata": {
        "id": "lAXP9afp7ZkB"
      },
      "execution_count": null,
      "outputs": []
    },
    {
      "cell_type": "markdown",
      "source": [
        "a) Crear la tabla de datos"
      ],
      "metadata": {
        "id": "9GIkIAPO9na3"
      }
    },
    {
      "cell_type": "code",
      "source": [
        "datos <- data.frame(\n",
        "  ID = 1:7,\n",
        "  Color_ojos = c(\"Café\", \"Negro\", \"Azul\", \"Negro\", \"Café\", \"Verde\", \"Negro\"),\n",
        "  Sexo = c(\"F\", \"M\", \"F\", \"M\", \"F\", \"M\", \"M\"),\n",
        "  Edad = c(25, 22, 29, 26, 23, 29, 27)\n",
        ")\n",
        "# Imprimir datos\n",
        "print(datos)"
      ],
      "metadata": {
        "colab": {
          "base_uri": "https://localhost:8080/"
        },
        "id": "ElrQsJbP9lzM",
        "outputId": "9cac4058-507b-4b1d-91b5-01fbb07e16c9"
      },
      "execution_count": null,
      "outputs": [
        {
          "output_type": "stream",
          "name": "stdout",
          "text": [
            "  ID Color_ojos Sexo Edad\n",
            "1  1       Café    F   25\n",
            "2  2      Negro    M   22\n",
            "3  3       Azul    F   29\n",
            "4  4      Negro    M   26\n",
            "5  5       Café    F   23\n",
            "6  6      Verde    M   29\n",
            "7  7      Negro    M   27\n"
          ]
        }
      ]
    },
    {
      "cell_type": "markdown",
      "source": [
        "b) Calcular la distancia Euclidiana entre las tuplas 1 y 4"
      ],
      "metadata": {
        "id": "DkXAh41090m_"
      }
    },
    {
      "cell_type": "code",
      "source": [
        "tupla_1 <- c(datos$Edad[1])  # Edad de la tupla 1\n",
        "tupla_4 <- c(datos$Edad[4])  # Edad de la tupla 4\n",
        "distancia_euclidiana_1_4 <- sqrt(sum((tupla_1 - tupla_4)^2))\n",
        "print(paste(\"Distancia Euclidiana entre tuplas 1 y 4:\", distancia_euclidiana_1_4))"
      ],
      "metadata": {
        "colab": {
          "base_uri": "https://localhost:8080/"
        },
        "id": "xHVsJNVP91MB",
        "outputId": "a1e90172-b6c6-4a80-ccda-f51a32711c34"
      },
      "execution_count": null,
      "outputs": [
        {
          "output_type": "stream",
          "name": "stdout",
          "text": [
            "[1] \"Distancia Euclidiana entre tuplas 1 y 4: 1\"\n"
          ]
        }
      ]
    },
    {
      "cell_type": "markdown",
      "source": [
        "c) Calcular la distancia Euclidiana entre las tuplas 2 y 8"
      ],
      "metadata": {
        "id": "xf-Fjk4C979m"
      }
    },
    {
      "cell_type": "code",
      "source": [
        "# Nota: No hay una tupla 8, así que asumiremos que la tupla 7 es la última\n",
        "tupla_2 <- c(datos$Edad[2])  # Edad de la tupla 2\n",
        "tupla_7 <- c(datos$Edad[7])  # Edad de la tupla 7\n",
        "distancia_euclidiana_2_7 <- sqrt(sum((tupla_2 - tupla_7)^2))\n",
        "\n",
        "# Imprimir resultado\n",
        "print(paste(\"Distancia Euclidiana entre tuplas 2 y 7:\", distancia_euclidiana_2_7))"
      ],
      "metadata": {
        "colab": {
          "base_uri": "https://localhost:8080/"
        },
        "id": "4qxtim7k99hx",
        "outputId": "f946a9c2-8046-4598-ed1a-bc52dc0d12ef"
      },
      "execution_count": null,
      "outputs": [
        {
          "output_type": "stream",
          "name": "stdout",
          "text": [
            "[1] \"Distancia Euclidiana entre tuplas 2 y 7: 5\"\n"
          ]
        }
      ]
    },
    {
      "cell_type": "markdown",
      "source": [
        " d) Calcular la distancia de Manhattan entre las tuplas 1 y 4"
      ],
      "metadata": {
        "id": "46tyVg6j-IcH"
      }
    },
    {
      "cell_type": "code",
      "source": [
        "distancia_manhattan_1_4 <- sum(abs(tupla_1 - tupla_4))\n",
        "\n",
        "# Imprimir resultado\n",
        "print(paste(\"Distancia de Manhattan entre tuplas 1 y 4:\", distancia_manhattan_1_4))\n"
      ],
      "metadata": {
        "colab": {
          "base_uri": "https://localhost:8080/"
        },
        "id": "7Uy6GrHk-I4f",
        "outputId": "1b10723d-3280-4ec5-df6d-0a0c45ebc8fb"
      },
      "execution_count": null,
      "outputs": [
        {
          "output_type": "stream",
          "name": "stdout",
          "text": [
            "[1] \"Distancia de Manhattan entre tuplas 1 y 4: 1\"\n"
          ]
        }
      ]
    },
    {
      "cell_type": "code",
      "source": [
        "# Calcular la distancia de Manhattan entre las tuplas 2 y 7\n",
        "distancia_manhattan_2_7 <- sum(abs(tupla_2 - tupla_7))\n",
        "\n",
        "# Imprimir resultado\n",
        "print(paste(\"Distancia de Manhattan entre tuplas 2 y 7:\", distancia_manhattan_2_7))\n"
      ],
      "metadata": {
        "colab": {
          "base_uri": "https://localhost:8080/"
        },
        "id": "pojwGI-J-SiD",
        "outputId": "3b34f749-16a9-4502-ec5e-1d7577a5a751"
      },
      "execution_count": null,
      "outputs": [
        {
          "output_type": "stream",
          "name": "stdout",
          "text": [
            "[1] \"Distancia de Manhattan entre tuplas 2 y 7: 5\"\n"
          ]
        }
      ]
    },
    {
      "cell_type": "code",
      "source": [
        "e) Calcular la distancia de Mahalanobis"
      ],
      "metadata": {
        "id": "P8PLBXvD-VNM"
      },
      "execution_count": null,
      "outputs": []
    },
    {
      "cell_type": "code",
      "source": [
        "# Primero, normalizamos la edad\n",
        "edad_normalizada <- (datos$Edad - min(datos$Edad)) / (max(datos$Edad) - min(datos$Edad))\n",
        "datos$Edad_normalizada <- edad_normalizada\n",
        "\n",
        "# Matriz de covarianza para el cálculo de Mahalanobis\n",
        "cov_matrix <- cov(datos[, \"Edad_normalizada\", drop = FALSE])\n",
        "distancia_mahalanobis_1_4 <- mahalanobis(datos[1, \"Edad_normalizada\"], datos[4, \"Edad_normalizada\"], cov_matrix)\n",
        "\n",
        "# Imprimir resultado\n",
        "print(paste(\"Distancia de Mahalanobis entre tuplas 1 y 4:\", distancia_mahalanobis_1_4))\n",
        "\n"
      ],
      "metadata": {
        "colab": {
          "base_uri": "https://localhost:8080/"
        },
        "id": "xjV8r7IY-a9I",
        "outputId": "0fbc33ab-91b7-4c2a-aefb-c3f428ea23e7"
      },
      "execution_count": null,
      "outputs": [
        {
          "output_type": "stream",
          "name": "stdout",
          "text": [
            "[1] \"Distancia de Mahalanobis entre tuplas 1 y 4: 0.133757961783439\"\n"
          ]
        }
      ]
    },
    {
      "cell_type": "code",
      "source": [
        "# Calcular Mahalanobis entre tuplas 2 y 7\n",
        "distancia_mahalanobis_2_7 <- mahalanobis(datos[2, \"Edad_normalizada\"], datos[7, \"Edad_normalizada\"], cov_matrix)\n",
        "\n",
        "# Imprimir resultado\n",
        "print(paste(\"Distancia de Mahalanobis entre tuplas 2 y 7:\", distancia_mahalanobis_2_7))"
      ],
      "metadata": {
        "colab": {
          "base_uri": "https://localhost:8080/"
        },
        "id": "TobK__bh-dha",
        "outputId": "213981e7-0e04-42c2-d54e-85dfb7240c43"
      },
      "execution_count": null,
      "outputs": [
        {
          "output_type": "stream",
          "name": "stdout",
          "text": [
            "[1] \"Distancia de Mahalanobis entre tuplas 2 y 7: 3.34394904458599\"\n"
          ]
        }
      ]
    },
    {
      "cell_type": "code",
      "source": [
        "# Cargar librerías necesarias\n",
        "library(ggplot2)"
      ],
      "metadata": {
        "id": "vztWFrXs_DTR"
      },
      "execution_count": null,
      "outputs": []
    },
    {
      "cell_type": "code",
      "source": [
        "# Convertir atributos categóricos a numéricos para la correlación\n",
        "datos$Sexo_numeric <- ifelse(datos$Sexo == \"M\", 1, 0)  # M: 1, F: 0\n",
        "datos$Color_ojos_numeric <- as.numeric(factor(datos$Color_ojos))\n",
        "\n",
        "# Calcular la matriz de correlación\n",
        "correlation_matrix <- cor(datos[, c(\"Edad\", \"Sexo_numeric\", \"Color_ojos_numeric\")])\n",
        "\n",
        "# Imprimir la matriz de correlación\n",
        "print(\"Matriz de correlación:\")\n",
        "print(correlation_matrix)\n"
      ],
      "metadata": {
        "colab": {
          "base_uri": "https://localhost:8080/"
        },
        "id": "5CGzVB4p_Fe_",
        "outputId": "dad60957-28ed-4852-8749-cd6f44009134"
      },
      "execution_count": null,
      "outputs": [
        {
          "output_type": "stream",
          "name": "stdout",
          "text": [
            "[1] \"Matriz de correlación:\"\n",
            "                         Edad Sexo_numeric Color_ojos_numeric\n",
            "Edad               1.00000000   0.06516352         0.03569153\n",
            "Sexo_numeric       0.06516352   1.00000000         0.86722738\n",
            "Color_ojos_numeric 0.03569153   0.86722738         1.00000000\n"
          ]
        }
      ]
    },
    {
      "cell_type": "code",
      "source": [
        "# Conclusiones sobre la matriz de correlación\n",
        "# Observamos la relación entre Edad, Sexo y Color de ojos\n",
        "conclusiones_correlacion <- list(\n",
        "  \"La edad tiene una correlación positiva con el color de ojos, lo que sugiere que a medida que aumenta la edad, puede haber un cambio en la preferencia del color de ojos.\",\n",
        "  \"La edad tiene una correlación débil con el sexo, indicando que no hay una diferencia significativa en la edad entre los sexos en este conjunto de datos.\"\n",
        ")"
      ],
      "metadata": {
        "id": "jRjktGi8_KSG"
      },
      "execution_count": null,
      "outputs": []
    },
    {
      "cell_type": "code",
      "source": [
        "# Elaborar un modelo de regresión lineal\n",
        "modelo <- lm(Edad ~ Sexo_numeric + Color_ojos_numeric, data = datos)\n",
        "\n",
        "# Resumen del modelo\n",
        "summary(modelo)\n"
      ],
      "metadata": {
        "colab": {
          "base_uri": "https://localhost:8080/",
          "height": 347
        },
        "id": "EOllAMEu_NCy",
        "outputId": "eb3821af-dbff-48f7-a50b-8c114124bd48"
      },
      "execution_count": null,
      "outputs": [
        {
          "output_type": "display_data",
          "data": {
            "text/plain": [
              "\n",
              "Call:\n",
              "lm(formula = Edad ~ Sexo_numeric + Color_ojos_numeric, data = datos)\n",
              "\n",
              "Residuals:\n",
              "       1        2        3        4        5        6        7 \n",
              "-0.58824 -4.05882  3.17647 -0.05882 -2.58824  3.17647  0.94118 \n",
              "\n",
              "Coefficients:\n",
              "                   Estimate Std. Error t value Pr(>|t|)   \n",
              "(Intercept)         26.0588     5.0569   5.153  0.00673 **\n",
              "Sexo_numeric         0.7059     5.1214   0.138  0.89703   \n",
              "Color_ojos_numeric  -0.2353     2.8051  -0.084  0.93718   \n",
              "---\n",
              "Signif. codes:  0 ‘***’ 0.001 ‘**’ 0.01 ‘*’ 0.05 ‘.’ 0.1 ‘ ’ 1\n",
              "\n",
              "Residual standard error: 3.339 on 4 degrees of freedom\n",
              "Multiple R-squared:  0.005995,\tAdjusted R-squared:  -0.491 \n",
              "F-statistic: 0.01206 on 2 and 4 DF,  p-value: 0.988\n"
            ]
          },
          "metadata": {}
        }
      ]
    },
    {
      "cell_type": "code",
      "source": [
        "# Graficar los resultados del modelo\n",
        "ggplot(datos, aes(x = Sexo_numeric, y = Edad)) +\n",
        "  geom_point(aes(color = Color_ojos), size = 3) +\n",
        "  geom_smooth(method = \"lm\", se = FALSE) +\n",
        "  labs(title = \"Modelo de Regresión Lineal\",\n",
        "       x = \"Sexo (M=1, F=0)\",\n",
        "       y = \"Edad\") +\n",
        "  theme_minimal()"
      ],
      "metadata": {
        "colab": {
          "base_uri": "https://localhost:8080/",
          "height": 454
        },
        "id": "Z4UiFbrm_Rml",
        "outputId": "efa3b990-1c40-4e10-f7b8-e613a14096fc"
      },
      "execution_count": null,
      "outputs": [
        {
          "output_type": "stream",
          "name": "stderr",
          "text": [
            "\u001b[1m\u001b[22m`geom_smooth()` using formula = 'y ~ x'\n"
          ]
        },
        {
          "output_type": "display_data",
          "data": {
            "text/plain": [
              "plot without title"
            ],
            "image/png": "[encoded data removed]"
          },
          "metadata": {
            "image/png": {
              "width": 420,
              "height": 420
            }
          }
        }
      ]
    },
    {
      "cell_type": "markdown",
      "source": [
        "## Conclusiones:\n",
        "### Matriz de Correlación:\n",
        "\n",
        "La edad presenta una correlación positiva moderada con el color de ojos, indicando que puede haber una relación.\n",
        "La correlación entre edad y sexo es baja, sugiriendo que no hay diferencias significativas en la edad según el sexo en este conjunto de datos.\n",
        "\n",
        "###Modelo de Regresión Lineal:\n",
        "\n",
        "El resumen del modelo proporciona información sobre los coeficientes, el valor R² y las pruebas de hipótesis para los coeficientes.\n",
        "Un R² cercano a 1 indica que el modelo explica bien la variabilidad de la edad. Observa los coeficientes para entender cómo influyen el sexo y el color de ojos en la edad."
      ],
      "metadata": {
        "id": "KPLfbKrT_WVe"
      }
    },
    {
      "cell_type": "code",
      "source": [],
      "metadata": {
        "id": "wCcfyFj5_csN"
      },
      "execution_count": null,
      "outputs": []
    }
  ]
}