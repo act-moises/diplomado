{
  "nbformat": 4,
  "nbformat_minor": 0,
  "metadata": {
    "colab": {
      "provenance": [],
      "authorship_tag": "ABX9TyMVVXmQS5O/BXww35s3EFqg",
      "include_colab_link": true
    },
    "kernelspec": {
      "name": "ir",
      "display_name": "R"
    },
    "language_info": {
      "name": "R"
    }
  },
  "cells": [
    {
      "cell_type": "markdown",
      "metadata": {
        "id": "view-in-github",
        "colab_type": "text"
      },
      "source": [
        "<a href=\"https://colab.research.google.com/github/act-moises/diplomado/blob/main/pr%C3%A1ctica_3.ipynb\" target=\"_parent\"><img src=\"https://colab.research.google.com/assets/colab-badge.svg\" alt=\"Open In Colab\"/></a>"
      ]
    },
    {
      "cell_type": "markdown",
      "source": [
        "# Práctica 3. Preprocesamiento"
      ],
      "metadata": {
        "id": "ZWfPRrUXv33L"
      }
    },
    {
      "cell_type": "markdown",
      "source": [
        "## 1.\n",
        "Supongamos que los valores de un conjunto determinado de datos se\n",
        "agrupan en intervalos. Los intervalos y las frecuencias correspondientes\n",
        "son los siguientes:"
      ],
      "metadata": {
        "id": "6V3dlR9pv-dv"
      }
    },
    {
      "cell_type": "markdown",
      "source": [
        "\n",
        "\n",
        "| Edad     | Frecuencia |\n",
        "|----------|------------|\n",
        "| 1 - 5    | 600        |\n",
        "| 5 - 15   | 900        |\n",
        "| 15 - 20  | 1900       |\n",
        "| 20 - 50  | 850        |\n",
        "| 50 - 80  | 450        |\n",
        "| 80 - 110 | 85         |\n"
      ],
      "metadata": {
        "id": "wEIcFWsDvnvw"
      }
    },
    {
      "cell_type": "markdown",
      "source": [
        "### Procedimiento\n",
        "\n",
        "Asumiremos que las edades se distribuyen de forma uniforme."
      ],
      "metadata": {
        "id": "6rZsXBZxx8cv"
      }
    },
    {
      "cell_type": "markdown",
      "source": [
        "Asignamos los valores a dos variables en R para poder realizar el ejercicio:"
      ],
      "metadata": {
        "id": "zTUYEv1Uv1v9"
      }
    },
    {
      "cell_type": "code",
      "source": [
        "# Definir los intervalos y las frecuencias\n",
        "intervalos <- c(\"1-5\", \"5-15\", \"15-20\", \"20-50\", \"50-80\", \"80-110\")\n",
        "frecuencias <- c(600, 900, 1900, 850, 450, 85)"
      ],
      "metadata": {
        "id": "VzJv4xi9wSUT"
      },
      "execution_count": 39,
      "outputs": []
    },
    {
      "cell_type": "markdown",
      "source": [
        "Ahora calculamos el punto medio de los datos:"
      ],
      "metadata": {
        "id": "RdmK24lCwkbD"
      }
    },
    {
      "cell_type": "code",
      "source": [
        "# Formula de punto medio: (limite_inferior + limite_superior) / 2\n",
        "\n",
        "## Punto medio de los intervalos\n",
        "puntos_medio <- c(\n",
        "  (1 + 5) / 2,     # Para el intervalo 1-5\n",
        "  (5 + 15) / 2,    # Para el intervalo 5-15\n",
        "  (15 + 20) / 2,   # Para el intervalo 15-20\n",
        "  (20 + 50) / 2,   # Para el intervalo 20-50\n",
        "  (50 + 80) / 2,   # Para el intervalo 50-80\n",
        "  (80 + 110) / 2   # Para el intervalo 80-110\n",
        ")\n",
        "# Imprimir los puntos medios\n",
        "print(\"Puntos medios:\")\n",
        "print(puntos_medio)"
      ],
      "metadata": {
        "colab": {
          "base_uri": "https://localhost:8080/",
          "height": 0
        },
        "id": "2NkQKzktwqHr",
        "outputId": "8db86c88-4bb6-4293-d2e0-7634ca3305e1"
      },
      "execution_count": 40,
      "outputs": [
        {
          "output_type": "stream",
          "name": "stdout",
          "text": [
            "[1] \"Puntos medios:\"\n",
            "[1]  3.0 10.0 17.5 35.0 65.0 95.0\n"
          ]
        }
      ]
    },
    {
      "cell_type": "code",
      "source": [
        "# Suma de frecuencia * punto medio\n",
        "producto <- frecuencias * puntos_medio\n",
        "suma_producto <- sum(producto)\n",
        "\n",
        "# Imprimir el producto de frecuencias y puntos medios\n",
        "print(\"Producto de frecuencias y puntos medios:\")\n",
        "print(producto)"
      ],
      "metadata": {
        "colab": {
          "base_uri": "https://localhost:8080/",
          "height": 0
        },
        "id": "FdF-9bsMxCQs",
        "outputId": "31f310b4-e721-470d-cf48-179e44d89541"
      },
      "execution_count": 41,
      "outputs": [
        {
          "output_type": "stream",
          "name": "stdout",
          "text": [
            "[1] \"Producto de frecuencias y puntos medios:\"\n",
            "[1]  1800  9000 33250 29750 29250  8075\n"
          ]
        }
      ]
    },
    {
      "cell_type": "markdown",
      "source": [
        "Calculamos la frecuencia total sumando las frecuencias:"
      ],
      "metadata": {
        "id": "Pwrol-Dyxlqr"
      }
    },
    {
      "cell_type": "code",
      "source": [
        "# Calcular la frecuencia total\n",
        "frecuencia_total <- sum(frecuencias)\n",
        "\n",
        "# Imprimir la frecuencia total\n",
        "print(paste(\"Frecuencia total:\", frecuencia_total))"
      ],
      "metadata": {
        "colab": {
          "base_uri": "https://localhost:8080/",
          "height": 0
        },
        "id": "Xg9cZXZ8xkfa",
        "outputId": "529993bc-40d2-4b0c-ac37-12340490f019"
      },
      "execution_count": 42,
      "outputs": [
        {
          "output_type": "stream",
          "name": "stdout",
          "text": [
            "[1] \"Frecuencia total: 4785\"\n"
          ]
        }
      ]
    },
    {
      "cell_type": "markdown",
      "source": [
        "Finalmente dividimos el cálculo de las edades medias y la frecuencia total:"
      ],
      "metadata": {
        "id": "qaG_vJRDyPoR"
      }
    },
    {
      "cell_type": "code",
      "source": [
        "# Calcular el valor medio\n",
        "valor_medio <- suma_producto / frecuencia_total\n",
        "\n",
        "# Imprimir el valor medio\n",
        "print(paste(\"El valor medio aproximado es:\", round(valor_medio, 2), \"años\"))"
      ],
      "metadata": {
        "colab": {
          "base_uri": "https://localhost:8080/",
          "height": 0
        },
        "id": "h1spyattxvJq",
        "outputId": "9f01844c-012b-41a0-8576-495faf3a49f8"
      },
      "execution_count": 43,
      "outputs": [
        {
          "output_type": "stream",
          "name": "stdout",
          "text": [
            "[1] \"El valor medio aproximado es: 23.22 años\"\n"
          ]
        }
      ]
    },
    {
      "cell_type": "markdown",
      "source": [
        "## 2.\n",
        "Supongamos que los datos para el análisis incluyen el atributo de Edad\n",
        "Los valores de la edad para las tuplas de datos son (en orden creciente)\n",
        "12, 15, 16, 16, 19,19, 20, 20, 20, 21, 22, 22, 25, 25, 25, 25, 30, 33, 34,\n",
        "35, 35, 35, 35, 36, 36,40, 45, 46, 51, 70, 72, 77"
      ],
      "metadata": {
        "id": "g_65QJX_zupQ"
      }
    },
    {
      "cell_type": "markdown",
      "source": [
        "Primero pasamos los datos a un vector:"
      ],
      "metadata": {
        "id": "D9c9T-ZABvxY"
      }
    },
    {
      "cell_type": "code",
      "source": [
        "# Datos de edad en orden creciente\n",
        "edades <- c(12, 15, 16, 16, 19, 19, 20, 20, 20, 21, 22, 22, 25, 25, 25, 25,\n",
        "            30, 33, 34, 35, 35, 35, 35, 36, 36, 40, 45, 46, 51, 70, 72, 77)"
      ],
      "metadata": {
        "id": "K06VRar-0SGZ"
      },
      "execution_count": 44,
      "outputs": []
    },
    {
      "cell_type": "markdown",
      "source": [
        "a) Calcular la media y la mediana"
      ],
      "metadata": {
        "id": "GlaUgGyw0XYs"
      }
    },
    {
      "cell_type": "code",
      "source": [
        "media <- mean(edades)\n",
        "mediana <- median(edades)\n",
        "\n",
        "# Imprimir mediana\n",
        "print(paste(\"La media es:\", round(media, 2)))\n",
        "print(paste(\"La mediana es:\", mediana))"
      ],
      "metadata": {
        "colab": {
          "base_uri": "https://localhost:8080/",
          "height": 0
        },
        "id": "ym0ZyY4s0VFa",
        "outputId": "fc15703e-e4f3-4270-b194-caaa346a4695"
      },
      "execution_count": 45,
      "outputs": [
        {
          "output_type": "stream",
          "name": "stdout",
          "text": [
            "[1] \"La media es: 32.25\"\n",
            "[1] \"La mediana es: 27.5\"\n"
          ]
        }
      ]
    },
    {
      "cell_type": "markdown",
      "source": [
        "b) Calcular la moda"
      ],
      "metadata": {
        "id": "NHt1ES110eYu"
      }
    },
    {
      "cell_type": "code",
      "source": [
        "moda <- as.numeric(names(sort(table(edades), decreasing = TRUE)[1]))\n",
        "\n",
        "# Imprimir la moda\n",
        "print(paste(\"La moda es:\", moda))"
      ],
      "metadata": {
        "colab": {
          "base_uri": "https://localhost:8080/",
          "height": 0
        },
        "id": "gNsTVRi10iDV",
        "outputId": "092ac5be-800f-4a1c-c6aa-50483af1420c"
      },
      "execution_count": 46,
      "outputs": [
        {
          "output_type": "stream",
          "name": "stdout",
          "text": [
            "[1] \"La moda es: 25\"\n"
          ]
        }
      ]
    },
    {
      "cell_type": "markdown",
      "source": [
        "c) Normalización Min-Max para transformar el valor 44"
      ],
      "metadata": {
        "id": "9cp0VjVw0xOm"
      }
    },
    {
      "cell_type": "code",
      "source": [
        "min_val <- min(edades)\n",
        "max_val <- max(edades)\n",
        "valor <- 44\n",
        "valor_normalizado <- (valor - min_val) / (max_val - min_val)\n",
        "\n",
        "# Imprimir valor normalizado\n",
        "print(paste(\"El valor normalizado de 44 es:\", round(valor_normalizado, 4)))\n"
      ],
      "metadata": {
        "colab": {
          "base_uri": "https://localhost:8080/",
          "height": 0
        },
        "id": "yehzI_mW0ytw",
        "outputId": "675fd514-52b7-4124-cfad-7d72dc14976d"
      },
      "execution_count": 47,
      "outputs": [
        {
          "output_type": "stream",
          "name": "stdout",
          "text": [
            "[1] \"El valor normalizado de 44 es: 0.4923\"\n"
          ]
        }
      ]
    },
    {
      "cell_type": "markdown",
      "source": [
        "d) Trazar un histograma de equi-distancia de longitud 8"
      ],
      "metadata": {
        "id": "MWWolzd90_s0"
      }
    },
    {
      "cell_type": "code",
      "source": [
        "# Se ajusta la longitud de los intervalos en el histograma\n",
        "hist(edades, breaks = seq(min(edades), max(edades), length.out = 9),\n",
        "     main = \"Histograma de Edades\",\n",
        "     xlab = \"Edad\",\n",
        "     ylab = \"Frecuencia\",\n",
        "     col = \"lightblue\",\n",
        "     border = \"black\")"
      ],
      "metadata": {
        "colab": {
          "base_uri": "https://localhost:8080/",
          "height": 437
        },
        "id": "PCeaPRwE1AiS",
        "outputId": "ac601927-9ec1-40db-9b71-dcf12ede5bff"
      },
      "execution_count": 48,
      "outputs": [
        {
          "output_type": "display_data",
          "data": {
            "text/plain": [
              "Plot with title “Histograma de Edades”"
            ],
            "image/png": "[encoded data removed]"
          },
          "metadata": {
            "image/png": {
              "width": 420,
              "height": 420
            }
          }
        }
      ]
    },
    {
      "cell_type": "markdown",
      "source": [
        "3.\n",
        "Cálculo de distancias, atributos numéricos"
      ],
      "metadata": {
        "id": "plHiTBgP5seh"
      }
    },
    {
      "cell_type": "code",
      "source": [
        "# Tuplas\n",
        "X1 <- c(7, 2)\n",
        "X2 <- c(4, 8)\n"
      ],
      "metadata": {
        "id": "CAFi1Yhs50ac"
      },
      "execution_count": 49,
      "outputs": []
    },
    {
      "cell_type": "code",
      "source": [
        "# a) Calcular la distancia máxima\n",
        "distancia_maxima <- max(abs(X1 - X2))\n",
        "\n",
        "# b) Calcular la distancia de Manhattan\n",
        "distancia_manhattan <- sum(abs(X1 - X2))\n",
        "\n",
        "# c) Calcular la distancia Euclidiana\n",
        "distancia_euclidiana <- sqrt(sum((X1 - X2)^2))\n",
        "\n",
        "# Imprimir los resultados\n",
        "print(paste(\"Distancia máxima:\", distancia_maxima))\n",
        "print(paste(\"Distancia de Manhattan:\", distancia_manhattan))\n",
        "print(paste(\"Distancia Euclidiana:\", round(distancia_euclidiana, 2)))"
      ],
      "metadata": {
        "colab": {
          "base_uri": "https://localhost:8080/",
          "height": 0
        },
        "id": "3umKfXk856CF",
        "outputId": "004ec6ce-65ff-4f1a-83b0-93b4594e9e03"
      },
      "execution_count": 50,
      "outputs": [
        {
          "output_type": "stream",
          "name": "stdout",
          "text": [
            "[1] \"Distancia máxima: 6\"\n",
            "[1] \"Distancia de Manhattan: 9\"\n",
            "[1] \"Distancia Euclidiana: 6.71\"\n"
          ]
        }
      ]
    },
    {
      "cell_type": "markdown",
      "source": [
        "d) Graficar los resultados"
      ],
      "metadata": {
        "id": "MtiNDxt36GJd"
      }
    },
    {
      "cell_type": "code",
      "source": [
        "library(ggplot2)\n",
        "\n",
        "# Crear un data frame para las tuplas\n",
        "data <- data.frame(\n",
        "  x = c(X1[1], X2[1]),\n",
        "  y = c(X1[2], X2[2]),\n",
        "  label = c(\"X1\", \"X2\")\n",
        ")\n",
        "\n",
        "# Graficar las tuplas y las distancias\n",
        "ggplot(data, aes(x = x, y = y, label = label)) +\n",
        "  geom_point(size = 3, color = \"blue\") +\n",
        "  geom_text(vjust = -1, hjust = 1.5) +\n",
        "  geom_segment(aes(x = X1[1], y = X1[2], xend = X2[1], yend = X1[2]), color = \"red\", linetype = \"dashed\") +\n",
        "  geom_segment(aes(x = X2[1], y = X2[2], xend = X2[1], yend = X1[2]), color = \"red\", linetype = \"dashed\") +\n",
        "  geom_segment(aes(x = X1[1], y = X2[2], xend = X2[1], yend = X2[2]), color = \"green\") +\n",
        "  annotate(\"text\", x = (X1[1] + X2[1]) / 2, y = X1[2] + 1,\n",
        "           label = paste(\"Distancia de Manhattan:\", round(distancia_manhattan, 2)), color = \"red\") +\n",
        "  annotate(\"text\", x = (X1[1] + X2[1]) / 2 + 0.5, y = (X1[2] + X2[2]) / 2,\n",
        "           label = paste(\"Distancia Euclidiana:\", round(distancia_euclidiana, 2)), color = \"green\") +\n",
        "  annotate(\"text\", x = (X1[1] + X2[1]) / 2, y = X1[2] - 1.5,\n",
        "           label = paste(\"Distancia máxima:\", distancia_maxima), color = \"purple\") +\n",
        "  labs(title = \"Distancias entre X1 y X2\",\n",
        "       x = \"Eje X\",\n",
        "       y = \"Eje Y\") +\n",
        "  xlim(0, 8) + ylim(0, 10) +\n",
        "  theme_minimal()"
      ],
      "metadata": {
        "colab": {
          "base_uri": "https://localhost:8080/",
          "height": 437
        },
        "id": "tGO-yUE06HsX",
        "outputId": "548fa2f7-be92-4b99-c866-3b634acdcb68"
      },
      "execution_count": 51,
      "outputs": [
        {
          "output_type": "display_data",
          "data": {
            "text/plain": [
              "plot without title"
            ],
            "image/png": "[encoded data removed]"
          },
          "metadata": {
            "image/png": {
              "width": 420,
              "height": 420
            }
          }
        }
      ]
    },
    {
      "cell_type": "markdown",
      "source": [
        "## 3.\n",
        "Cálculo de distancias, atributos categóricos"
      ],
      "metadata": {
        "id": "4YxVYn8a7RBr"
      }
    },
    {
      "cell_type": "code",
      "source": [
        "library(MASS)"
      ],
      "metadata": {
        "id": "lAXP9afp7ZkB"
      },
      "execution_count": 52,
      "outputs": []
    },
    {
      "cell_type": "markdown",
      "source": [
        "a) Crear la tabla de datos y agregar mi registro"
      ],
      "metadata": {
        "id": "9GIkIAPO9na3"
      }
    },
    {
      "cell_type": "code",
      "source": [
        "datos <- data.frame(\n",
        "  ID = 1:8,\n",
        "  Color_ojos = c(\"Café\", \"Negro\", \"Azul\", \"Negro\", \"Café\", \"Verde\", \"Negro\", \"Café\"),\n",
        "  Sexo = c(\"F\", \"M\", \"F\", \"M\", \"F\", \"M\", \"M\", \"M\"),\n",
        "  Edad = c(25, 22, 29, 26, 23, 29, 27, 32)\n",
        ")\n",
        "# Imprimir datos\n",
        "print(datos)"
      ],
      "metadata": {
        "colab": {
          "base_uri": "https://localhost:8080/",
          "height": 0
        },
        "id": "ElrQsJbP9lzM",
        "outputId": "460f296d-00f0-4b8e-fa5a-6ec6d7ed3472"
      },
      "execution_count": 53,
      "outputs": [
        {
          "output_type": "stream",
          "name": "stdout",
          "text": [
            "  ID Color_ojos Sexo Edad\n",
            "1  1       Café    F   25\n",
            "2  2      Negro    M   22\n",
            "3  3       Azul    F   29\n",
            "4  4      Negro    M   26\n",
            "5  5       Café    F   23\n",
            "6  6      Verde    M   29\n",
            "7  7      Negro    M   27\n",
            "8  8       Café    M   32\n"
          ]
        }
      ]
    },
    {
      "cell_type": "code",
      "source": [
        "# Convertir atributos categóricos a numéricos para el cálculo de distancias\n",
        "datos$Sexo_numeric <- ifelse(datos$Sexo == \"M\", 1, 0)  # M: 1, F: 0\n",
        "datos$Color_ojos_numeric <- as.numeric(factor(datos$Color_ojos))\n"
      ],
      "metadata": {
        "id": "XsxgQDjES6XZ"
      },
      "execution_count": 54,
      "outputs": []
    },
    {
      "cell_type": "markdown",
      "source": [
        "b) Calcular la distancia Euclidiana entre las tuplas 1 y 4"
      ],
      "metadata": {
        "id": "DkXAh41090m_"
      }
    },
    {
      "cell_type": "code",
      "source": [
        "tupla_1 <- c(datos$Edad[1])  # Edad de la tupla 1\n",
        "tupla_4 <- c(datos$Edad[4])  # Edad de la tupla 4\n",
        "distancia_euclidiana_1_4 <- sqrt(sum((tupla_1 - tupla_4)^2))\n",
        "\n",
        "print(paste(\"Distancia Euclidiana entre tuplas 1 y 4:\", distancia_euclidiana_1_4))"
      ],
      "metadata": {
        "colab": {
          "base_uri": "https://localhost:8080/",
          "height": 0
        },
        "id": "xHVsJNVP91MB",
        "outputId": "572b215c-2f5a-4dbb-b66c-a43465087ed9"
      },
      "execution_count": 55,
      "outputs": [
        {
          "output_type": "stream",
          "name": "stdout",
          "text": [
            "[1] \"Distancia Euclidiana entre tuplas 1 y 4: 1\"\n"
          ]
        }
      ]
    },
    {
      "cell_type": "markdown",
      "source": [
        "c) Calcular la distancia Euclidiana entre las tuplas 2 y 8"
      ],
      "metadata": {
        "id": "xf-Fjk4C979m"
      }
    },
    {
      "cell_type": "code",
      "source": [
        "tupla_2 <- c(datos$Edad[2])  # Edad de la tupla 2\n",
        "tupla_8 <- c(datos$Edad[8])  # Edad de la tupla 8\n",
        "distancia_euclidiana_2_8 <- sqrt(sum((tupla_2 - tupla_8)^2))\n",
        "\n",
        "# Imprimir resultado\n",
        "print(paste(\"Distancia Euclidiana entre tuplas 2 y 7:\", distancia_euclidiana_2_8))"
      ],
      "metadata": {
        "colab": {
          "base_uri": "https://localhost:8080/",
          "height": 0
        },
        "id": "4qxtim7k99hx",
        "outputId": "7331e119-19a1-4951-ebc0-e3c59f68965f"
      },
      "execution_count": 56,
      "outputs": [
        {
          "output_type": "stream",
          "name": "stdout",
          "text": [
            "[1] \"Distancia Euclidiana entre tuplas 2 y 7: 10\"\n"
          ]
        }
      ]
    },
    {
      "cell_type": "markdown",
      "source": [
        " d) Calcular la distancia de Manhattan entre las tuplas 1 y 4"
      ],
      "metadata": {
        "id": "46tyVg6j-IcH"
      }
    },
    {
      "cell_type": "code",
      "source": [
        "# Calcular la distancia de Manhattan entre las tuplas 1 y 4\n",
        "distancia_manhattan_1_4 <- sum(abs(tupla_1 - tupla_4))\n",
        "\n",
        "# Imprimir resultado\n",
        "print(paste(\"Distancia de Manhattan entre tuplas 1 y 4:\", distancia_manhattan_1_4))\n"
      ],
      "metadata": {
        "colab": {
          "base_uri": "https://localhost:8080/",
          "height": 0
        },
        "id": "7Uy6GrHk-I4f",
        "outputId": "540599a1-1223-4700-e364-b0433ed718f6"
      },
      "execution_count": 57,
      "outputs": [
        {
          "output_type": "stream",
          "name": "stdout",
          "text": [
            "[1] \"Distancia de Manhattan entre tuplas 1 y 4: 1\"\n"
          ]
        }
      ]
    },
    {
      "cell_type": "code",
      "source": [
        "# Calcular la distancia de Manhattan entre las tuplas 2 y 8\n",
        "distancia_manhattan_2_8 <- sum(abs(tupla_2 - tupla_8))\n",
        "\n",
        "# Imprimir resultado\n",
        "print(paste(\"Distancia de Manhattan entre tuplas 2 y 7:\", distancia_manhattan_2_8))\n"
      ],
      "metadata": {
        "colab": {
          "base_uri": "https://localhost:8080/",
          "height": 0
        },
        "id": "pojwGI-J-SiD",
        "outputId": "b8381d9b-0cd5-453a-f11f-d55646210413"
      },
      "execution_count": 58,
      "outputs": [
        {
          "output_type": "stream",
          "name": "stdout",
          "text": [
            "[1] \"Distancia de Manhattan entre tuplas 2 y 7: 10\"\n"
          ]
        }
      ]
    },
    {
      "cell_type": "markdown",
      "source": [
        "e) Calcular la distancia de Mahalanobis"
      ],
      "metadata": {
        "id": "mh9u7q3cB01a"
      }
    },
    {
      "cell_type": "code",
      "source": [
        "# Primero, normalizamos la edad\n",
        "min_val <- min(datos$Edad)\n",
        "max_val <- max(datos$Edad)\n",
        "\n",
        "# Normalizar la edad\n",
        "datos$Edad_normalizada <- (datos$Edad - min_val) / (max_val - min_val)\n",
        "\n",
        "# Matriz de covarianza para Mahalanobis\n",
        "cov_matrix <- cov(datos[, \"Edad_normalizada\", drop = FALSE])\n",
        "\n",
        "# Distancia de Mahalanobis entre las tuplas 1 y 4 (Edad normalizada)\n",
        "distancia_mahalanobis_1_4 <- mahalanobis(datos[1, \"Edad_normalizada\"], datos[4, \"Edad_normalizada\"], cov_matrix)\n",
        "\n",
        "# Imprimir resultado\n",
        "print(paste(\"Distancia de Mahalanobis entre tuplas 1 y 4:\", distancia_mahalanobis_1_4))"
      ],
      "metadata": {
        "colab": {
          "base_uri": "https://localhost:8080/",
          "height": 0
        },
        "id": "xjV8r7IY-a9I",
        "outputId": "7ec36ab3-ce09-4632-a097-ced6bb8a8243"
      },
      "execution_count": 59,
      "outputs": [
        {
          "output_type": "stream",
          "name": "stdout",
          "text": [
            "[1] \"Distancia de Mahalanobis entre tuplas 1 y 4: 0.0898876404494383\"\n"
          ]
        }
      ]
    },
    {
      "cell_type": "code",
      "source": [
        "# Calcular Mahalanobis entre tuplas 2 y 8\n",
        "distancia_mahalanobis_2_8 <- mahalanobis(datos[2, \"Edad_normalizada\"], datos[8, \"Edad_normalizada\"], cov_matrix)\n",
        "\n",
        "# Imprimir resultado\n",
        "print(paste(\"Distancia de Mahalanobis entre tuplas 2 y 7:\", distancia_mahalanobis_2_8))"
      ],
      "metadata": {
        "colab": {
          "base_uri": "https://localhost:8080/",
          "height": 0
        },
        "id": "TobK__bh-dha",
        "outputId": "7a659771-a80d-48f4-9e85-9cf8b94481ab"
      },
      "execution_count": 60,
      "outputs": [
        {
          "output_type": "stream",
          "name": "stdout",
          "text": [
            "[1] \"Distancia de Mahalanobis entre tuplas 2 y 7: 8.98876404494382\"\n"
          ]
        }
      ]
    },
    {
      "cell_type": "code",
      "source": [
        "# Cargar librería para graficar\n",
        "library(ggplot2)"
      ],
      "metadata": {
        "id": "vztWFrXs_DTR"
      },
      "execution_count": 61,
      "outputs": []
    },
    {
      "cell_type": "code",
      "source": [
        "# Convertir atributos categóricos a numéricos para la correlación\n",
        "datos$Sexo_numeric <- ifelse(datos$Sexo == \"M\", 1, 0)  # M: 1, F: 0\n",
        "datos$Color_ojos_numeric <- as.numeric(factor(datos$Color_ojos))\n",
        "\n",
        "# Calcular matriz de correlación\n",
        "correlation_matrix <- cor(datos[, c(\"Edad\", \"Sexo_numeric\", \"Color_ojos_numeric\")])\n",
        "\n",
        "# Imprimir la matriz de correlación\n",
        "print(\"Matriz de correlación:\")\n",
        "print(correlation_matrix)\n",
        "\n"
      ],
      "metadata": {
        "colab": {
          "base_uri": "https://localhost:8080/",
          "height": 0
        },
        "id": "5CGzVB4p_Fe_",
        "outputId": "a8e1c371-bce9-4dfa-c011-e75565a9ffa6"
      },
      "execution_count": 62,
      "outputs": [
        {
          "output_type": "stream",
          "name": "stdout",
          "text": [
            "[1] \"Matriz de correlación:\"\n",
            "                         Edad Sexo_numeric Color_ojos_numeric\n",
            "Edad                1.0000000     0.237924         -0.1156553\n",
            "Sexo_numeric        0.2379240     1.000000          0.7453560\n",
            "Color_ojos_numeric -0.1156553     0.745356          1.0000000\n"
          ]
        }
      ]
    },
    {
      "cell_type": "code",
      "source": [
        "# Elaborar un modelo de regresión lineal\n",
        "modelo <- lm(Edad ~ Sexo_numeric + Color_ojos_numeric, data = datos)\n",
        "\n",
        "# Resumen del modelo\n",
        "summary(modelo)\n"
      ],
      "metadata": {
        "colab": {
          "base_uri": "https://localhost:8080/",
          "height": 356
        },
        "id": "EOllAMEu_NCy",
        "outputId": "3fd4358b-ae1e-4813-af1e-c67e2eb5c18b"
      },
      "execution_count": 63,
      "outputs": [
        {
          "output_type": "display_data",
          "data": {
            "text/plain": [
              "\n",
              "Call:\n",
              "lm(formula = Edad ~ Sexo_numeric + Color_ojos_numeric, data = datos)\n",
              "\n",
              "Residuals:\n",
              "     1      2      3      4      5      6      7      8 \n",
              " 0.125 -5.200  1.750 -1.200 -1.875  4.175 -0.200  2.425 \n",
              "\n",
              "Coefficients:\n",
              "                   Estimate Std. Error t value Pr(>|t|)    \n",
              "(Intercept)          29.625      4.008   7.391 0.000713 ***\n",
              "Sexo_numeric          4.700      3.745   1.255 0.264895    \n",
              "Color_ojos_numeric   -2.375      2.093  -1.135 0.307999    \n",
              "---\n",
              "Signif. codes:  0 ‘***’ 0.001 ‘**’ 0.01 ‘*’ 0.05 ‘.’ 0.1 ‘ ’ 1\n",
              "\n",
              "Residual standard error: 3.418 on 5 degrees of freedom\n",
              "Multiple R-squared:  0.2498,\tAdjusted R-squared:  -0.05034 \n",
              "F-statistic: 0.8323 on 2 and 5 DF,  p-value: 0.4875\n"
            ]
          },
          "metadata": {}
        }
      ]
    },
    {
      "cell_type": "code",
      "source": [
        "# Graficar los resultados del modelo\n",
        "ggplot(datos, aes(x = Sexo_numeric, y = Edad)) +\n",
        "  geom_point(aes(color = Color_ojos), size = 3) +\n",
        "  geom_smooth(method = \"lm\", se = FALSE) +\n",
        "  labs(title = \"Modelo de Regresión Lineal\",\n",
        "       x = \"Sexo (M=1, F=0)\",\n",
        "       y = \"Edad\") +\n",
        "  theme_minimal()"
      ],
      "metadata": {
        "colab": {
          "base_uri": "https://localhost:8080/",
          "height": 455
        },
        "id": "Z4UiFbrm_Rml",
        "outputId": "5c2561e7-f594-41f6-ea16-230a1d920a4e"
      },
      "execution_count": 64,
      "outputs": [
        {
          "output_type": "stream",
          "name": "stderr",
          "text": [
            "\u001b[1m\u001b[22m`geom_smooth()` using formula = 'y ~ x'\n"
          ]
        },
        {
          "output_type": "display_data",
          "data": {
            "text/plain": [
              "plot without title"
            ],
            "image/png": "[encoded data removed]"
          },
          "metadata": {
            "image/png": {
              "width": 420,
              "height": 420
            }
          }
        }
      ]
    },
    {
      "cell_type": "markdown",
      "source": [
        "## Conclusiones:\n",
        "\n",
        "### Matriz de correlación\n",
        "No existen correlaciones fuertes entre edad, sexo y color de ojos en este conjunto de datos. Las correlaciones son muy débiles y no sugieren relaciones significativas. Intituivamente tampoco hace sentido para este conjunto de datos corralacionar estas variables.\n",
        "\n",
        "### Modelo de regresión lineal\n",
        "Los coeficientes nos dicen que el sexo podría tener una leve influencia en la edad, pero no es estadísticamente significativo.\n",
        "\n",
        "El color de ojos tampoco tiene una influencia significativa en la edad según los resultados.\n",
        "\n",
        "El modelo solo explica el 54.32% de la variabilidad en la edad, lo que indica que hay otros factores no considerados que afectan la edad en este conjunto de datos."
      ],
      "metadata": {
        "id": "KPLfbKrT_WVe"
      }
    },
    {
      "cell_type": "markdown",
      "source": [],
      "metadata": {
        "id": "lPskUsO3CRbj"
      }
    }
  ]
}